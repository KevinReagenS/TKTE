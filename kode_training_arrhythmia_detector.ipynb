{
  "cells": [
    {
      "cell_type": "markdown",
      "metadata": {
        "id": "860CMbaw6E0D"
      },
      "source": [
        "## Initialization"
      ]
    },
    {
      "cell_type": "code",
      "execution_count": null,
      "metadata": {
        "id": "MfW7AyaotEd_",
        "colab": {
          "base_uri": "https://localhost:8080/"
        },
        "outputId": "54153416-fb56-4c4c-ff22-0889a8911fe6"
      },
      "outputs": [
        {
          "output_type": "stream",
          "name": "stdout",
          "text": [
            "Requirement already satisfied: scikit-learn in /usr/local/lib/python3.11/dist-packages (1.6.1)\n",
            "Requirement already satisfied: numpy>=1.19.5 in /usr/local/lib/python3.11/dist-packages (from scikit-learn) (2.0.2)\n",
            "Requirement already satisfied: scipy>=1.6.0 in /usr/local/lib/python3.11/dist-packages (from scikit-learn) (1.15.3)\n",
            "Requirement already satisfied: joblib>=1.2.0 in /usr/local/lib/python3.11/dist-packages (from scikit-learn) (1.5.0)\n",
            "Requirement already satisfied: threadpoolctl>=3.1.0 in /usr/local/lib/python3.11/dist-packages (from scikit-learn) (3.6.0)\n",
            "Requirement already satisfied: imbalanced-learn in /usr/local/lib/python3.11/dist-packages (0.13.0)\n",
            "Requirement already satisfied: numpy<3,>=1.24.3 in /usr/local/lib/python3.11/dist-packages (from imbalanced-learn) (2.0.2)\n",
            "Requirement already satisfied: scipy<2,>=1.10.1 in /usr/local/lib/python3.11/dist-packages (from imbalanced-learn) (1.15.3)\n",
            "Requirement already satisfied: scikit-learn<2,>=1.3.2 in /usr/local/lib/python3.11/dist-packages (from imbalanced-learn) (1.6.1)\n",
            "Requirement already satisfied: sklearn-compat<1,>=0.1 in /usr/local/lib/python3.11/dist-packages (from imbalanced-learn) (0.1.3)\n",
            "Requirement already satisfied: joblib<2,>=1.1.1 in /usr/local/lib/python3.11/dist-packages (from imbalanced-learn) (1.5.0)\n",
            "Requirement already satisfied: threadpoolctl<4,>=2.0.0 in /usr/local/lib/python3.11/dist-packages (from imbalanced-learn) (3.6.0)\n",
            "Collecting wfdb\n",
            "  Downloading wfdb-4.3.0-py3-none-any.whl.metadata (3.8 kB)\n",
            "Requirement already satisfied: aiohttp>=3.10.11 in /usr/local/lib/python3.11/dist-packages (from wfdb) (3.11.15)\n",
            "Requirement already satisfied: fsspec>=2023.10.0 in /usr/local/lib/python3.11/dist-packages (from wfdb) (2025.3.2)\n",
            "Requirement already satisfied: matplotlib>=3.2.2 in /usr/local/lib/python3.11/dist-packages (from wfdb) (3.10.0)\n",
            "Requirement already satisfied: numpy>=1.26.4 in /usr/local/lib/python3.11/dist-packages (from wfdb) (2.0.2)\n",
            "Collecting pandas>=2.2.3 (from wfdb)\n",
            "  Downloading pandas-2.2.3-cp311-cp311-manylinux_2_17_x86_64.manylinux2014_x86_64.whl.metadata (89 kB)\n",
            "\u001b[2K     \u001b[90m━━━━━━━━━━━━━━━━━━━━━━━━━━━━━━━━━━━━━━━━\u001b[0m \u001b[32m89.9/89.9 kB\u001b[0m \u001b[31m4.8 MB/s\u001b[0m eta \u001b[36m0:00:00\u001b[0m\n",
            "\u001b[?25hRequirement already satisfied: requests>=2.8.1 in /usr/local/lib/python3.11/dist-packages (from wfdb) (2.32.3)\n",
            "Requirement already satisfied: scipy>=1.13.0 in /usr/local/lib/python3.11/dist-packages (from wfdb) (1.15.3)\n",
            "Requirement already satisfied: soundfile>=0.10.0 in /usr/local/lib/python3.11/dist-packages (from wfdb) (0.13.1)\n",
            "Requirement already satisfied: aiohappyeyeballs>=2.3.0 in /usr/local/lib/python3.11/dist-packages (from aiohttp>=3.10.11->wfdb) (2.6.1)\n",
            "Requirement already satisfied: aiosignal>=1.1.2 in /usr/local/lib/python3.11/dist-packages (from aiohttp>=3.10.11->wfdb) (1.3.2)\n",
            "Requirement already satisfied: attrs>=17.3.0 in /usr/local/lib/python3.11/dist-packages (from aiohttp>=3.10.11->wfdb) (25.3.0)\n",
            "Requirement already satisfied: frozenlist>=1.1.1 in /usr/local/lib/python3.11/dist-packages (from aiohttp>=3.10.11->wfdb) (1.6.0)\n",
            "Requirement already satisfied: multidict<7.0,>=4.5 in /usr/local/lib/python3.11/dist-packages (from aiohttp>=3.10.11->wfdb) (6.4.4)\n",
            "Requirement already satisfied: propcache>=0.2.0 in /usr/local/lib/python3.11/dist-packages (from aiohttp>=3.10.11->wfdb) (0.3.1)\n",
            "Requirement already satisfied: yarl<2.0,>=1.17.0 in /usr/local/lib/python3.11/dist-packages (from aiohttp>=3.10.11->wfdb) (1.20.0)\n",
            "Requirement already satisfied: contourpy>=1.0.1 in /usr/local/lib/python3.11/dist-packages (from matplotlib>=3.2.2->wfdb) (1.3.2)\n",
            "Requirement already satisfied: cycler>=0.10 in /usr/local/lib/python3.11/dist-packages (from matplotlib>=3.2.2->wfdb) (0.12.1)\n",
            "Requirement already satisfied: fonttools>=4.22.0 in /usr/local/lib/python3.11/dist-packages (from matplotlib>=3.2.2->wfdb) (4.58.0)\n",
            "Requirement already satisfied: kiwisolver>=1.3.1 in /usr/local/lib/python3.11/dist-packages (from matplotlib>=3.2.2->wfdb) (1.4.8)\n",
            "Requirement already satisfied: packaging>=20.0 in /usr/local/lib/python3.11/dist-packages (from matplotlib>=3.2.2->wfdb) (24.2)\n",
            "Requirement already satisfied: pillow>=8 in /usr/local/lib/python3.11/dist-packages (from matplotlib>=3.2.2->wfdb) (11.2.1)\n",
            "Requirement already satisfied: pyparsing>=2.3.1 in /usr/local/lib/python3.11/dist-packages (from matplotlib>=3.2.2->wfdb) (3.2.3)\n",
            "Requirement already satisfied: python-dateutil>=2.7 in /usr/local/lib/python3.11/dist-packages (from matplotlib>=3.2.2->wfdb) (2.9.0.post0)\n",
            "Requirement already satisfied: pytz>=2020.1 in /usr/local/lib/python3.11/dist-packages (from pandas>=2.2.3->wfdb) (2025.2)\n",
            "Requirement already satisfied: tzdata>=2022.7 in /usr/local/lib/python3.11/dist-packages (from pandas>=2.2.3->wfdb) (2025.2)\n",
            "Requirement already satisfied: charset-normalizer<4,>=2 in /usr/local/lib/python3.11/dist-packages (from requests>=2.8.1->wfdb) (3.4.2)\n",
            "Requirement already satisfied: idna<4,>=2.5 in /usr/local/lib/python3.11/dist-packages (from requests>=2.8.1->wfdb) (3.10)\n",
            "Requirement already satisfied: urllib3<3,>=1.21.1 in /usr/local/lib/python3.11/dist-packages (from requests>=2.8.1->wfdb) (2.4.0)\n",
            "Requirement already satisfied: certifi>=2017.4.17 in /usr/local/lib/python3.11/dist-packages (from requests>=2.8.1->wfdb) (2025.4.26)\n",
            "Requirement already satisfied: cffi>=1.0 in /usr/local/lib/python3.11/dist-packages (from soundfile>=0.10.0->wfdb) (1.17.1)\n",
            "Requirement already satisfied: pycparser in /usr/local/lib/python3.11/dist-packages (from cffi>=1.0->soundfile>=0.10.0->wfdb) (2.22)\n",
            "Requirement already satisfied: six>=1.5 in /usr/local/lib/python3.11/dist-packages (from python-dateutil>=2.7->matplotlib>=3.2.2->wfdb) (1.17.0)\n",
            "Downloading wfdb-4.3.0-py3-none-any.whl (163 kB)\n",
            "\u001b[2K   \u001b[90m━━━━━━━━━━━━━━━━━━━━━━━━━━━━━━━━━━━━━━━━\u001b[0m \u001b[32m163.8/163.8 kB\u001b[0m \u001b[31m4.8 MB/s\u001b[0m eta \u001b[36m0:00:00\u001b[0m\n",
            "\u001b[?25hDownloading pandas-2.2.3-cp311-cp311-manylinux_2_17_x86_64.manylinux2014_x86_64.whl (13.1 MB)\n",
            "\u001b[2K   \u001b[90m━━━━━━━━━━━━━━━━━━━━━━━━━━━━━━━━━━━━━━━━\u001b[0m \u001b[32m13.1/13.1 MB\u001b[0m \u001b[31m45.6 MB/s\u001b[0m eta \u001b[36m0:00:00\u001b[0m\n",
            "\u001b[?25hInstalling collected packages: pandas, wfdb\n",
            "  Attempting uninstall: pandas\n",
            "    Found existing installation: pandas 2.2.2\n",
            "    Uninstalling pandas-2.2.2:\n",
            "      Successfully uninstalled pandas-2.2.2\n",
            "\u001b[31mERROR: pip's dependency resolver does not currently take into account all the packages that are installed. This behaviour is the source of the following dependency conflicts.\n",
            "google-colab 1.0.0 requires pandas==2.2.2, but you have pandas 2.2.3 which is incompatible.\u001b[0m\u001b[31m\n",
            "\u001b[0mSuccessfully installed pandas-2.2.3 wfdb-4.3.0\n"
          ]
        }
      ],
      "source": [
        "!pip install -U scikit-learn\n",
        "!pip install -U imbalanced-learn\n",
        "!pip install wfdb\n",
        "\n",
        "import os\n",
        "import wfdb\n",
        "from collections import Counter\n",
        "import numpy as np\n",
        "from sklearn.model_selection import train_test_split\n",
        "from scipy.signal import find_peaks\n",
        "import tensorflow as tf\n",
        "from tensorflow.keras.models import Sequential\n",
        "from tensorflow.keras.layers import Conv1D, Flatten, Dense, MaxPooling1D\n",
        "from tensorflow.keras.optimizers import Adam\n",
        "import matplotlib.pyplot as plt\n",
        "from imblearn.over_sampling import SMOTE"
      ]
    },
    {
      "cell_type": "code",
      "execution_count": null,
      "metadata": {
        "colab": {
          "base_uri": "https://localhost:8080/"
        },
        "id": "KSwLnwwKx1K2",
        "outputId": "35209be3-8f8c-4eae-c1c7-678d05c2c5e6"
      },
      "outputs": [
        {
          "output_type": "stream",
          "name": "stdout",
          "text": [
            "Mounted at /content/drive\n"
          ]
        }
      ],
      "source": [
        "try:\n",
        "  from google.colab import drive\n",
        "  drive.mount('/content/drive', force_remount=True)\n",
        "\n",
        "  project_directory='/content/drive/MyDrive/TKTE/Dataset/'\n",
        "  os.chdir(project_directory)\n",
        "except:\n",
        "  pass"
      ]
    },
    {
      "cell_type": "markdown",
      "metadata": {
        "id": "iZNRqOgiz0bf"
      },
      "source": [
        "## Data Visualization"
      ]
    },
    {
      "cell_type": "code",
      "execution_count": null,
      "metadata": {
        "colab": {
          "base_uri": "https://localhost:8080/",
          "height": 447
        },
        "id": "6zOb4O64z6LK",
        "outputId": "a4f24ef9-042e-403b-f201-2d632066ede5"
      },
      "outputs": [
        {
          "output_type": "execute_result",
          "data": {
            "text/plain": [
              "[<matplotlib.lines.Line2D at 0x783ec2085bd0>]"
            ]
          },
          "metadata": {},
          "execution_count": 3
        },
        {
          "output_type": "display_data",
          "data": {
            "text/plain": [
              "<Figure size 640x480 with 1 Axes>"
            ],
            "image/png": "[encoded data removed]"
          },
          "metadata": {}
        }
      ],
      "source": [
        "# Specify the record name and path\n",
        "record_name = '101'\n",
        "record_path = f'./mit-bih-arrhythmia-database-1.0.0/{record_name}'\n",
        "\n",
        "# Read the ECG record. We can optionally pass in the `sampto` parameter to read a specific number of samples. Let's try 3000.\n",
        "record = wfdb.rdrecord(record_path, sampto=3000)\n",
        "\n",
        "# Extract the ECG signal from the first lead of the record\n",
        "ecg_signal = record.p_signal[:,0]\n",
        "\n",
        "# Plotting the ECG signal\n",
        "plt.plot(ecg_signal)"
      ]
    },
    {
      "cell_type": "markdown",
      "metadata": {
        "id": "O0FJeTjc4ftl"
      },
      "source": [
        "## Data Preprocessing"
      ]
    },
    {
      "cell_type": "code",
      "execution_count": null,
      "metadata": {
        "id": "keFZsgWp4iiz"
      },
      "outputs": [],
      "source": [
        "record_name = '101'\n",
        "record_path = f'./mit-bih-arrhythmia-database-1.0.0/{record_name}'\n",
        "record = wfdb.rdrecord(record_path)\n",
        "annotation = wfdb.rdann(record_path, 'atr')"
      ]
    },
    {
      "cell_type": "code",
      "execution_count": null,
      "metadata": {
        "id": "tbD9FBZz5r6x"
      },
      "outputs": [],
      "source": [
        "peaks = annotation.sample\n",
        "symbols = annotation.symbol"
      ]
    },
    {
      "cell_type": "code",
      "execution_count": null,
      "metadata": {
        "colab": {
          "base_uri": "https://localhost:8080/"
        },
        "id": "EzTEQoM75wkf",
        "outputId": "17317f34-3dac-4259-a05f-8df6eb66c327"
      },
      "outputs": [
        {
          "output_type": "stream",
          "name": "stdout",
          "text": [
            "[   7   83  396  711 1032 1368 1712 2036 2349 2662]\n",
            "['+', 'N', 'N', 'N', 'N', 'N', 'N', 'N', 'N', 'N']\n"
          ]
        }
      ],
      "source": [
        "print(peaks[:10])\n",
        "print(symbols[:10])"
      ]
    },
    {
      "cell_type": "code",
      "execution_count": null,
      "metadata": {
        "id": "ZN_WaNB96VNm"
      },
      "outputs": [],
      "source": [
        "data_path = './mit-bih-arrhythmia-database-1.0.0/'\n",
        "record_list = wfdb.get_record_list('mitdb')"
      ]
    },
    {
      "cell_type": "markdown",
      "metadata": {
        "id": "bVR58Hft6yvm"
      },
      "source": [
        "Data Preprocessing\n",
        "- Break signal into segments of 10 R-R intervals\n",
        "- Filter them so that only two classes remain (Normal ECG & Arrhythmic ECG)"
      ]
    },
    {
      "cell_type": "markdown",
      "metadata": {
        "id": "p1p_95rb7My-"
      },
      "source": [
        "- Normal ECG\n",
        "    - Label = 0\n",
        "    - All R-R intervals are from normal beats, annotated with 'N'\n",
        "- Arrhythmic ECG\n",
        "  - Label = 1\n",
        "  - At least 2/10 beats are annotated with the 'V' symbol"
      ]
    },
    {
      "cell_type": "code",
      "execution_count": null,
      "metadata": {
        "id": "-qKcH_H-6qlz"
      },
      "outputs": [],
      "source": [
        "X = []  # R-R intervals\n",
        "Y = []  # labels (normal = 0, arrhythmic = 1)\n",
        "\n",
        "window_size = 10\n",
        "\n",
        "for record_name in record_list:\n",
        "  # Load the signal and annotations\n",
        "  annotation = wfdb.rdann(os.path.join(data_path, record_name), 'atr')\n",
        "  # print(\"annotation\", annotation)\n",
        "\n",
        "  # Detect peaks\n",
        "  peaks = annotation.sample\n",
        "  # print(\"peaks:\",peaks)\n",
        "\n",
        "  # Get R-R intervals\n",
        "  intervals = np.diff(peaks)\n",
        "  # print(\"intervals:\", intervals)\n",
        "\n",
        "  # Normalize the intervals\n",
        "  normalized_intervals = intervals / intervals.max()\n",
        "  # print(\"normalized_intervals:\", normalized_intervals)\n",
        "\n",
        "  # Break up the intervals into segments of 10\n",
        "  for i in range(len(intervals) - window_size +1):\n",
        "    # Get the annotations and intervals for the current window\n",
        "    window_annotations = annotation.symbol[i:i + window_size]\n",
        "    window_intervals = normalized_intervals[i:i + window_size]\n",
        "\n",
        "    # Count of abnormal beats\n",
        "    abnormal_count = sum(1 for ann in window_annotations if ann == 'V')\n",
        "\n",
        "    # Select windows that are either all 'N' or have at least 2 'V's\n",
        "    if all(ann == 'N' for ann in window_annotations) or (abnormal_count >= 2):\n",
        "      X.append(window_intervals)\n",
        "      Y.append(abnormal_count >= 2)"
      ]
    },
    {
      "cell_type": "code",
      "execution_count": null,
      "metadata": {
        "id": "rlKqrFi3-2VR"
      },
      "outputs": [],
      "source": [
        "X = np.array(X)\n",
        "Y = np.array(Y)"
      ]
    },
    {
      "cell_type": "markdown",
      "metadata": {
        "id": "Y2hgO9q9_GWE"
      },
      "source": [
        "## Data Balancing"
      ]
    },
    {
      "cell_type": "code",
      "execution_count": null,
      "metadata": {
        "colab": {
          "base_uri": "https://localhost:8080/",
          "height": 489
        },
        "id": "cHDGx02g_Ieq",
        "outputId": "c8f13d4a-68d1-43d1-f4ad-58583e3c1566"
      },
      "outputs": [
        {
          "output_type": "execute_result",
          "data": {
            "text/plain": [
              "Text(0, 0.5, 'Count')"
            ]
          },
          "metadata": {},
          "execution_count": 10
        },
        {
          "output_type": "display_data",
          "data": {
            "text/plain": [
              "<Figure size 640x480 with 1 Axes>"
            ],
            "image/png": "[encoded data removed]"
          },
          "metadata": {}
        }
      ],
      "source": [
        "annotation_counter = Counter()\n",
        "annotation_counter.update(Y)\n",
        "\n",
        "plt.bar(annotation_counter.keys(), annotation_counter.values())\n",
        "plt.title('Distribution of Heartbeat Annotations')\n",
        "plt.xlabel('Annotation')\n",
        "plt.ylabel('Count')"
      ]
    },
    {
      "cell_type": "markdown",
      "metadata": {
        "id": "rF3NQScfAF_-"
      },
      "source": [
        "Pada data di atas, terlihat data normal heartbeat lebih dari 2x jumlahnya dibanding arrhythmic heartbeat"
      ]
    },
    {
      "cell_type": "code",
      "execution_count": null,
      "metadata": {
        "id": "40jcRU6E_cL4"
      },
      "outputs": [],
      "source": [
        "# Split the dataset into training and testing sets\n",
        "X_train, X_test, Y_train, Y_test = train_test_split(X, Y, test_size=0.2, random_state=42)"
      ]
    },
    {
      "cell_type": "code",
      "execution_count": null,
      "metadata": {
        "colab": {
          "base_uri": "https://localhost:8080/"
        },
        "id": "rxXRdM13wdCD",
        "outputId": "711a3610-7871-40c8-aa83-15254d073862"
      },
      "outputs": [
        {
          "output_type": "stream",
          "name": "stdout",
          "text": [
            "[[0.61344538 0.37394958 0.63445378 ... 0.34663866 0.56302521 0.56722689]\n",
            " [0.58922559 0.45117845 0.53030303 ... 0.46296296 0.34680135 0.55050505]\n",
            " [0.57882353 0.54823529 0.55058824 ... 0.45411765 0.6        0.42823529]\n",
            " ...\n",
            " [0.53164557 0.51424051 0.26424051 ... 0.41139241 0.28164557 0.5585443 ]\n",
            " [0.63390663 0.61670762 0.65601966 ... 0.67076167 0.67567568 0.67076167]\n",
            " [0.49087894 0.52736318 0.55223881 ... 0.50414594 0.53399668 0.55887231]]\n",
            "[ True False  True ...  True False False]\n",
            "53425\n",
            "53425\n"
          ]
        }
      ],
      "source": [
        "print(X_train)\n",
        "print(Y_train)\n",
        "print(len(X_train))\n",
        "print(len(Y_train))"
      ]
    },
    {
      "cell_type": "code",
      "execution_count": null,
      "metadata": {
        "colab": {
          "base_uri": "https://localhost:8080/",
          "height": 507
        },
        "id": "ngGAqpkcAlg1",
        "outputId": "c3b9cb84-dec7-4c9c-e0a7-cf08e28ae31c"
      },
      "outputs": [
        {
          "output_type": "stream",
          "name": "stdout",
          "text": [
            "38494.0\n",
            "76988\n"
          ]
        },
        {
          "output_type": "display_data",
          "data": {
            "text/plain": [
              "<Figure size 640x480 with 1 Axes>"
            ],
            "image/png": "[encoded data removed]"
          },
          "metadata": {}
        }
      ],
      "source": [
        "# Fix class imbalance\n",
        "smote = SMOTE()\n",
        "\n",
        "# Fit SMOTE to the training data\n",
        "X_train_smote, Y_train_smote = smote.fit_resample(X_train, Y_train)\n",
        "\n",
        "print(len(X_train_smote)/2)\n",
        "print(len(Y_train_smote))\n",
        "\n",
        "annotation_smote_counter = Counter()\n",
        "annotation_smote_counter.update(Y_train_smote)\n",
        "\n",
        "plt.bar(annotation_smote_counter.keys(), annotation_smote_counter.values())\n",
        "plt.title('Distribution of Heartbeat Annotations')\n",
        "plt.xlabel('Annotation')\n",
        "plt.ylabel('Count')\n",
        "plt.show()"
      ]
    },
    {
      "cell_type": "markdown",
      "source": [
        "## Subject Oriented Data Preparation"
      ],
      "metadata": {
        "id": "UU3QQrpIzYZW"
      }
    },
    {
      "cell_type": "code",
      "source": [
        "# Group data by subject\n",
        "subject_ids = df['subject_id'].unique()  # Assuming df has a 'subject_id' column\n",
        "test_subjects = np.random.choice(subject_ids, size=int(0.2 * len(subject_ids)), replace=False)\n",
        "train_subjects = [s for s in subject_ids if s not in test_subjects]\n",
        "\n",
        "# Create subject-oriented train-test split\n",
        "train_data = df[df['subject_id'].isin(train_subjects)]\n",
        "test_data = df[df['subject_id'].isin(test_subjects)]\n",
        "\n",
        "X_train_subject = train_data.drop(columns=['label', 'subject_id']).values\n",
        "Y_train_subject = train_data['label'].values\n",
        "X_test_subject = test_data.drop(columns=['label', 'subject_id']).values\n",
        "Y_test_subject = test_data['label'].values\n",
        "\n",
        "# Fix class imbalance using SMOTE\n",
        "smote = SMOTE()\n",
        "X_train_subject_smote, Y_train_subject_smote = smote.fit_resample(X_train_subject, Y_train_subject)\n",
        "\n",
        "# Check distribution after SMOTE\n",
        "plt.bar(*zip(*Counter(Y_train_subject_smote).items()))\n",
        "plt.title('Balanced Data Distribution (Subject-Oriented)')\n",
        "plt.xlabel('Annotation')\n",
        "plt.ylabel('Count')\n",
        "plt.show()"
      ],
      "metadata": {
        "colab": {
          "base_uri": "https://localhost:8080/",
          "height": 211
        },
        "id": "EqEmsOdqzkZp",
        "outputId": "7cf83c07-6bc1-48fd-8951-bf4e16876ae6"
      },
      "execution_count": null,
      "outputs": [
        {
          "output_type": "error",
          "ename": "NameError",
          "evalue": "name 'df' is not defined",
          "traceback": [
            "\u001b[0;31m---------------------------------------------------------------------------\u001b[0m",
            "\u001b[0;31mNameError\u001b[0m                                 Traceback (most recent call last)",
            "\u001b[0;32m<ipython-input-14-2bc7c7666e82>\u001b[0m in \u001b[0;36m<cell line: 0>\u001b[0;34m()\u001b[0m\n\u001b[1;32m      1\u001b[0m \u001b[0;31m# Group data by subject\u001b[0m\u001b[0;34m\u001b[0m\u001b[0;34m\u001b[0m\u001b[0m\n\u001b[0;32m----> 2\u001b[0;31m \u001b[0msubject_ids\u001b[0m \u001b[0;34m=\u001b[0m \u001b[0mdf\u001b[0m\u001b[0;34m[\u001b[0m\u001b[0;34m'subject_id'\u001b[0m\u001b[0;34m]\u001b[0m\u001b[0;34m.\u001b[0m\u001b[0munique\u001b[0m\u001b[0;34m(\u001b[0m\u001b[0;34m)\u001b[0m  \u001b[0;31m# Assuming df has a 'subject_id' column\u001b[0m\u001b[0;34m\u001b[0m\u001b[0;34m\u001b[0m\u001b[0m\n\u001b[0m\u001b[1;32m      3\u001b[0m \u001b[0mtest_subjects\u001b[0m \u001b[0;34m=\u001b[0m \u001b[0mnp\u001b[0m\u001b[0;34m.\u001b[0m\u001b[0mrandom\u001b[0m\u001b[0;34m.\u001b[0m\u001b[0mchoice\u001b[0m\u001b[0;34m(\u001b[0m\u001b[0msubject_ids\u001b[0m\u001b[0;34m,\u001b[0m \u001b[0msize\u001b[0m\u001b[0;34m=\u001b[0m\u001b[0mint\u001b[0m\u001b[0;34m(\u001b[0m\u001b[0;36m0.2\u001b[0m \u001b[0;34m*\u001b[0m \u001b[0mlen\u001b[0m\u001b[0;34m(\u001b[0m\u001b[0msubject_ids\u001b[0m\u001b[0;34m)\u001b[0m\u001b[0;34m)\u001b[0m\u001b[0;34m,\u001b[0m \u001b[0mreplace\u001b[0m\u001b[0;34m=\u001b[0m\u001b[0;32mFalse\u001b[0m\u001b[0;34m)\u001b[0m\u001b[0;34m\u001b[0m\u001b[0;34m\u001b[0m\u001b[0m\n\u001b[1;32m      4\u001b[0m \u001b[0mtrain_subjects\u001b[0m \u001b[0;34m=\u001b[0m \u001b[0;34m[\u001b[0m\u001b[0ms\u001b[0m \u001b[0;32mfor\u001b[0m \u001b[0ms\u001b[0m \u001b[0;32min\u001b[0m \u001b[0msubject_ids\u001b[0m \u001b[0;32mif\u001b[0m \u001b[0ms\u001b[0m \u001b[0;32mnot\u001b[0m \u001b[0;32min\u001b[0m \u001b[0mtest_subjects\u001b[0m\u001b[0;34m]\u001b[0m\u001b[0;34m\u001b[0m\u001b[0;34m\u001b[0m\u001b[0m\n\u001b[1;32m      5\u001b[0m \u001b[0;34m\u001b[0m\u001b[0m\n",
            "\u001b[0;31mNameError\u001b[0m: name 'df' is not defined"
          ]
        }
      ]
    },
    {
      "cell_type": "markdown",
      "metadata": {
        "id": "48WPtNALgPfv"
      },
      "source": [
        "## DATA BUAT TESTBENCH"
      ]
    },
    {
      "cell_type": "code",
      "execution_count": null,
      "metadata": {
        "id": "GmNeM2KZfYUh"
      },
      "outputs": [],
      "source": [
        "from google.colab import files\n",
        "\n",
        "# Download the file\n",
        "# false_count = 0\n",
        "# for i in range(101,201):\n",
        "#   single_input = X_test[i]\n",
        "#   true_label = Y_test[i]\n",
        "#   # print(single_input)\n",
        "#   # print(true_label)\n",
        "#   print(\"[\")\n",
        "#   for i in range(len(single_input)):\n",
        "#     if i == len(single_input) - 1:\n",
        "#         print(f\"{single_input[i]}\", end=\"\")\n",
        "#     else:\n",
        "#         print(f\"{single_input[i]},\", end=\"\")\n",
        "#   print(\"]\")\n",
        "  # prediction = classifier.predict(np.array([single_input]))\n",
        "  # prediction_label = prediction[0][0] < prediction[0][1]\n",
        "\n",
        "  # if true_label != prediction_label:\n",
        "  #   false_count+=1\n",
        "\n",
        "# print(false_count)\n",
        "\n",
        "# Open a file in write mode\n",
        "with open('output_label.txt', 'w') as file:\n",
        "    # for i in range(0, 5001):\n",
        "    #     # single_input = X_test[i]\n",
        "    #     true_label = Y_test[i]\n",
        "\n",
        "    #     # # Write the opening bracket\n",
        "    #     # file.write(\"[\")\n",
        "\n",
        "    #     # # Write each element of single_input, separated by commas\n",
        "    #     # for j in range(len(single_input)):\n",
        "    #     #     if j == len(single_input) - 1:\n",
        "    #     #         file.write(f\"{single_input[j]}\")\n",
        "    #     #     else:\n",
        "    #     #         file.write(f\"{single_input[j]},\")\n",
        "\n",
        "    #     # # Write the closing bracket and newline\n",
        "    #     # file.write(\"],\\n\")\n",
        "\n",
        "    #     file.write(f\"{true_label},\")\n",
        "\n",
        "    # Open the file in write mode\n",
        "    for i in range(0, 5001):\n",
        "        true_label = Y_test[i]\n",
        "        # Write the true_label followed by a comma\n",
        "        file.write(f\"{true_label},\")\n",
        "\n",
        "        # Insert a newline after every 50 values\n",
        "        if (i + 1) % 50 == 0:\n",
        "            file.write(\"\\n\")\n",
        "\n",
        "# Note: Ensure that Y_test has at least 5001 elements to avoid index errors.\n",
        "\n",
        "\n",
        "#files.download('output_label.txt')"
      ]
    },
    {
      "cell_type": "markdown",
      "metadata": {
        "id": "-KHnWfqsBsW3"
      },
      "source": [
        "## Model Training"
      ]
    },
    {
      "cell_type": "code",
      "execution_count": null,
      "metadata": {
        "colab": {
          "base_uri": "https://localhost:8080/"
        },
        "collapsed": true,
        "id": "i_jSO_X2wOQJ",
        "outputId": "e921400a-850f-427c-af8a-4b810e92283d"
      },
      "outputs": [
        {
          "output_type": "stream",
          "name": "stdout",
          "text": [
            "Epoch 1/50\n",
            "\u001b[1m602/602\u001b[0m \u001b[32m━━━━━━━━━━━━━━━━━━━━\u001b[0m\u001b[37m\u001b[0m \u001b[1m5s\u001b[0m 4ms/step - accuracy: 0.7251 - loss: 0.5121 - val_accuracy: 0.9138 - val_loss: 0.2144\n",
            "Epoch 2/50\n",
            "\u001b[1m602/602\u001b[0m \u001b[32m━━━━━━━━━━━━━━━━━━━━\u001b[0m\u001b[37m\u001b[0m \u001b[1m2s\u001b[0m 3ms/step - accuracy: 0.9304 - loss: 0.1948 - val_accuracy: 0.9198 - val_loss: 0.1985\n",
            "Epoch 3/50\n",
            "\u001b[1m602/602\u001b[0m \u001b[32m━━━━━━━━━━━━━━━━━━━━\u001b[0m\u001b[37m\u001b[0m \u001b[1m3s\u001b[0m 3ms/step - accuracy: 0.9368 - loss: 0.1760 - val_accuracy: 0.9294 - val_loss: 0.1716\n",
            "Epoch 4/50\n",
            "\u001b[1m602/602\u001b[0m \u001b[32m━━━━━━━━━━━━━━━━━━━━\u001b[0m\u001b[37m\u001b[0m \u001b[1m3s\u001b[0m 5ms/step - accuracy: 0.9385 - loss: 0.1718 - val_accuracy: 0.9310 - val_loss: 0.1679\n",
            "Epoch 5/50\n",
            "\u001b[1m602/602\u001b[0m \u001b[32m━━━━━━━━━━━━━━━━━━━━\u001b[0m\u001b[37m\u001b[0m \u001b[1m4s\u001b[0m 3ms/step - accuracy: 0.9389 - loss: 0.1716 - val_accuracy: 0.9233 - val_loss: 0.1868\n",
            "Epoch 6/50\n",
            "\u001b[1m602/602\u001b[0m \u001b[32m━━━━━━━━━━━━━━━━━━━━\u001b[0m\u001b[37m\u001b[0m \u001b[1m2s\u001b[0m 3ms/step - accuracy: 0.9392 - loss: 0.1656 - val_accuracy: 0.9192 - val_loss: 0.1960\n",
            "Epoch 7/50\n",
            "\u001b[1m602/602\u001b[0m \u001b[32m━━━━━━━━━━━━━━━━━━━━\u001b[0m\u001b[37m\u001b[0m \u001b[1m2s\u001b[0m 3ms/step - accuracy: 0.9397 - loss: 0.1669 - val_accuracy: 0.9261 - val_loss: 0.1732\n",
            "Epoch 8/50\n",
            "\u001b[1m602/602\u001b[0m \u001b[32m━━━━━━━━━━━━━━━━━━━━\u001b[0m\u001b[37m\u001b[0m \u001b[1m2s\u001b[0m 3ms/step - accuracy: 0.9392 - loss: 0.1648 - val_accuracy: 0.9206 - val_loss: 0.1893\n",
            "Epoch 9/50\n",
            "\u001b[1m602/602\u001b[0m \u001b[32m━━━━━━━━━━━━━━━━━━━━\u001b[0m\u001b[37m\u001b[0m \u001b[1m4s\u001b[0m 6ms/step - accuracy: 0.9416 - loss: 0.1574 - val_accuracy: 0.9215 - val_loss: 0.1883\n",
            "Epoch 10/50\n",
            "\u001b[1m602/602\u001b[0m \u001b[32m━━━━━━━━━━━━━━━━━━━━\u001b[0m\u001b[37m\u001b[0m \u001b[1m2s\u001b[0m 4ms/step - accuracy: 0.9417 - loss: 0.1582 - val_accuracy: 0.9349 - val_loss: 0.1534\n",
            "Epoch 11/50\n",
            "\u001b[1m602/602\u001b[0m \u001b[32m━━━━━━━━━━━━━━━━━━━━\u001b[0m\u001b[37m\u001b[0m \u001b[1m2s\u001b[0m 4ms/step - accuracy: 0.9413 - loss: 0.1588 - val_accuracy: 0.9227 - val_loss: 0.1960\n",
            "Epoch 12/50\n",
            "\u001b[1m602/602\u001b[0m \u001b[32m━━━━━━━━━━━━━━━━━━━━\u001b[0m\u001b[37m\u001b[0m \u001b[1m3s\u001b[0m 4ms/step - accuracy: 0.9422 - loss: 0.1575 - val_accuracy: 0.9316 - val_loss: 0.1583\n",
            "Epoch 13/50\n",
            "\u001b[1m602/602\u001b[0m \u001b[32m━━━━━━━━━━━━━━━━━━━━\u001b[0m\u001b[37m\u001b[0m \u001b[1m2s\u001b[0m 3ms/step - accuracy: 0.9431 - loss: 0.1530 - val_accuracy: 0.9349 - val_loss: 0.1572\n",
            "Epoch 14/50\n",
            "\u001b[1m602/602\u001b[0m \u001b[32m━━━━━━━━━━━━━━━━━━━━\u001b[0m\u001b[37m\u001b[0m \u001b[1m2s\u001b[0m 4ms/step - accuracy: 0.9422 - loss: 0.1554 - val_accuracy: 0.9230 - val_loss: 0.1917\n",
            "Epoch 15/50\n",
            "\u001b[1m602/602\u001b[0m \u001b[32m━━━━━━━━━━━━━━━━━━━━\u001b[0m\u001b[37m\u001b[0m \u001b[1m4s\u001b[0m 6ms/step - accuracy: 0.9436 - loss: 0.1539 - val_accuracy: 0.9359 - val_loss: 0.1487\n",
            "Epoch 16/50\n",
            "\u001b[1m602/602\u001b[0m \u001b[32m━━━━━━━━━━━━━━━━━━━━\u001b[0m\u001b[37m\u001b[0m \u001b[1m2s\u001b[0m 4ms/step - accuracy: 0.9426 - loss: 0.1552 - val_accuracy: 0.9334 - val_loss: 0.1548\n",
            "Epoch 17/50\n",
            "\u001b[1m602/602\u001b[0m \u001b[32m━━━━━━━━━━━━━━━━━━━━\u001b[0m\u001b[37m\u001b[0m \u001b[1m2s\u001b[0m 3ms/step - accuracy: 0.9433 - loss: 0.1523 - val_accuracy: 0.9364 - val_loss: 0.1485\n",
            "Epoch 18/50\n",
            "\u001b[1m602/602\u001b[0m \u001b[32m━━━━━━━━━━━━━━━━━━━━\u001b[0m\u001b[37m\u001b[0m \u001b[1m3s\u001b[0m 3ms/step - accuracy: 0.9445 - loss: 0.1508 - val_accuracy: 0.9359 - val_loss: 0.1515\n",
            "Epoch 19/50\n",
            "\u001b[1m602/602\u001b[0m \u001b[32m━━━━━━━━━━━━━━━━━━━━\u001b[0m\u001b[37m\u001b[0m \u001b[1m3s\u001b[0m 5ms/step - accuracy: 0.9439 - loss: 0.1504 - val_accuracy: 0.9344 - val_loss: 0.1501\n",
            "Epoch 20/50\n",
            "\u001b[1m602/602\u001b[0m \u001b[32m━━━━━━━━━━━━━━━━━━━━\u001b[0m\u001b[37m\u001b[0m \u001b[1m4s\u001b[0m 3ms/step - accuracy: 0.9447 - loss: 0.1483 - val_accuracy: 0.9297 - val_loss: 0.1670\n",
            "Epoch 21/50\n",
            "\u001b[1m602/602\u001b[0m \u001b[32m━━━━━━━━━━━━━━━━━━━━\u001b[0m\u001b[37m\u001b[0m \u001b[1m3s\u001b[0m 3ms/step - accuracy: 0.9453 - loss: 0.1467 - val_accuracy: 0.9373 - val_loss: 0.1480\n",
            "Epoch 22/50\n",
            "\u001b[1m602/602\u001b[0m \u001b[32m━━━━━━━━━━━━━━━━━━━━\u001b[0m\u001b[37m\u001b[0m \u001b[1m2s\u001b[0m 3ms/step - accuracy: 0.9458 - loss: 0.1450 - val_accuracy: 0.9328 - val_loss: 0.1548\n",
            "Epoch 23/50\n",
            "\u001b[1m602/602\u001b[0m \u001b[32m━━━━━━━━━━━━━━━━━━━━\u001b[0m\u001b[37m\u001b[0m \u001b[1m2s\u001b[0m 3ms/step - accuracy: 0.9461 - loss: 0.1433 - val_accuracy: 0.9293 - val_loss: 0.1688\n",
            "Epoch 24/50\n",
            "\u001b[1m602/602\u001b[0m \u001b[32m━━━━━━━━━━━━━━━━━━━━\u001b[0m\u001b[37m\u001b[0m \u001b[1m3s\u001b[0m 5ms/step - accuracy: 0.9481 - loss: 0.1420 - val_accuracy: 0.9369 - val_loss: 0.1467\n",
            "Epoch 25/50\n",
            "\u001b[1m602/602\u001b[0m \u001b[32m━━━━━━━━━━━━━━━━━━━━\u001b[0m\u001b[37m\u001b[0m \u001b[1m3s\u001b[0m 5ms/step - accuracy: 0.9462 - loss: 0.1431 - val_accuracy: 0.9340 - val_loss: 0.1534\n",
            "Epoch 26/50\n",
            "\u001b[1m602/602\u001b[0m \u001b[32m━━━━━━━━━━━━━━━━━━━━\u001b[0m\u001b[37m\u001b[0m \u001b[1m2s\u001b[0m 3ms/step - accuracy: 0.9449 - loss: 0.1444 - val_accuracy: 0.9361 - val_loss: 0.1487\n",
            "Epoch 27/50\n",
            "\u001b[1m602/602\u001b[0m \u001b[32m━━━━━━━━━━━━━━━━━━━━\u001b[0m\u001b[37m\u001b[0m \u001b[1m2s\u001b[0m 3ms/step - accuracy: 0.9470 - loss: 0.1435 - val_accuracy: 0.9382 - val_loss: 0.1469\n",
            "Epoch 28/50\n",
            "\u001b[1m602/602\u001b[0m \u001b[32m━━━━━━━━━━━━━━━━━━━━\u001b[0m\u001b[37m\u001b[0m \u001b[1m3s\u001b[0m 3ms/step - accuracy: 0.9473 - loss: 0.1427 - val_accuracy: 0.9355 - val_loss: 0.1541\n",
            "Epoch 29/50\n",
            "\u001b[1m602/602\u001b[0m \u001b[32m━━━━━━━━━━━━━━━━━━━━\u001b[0m\u001b[37m\u001b[0m \u001b[1m2s\u001b[0m 3ms/step - accuracy: 0.9473 - loss: 0.1423 - val_accuracy: 0.9344 - val_loss: 0.1528\n",
            "Epoch 30/50\n",
            "\u001b[1m602/602\u001b[0m \u001b[32m━━━━━━━━━━━━━━━━━━━━\u001b[0m\u001b[37m\u001b[0m \u001b[1m4s\u001b[0m 6ms/step - accuracy: 0.9450 - loss: 0.1435 - val_accuracy: 0.9340 - val_loss: 0.1570\n",
            "Epoch 31/50\n",
            "\u001b[1m602/602\u001b[0m \u001b[32m━━━━━━━━━━━━━━━━━━━━\u001b[0m\u001b[37m\u001b[0m \u001b[1m2s\u001b[0m 4ms/step - accuracy: 0.9476 - loss: 0.1392 - val_accuracy: 0.9414 - val_loss: 0.1402\n",
            "Epoch 32/50\n",
            "\u001b[1m602/602\u001b[0m \u001b[32m━━━━━━━━━━━━━━━━━━━━\u001b[0m\u001b[37m\u001b[0m \u001b[1m2s\u001b[0m 3ms/step - accuracy: 0.9484 - loss: 0.1397 - val_accuracy: 0.9320 - val_loss: 0.1688\n",
            "Epoch 33/50\n",
            "\u001b[1m602/602\u001b[0m \u001b[32m━━━━━━━━━━━━━━━━━━━━\u001b[0m\u001b[37m\u001b[0m \u001b[1m3s\u001b[0m 4ms/step - accuracy: 0.9465 - loss: 0.1419 - val_accuracy: 0.9334 - val_loss: 0.1637\n",
            "Epoch 34/50\n",
            "\u001b[1m602/602\u001b[0m \u001b[32m━━━━━━━━━━━━━━━━━━━━\u001b[0m\u001b[37m\u001b[0m \u001b[1m2s\u001b[0m 3ms/step - accuracy: 0.9477 - loss: 0.1385 - val_accuracy: 0.9350 - val_loss: 0.1564\n",
            "Epoch 35/50\n",
            "\u001b[1m602/602\u001b[0m \u001b[32m━━━━━━━━━━━━━━━━━━━━\u001b[0m\u001b[37m\u001b[0m \u001b[1m3s\u001b[0m 5ms/step - accuracy: 0.9479 - loss: 0.1367 - val_accuracy: 0.9420 - val_loss: 0.1389\n",
            "Epoch 36/50\n",
            "\u001b[1m602/602\u001b[0m \u001b[32m━━━━━━━━━━━━━━━━━━━━\u001b[0m\u001b[37m\u001b[0m \u001b[1m4s\u001b[0m 3ms/step - accuracy: 0.9483 - loss: 0.1369 - val_accuracy: 0.9390 - val_loss: 0.1446\n",
            "Epoch 37/50\n",
            "\u001b[1m602/602\u001b[0m \u001b[32m━━━━━━━━━━━━━━━━━━━━\u001b[0m\u001b[37m\u001b[0m \u001b[1m2s\u001b[0m 3ms/step - accuracy: 0.9495 - loss: 0.1325 - val_accuracy: 0.9361 - val_loss: 0.1548\n",
            "Epoch 38/50\n",
            "\u001b[1m602/602\u001b[0m \u001b[32m━━━━━━━━━━━━━━━━━━━━\u001b[0m\u001b[37m\u001b[0m \u001b[1m3s\u001b[0m 3ms/step - accuracy: 0.9483 - loss: 0.1371 - val_accuracy: 0.9251 - val_loss: 0.1853\n",
            "Epoch 39/50\n",
            "\u001b[1m602/602\u001b[0m \u001b[32m━━━━━━━━━━━━━━━━━━━━\u001b[0m\u001b[37m\u001b[0m \u001b[1m2s\u001b[0m 3ms/step - accuracy: 0.9486 - loss: 0.1354 - val_accuracy: 0.9379 - val_loss: 0.1525\n",
            "Epoch 40/50\n",
            "\u001b[1m602/602\u001b[0m \u001b[32m━━━━━━━━━━━━━━━━━━━━\u001b[0m\u001b[37m\u001b[0m \u001b[1m4s\u001b[0m 6ms/step - accuracy: 0.9486 - loss: 0.1360 - val_accuracy: 0.9421 - val_loss: 0.1378\n",
            "Epoch 41/50\n",
            "\u001b[1m602/602\u001b[0m \u001b[32m━━━━━━━━━━━━━━━━━━━━\u001b[0m\u001b[37m\u001b[0m \u001b[1m4s\u001b[0m 4ms/step - accuracy: 0.9501 - loss: 0.1306 - val_accuracy: 0.9364 - val_loss: 0.1527\n",
            "Epoch 42/50\n",
            "\u001b[1m602/602\u001b[0m \u001b[32m━━━━━━━━━━━━━━━━━━━━\u001b[0m\u001b[37m\u001b[0m \u001b[1m2s\u001b[0m 3ms/step - accuracy: 0.9500 - loss: 0.1313 - val_accuracy: 0.9426 - val_loss: 0.1357\n",
            "Epoch 43/50\n",
            "\u001b[1m602/602\u001b[0m \u001b[32m━━━━━━━━━━━━━━━━━━━━\u001b[0m\u001b[37m\u001b[0m \u001b[1m2s\u001b[0m 3ms/step - accuracy: 0.9508 - loss: 0.1314 - val_accuracy: 0.9417 - val_loss: 0.1385\n",
            "Epoch 44/50\n",
            "\u001b[1m602/602\u001b[0m \u001b[32m━━━━━━━━━━━━━━━━━━━━\u001b[0m\u001b[37m\u001b[0m \u001b[1m3s\u001b[0m 4ms/step - accuracy: 0.9523 - loss: 0.1281 - val_accuracy: 0.9366 - val_loss: 0.1499\n",
            "Epoch 45/50\n",
            "\u001b[1m602/602\u001b[0m \u001b[32m━━━━━━━━━━━━━━━━━━━━\u001b[0m\u001b[37m\u001b[0m \u001b[1m3s\u001b[0m 5ms/step - accuracy: 0.9505 - loss: 0.1279 - val_accuracy: 0.9402 - val_loss: 0.1461\n",
            "Epoch 46/50\n",
            "\u001b[1m602/602\u001b[0m \u001b[32m━━━━━━━━━━━━━━━━━━━━\u001b[0m\u001b[37m\u001b[0m \u001b[1m4s\u001b[0m 3ms/step - accuracy: 0.9516 - loss: 0.1306 - val_accuracy: 0.9399 - val_loss: 0.1461\n",
            "Epoch 47/50\n",
            "\u001b[1m602/602\u001b[0m \u001b[32m━━━━━━━━━━━━━━━━━━━━\u001b[0m\u001b[37m\u001b[0m \u001b[1m2s\u001b[0m 3ms/step - accuracy: 0.9509 - loss: 0.1289 - val_accuracy: 0.9379 - val_loss: 0.1491\n",
            "Epoch 48/50\n",
            "\u001b[1m602/602\u001b[0m \u001b[32m━━━━━━━━━━━━━━━━━━━━\u001b[0m\u001b[37m\u001b[0m \u001b[1m2s\u001b[0m 3ms/step - accuracy: 0.9500 - loss: 0.1310 - val_accuracy: 0.9395 - val_loss: 0.1450\n",
            "Epoch 49/50\n",
            "\u001b[1m602/602\u001b[0m \u001b[32m━━━━━━━━━━━━━━━━━━━━\u001b[0m\u001b[37m\u001b[0m \u001b[1m2s\u001b[0m 4ms/step - accuracy: 0.9509 - loss: 0.1301 - val_accuracy: 0.9429 - val_loss: 0.1375\n",
            "Epoch 50/50\n",
            "\u001b[1m602/602\u001b[0m \u001b[32m━━━━━━━━━━━━━━━━━━━━\u001b[0m\u001b[37m\u001b[0m \u001b[1m4s\u001b[0m 6ms/step - accuracy: 0.9523 - loss: 0.1252 - val_accuracy: 0.9373 - val_loss: 0.1579\n",
            "\u001b[1m418/418\u001b[0m \u001b[32m━━━━━━━━━━━━━━━━━━━━\u001b[0m\u001b[37m\u001b[0m \u001b[1m1s\u001b[0m 2ms/step - accuracy: 0.9385 - loss: 0.1547\n",
            "Classifier accuracy: 93.74%\n"
          ]
        }
      ],
      "source": [
        "from tensorflow.keras.layers import Input, Dense, Lambda\n",
        "from tensorflow.keras.models import Model\n",
        "from tensorflow.keras.optimizers import AdamW\n",
        "from tensorflow.keras.callbacks import EarlyStopping\n",
        "from tensorflow.keras.utils import to_categorical\n",
        "import tensorflow.keras.backend as K\n",
        "\n",
        "# Parameters\n",
        "input_dim = X_train.shape[1]  # Number of features\n",
        "latent_dim = 2  # Latent space dimension\n",
        "intermediate_dim = 92  # Hidden layer size\n",
        "\n",
        "# Encoder\n",
        "inputs = Input(shape=(input_dim,), name='input_encoder')\n",
        "h = Dense(intermediate_dim, activation='relu', name='intermediate_layer')(inputs)  # Using ReLU\n",
        "\n",
        "z_mean = Dense(latent_dim, name='z_mean')(h)\n",
        "z_var = Dense(latent_dim, activation='softplus', name='z_var')(h)  # Ensures variance is positive\n",
        "\n",
        "# Reparameterization trick\n",
        "def sampling(args):\n",
        "    z_mean, z_var = args\n",
        "    epsilon = K.random_normal(shape=(K.shape(z_mean)[0], latent_dim))\n",
        "    return z_mean + K.sqrt(z_var) * epsilon\n",
        "\n",
        "z = Lambda(sampling, output_shape=(latent_dim,), name=\"sampling_layer\")([z_mean, z_var])\n",
        "\n",
        "# Misalkan Y_train berisi label biner (True/False)\n",
        "num_classes = 2  # Ubah sesuai dengan jumlah kelas yang Anda miliki\n",
        "Y_train_encoded = to_categorical(Y_train_smote.astype(int), num_classes=num_classes)\n",
        "Y_test_encoded = to_categorical(Y_test.astype(int), num_classes=num_classes)\n",
        "\n",
        "# Classifier\n",
        "classifier_h = Dense(intermediate_dim, activation='relu', name=\"hidden_classifier\")(z)  # Using ReLU\n",
        "classifier_output = Dense(2, activation='sigmoid', name=\"classifier_output\")(classifier_h)\n",
        "\n",
        "classifier = Model(inputs, classifier_output)\n",
        "\n",
        "# Compile model with Adam\n",
        "classifier.compile(optimizer=AdamW(learning_rate=0.001, weight_decay=1e-4),\n",
        "                   loss='categorical_crossentropy',\n",
        "                   metrics=['accuracy'])\n",
        "\n",
        "# Early stopping callback (stop training if val_loss doesn't improve for 5 epochs)\n",
        "early_stopping = EarlyStopping(monitor='val_loss', patience=10, restore_best_weights=True)\n",
        "\n",
        "# Train the classifier\n",
        "history = classifier.fit(X_train_smote, Y_train_encoded,\n",
        "                         epochs=50, batch_size=128,  # Batch size optimized\n",
        "                         validation_data=(X_test, Y_test_encoded))\n",
        "                        #  ,callbacks=[early_stopping])\n",
        "\n",
        "loss, accuracy = classifier.evaluate(X_test, Y_test_encoded)\n",
        "print(f'Classifier accuracy: {accuracy * 100:.2f}%')\n",
        "\n",
        "# Update 26 FEB 2025, ganti softplus jadi relu"
      ]
    },
    {
      "cell_type": "markdown",
      "source": [
        "Training with Optuna"
      ],
      "metadata": {
        "id": "jmyYfE2-C5EV"
      }
    },
    {
      "cell_type": "code",
      "source": [
        "!pip install optuna\n",
        "import optuna\n",
        "from tensorflow.keras.layers import Input, Dense, Lambda\n",
        "from tensorflow.keras.models import Model\n",
        "from tensorflow.keras.optimizers import AdamW\n",
        "from tensorflow.keras.callbacks import EarlyStopping\n",
        "from tensorflow.keras.utils import to_categorical\n",
        "import tensorflow.keras.backend as K\n",
        "import numpy as np\n",
        "from sklearn.metrics import confusion_matrix, accuracy_score\n",
        "\n",
        "# Pastikan X_train, X_train_smote, Y_train_smote, X_test, Y_test sudah didefinisikan sebelumnya\n",
        "\n",
        "def create_model(trial):\n",
        "    # Hyperparameter dari trial\n",
        "    latent_dim = trial.suggest_int('latent_dim', 2, 2, step=2)\n",
        "    intermediate_dim = trial.suggest_int('intermediate_dim', 6, 96, step=2)\n",
        "\n",
        "    print(\"Trial config:\", latent_dim, intermediate_dim)\n",
        "\n",
        "    # Encoder\n",
        "    inputs = Input(shape=(X_train_smote.shape[1],))\n",
        "    h = Dense(intermediate_dim, activation='relu')(inputs)\n",
        "    z_mean = Dense(latent_dim)(h)\n",
        "    z_log_var = Dense(latent_dim)(h)\n",
        "\n",
        "    def sampling(args):\n",
        "        z_mean, z_log_var = args\n",
        "        epsilon = tf.random.normal(shape=(tf.shape(z_mean)[0], latent_dim))\n",
        "        return z_mean + tf.exp(0.5 * z_log_var) * epsilon\n",
        "\n",
        "    z = Lambda(sampling)([z_mean, z_log_var])\n",
        "\n",
        "    num_classes = 2\n",
        "    Y_train_encoded = to_categorical(Y_train_smote.astype(int), num_classes=num_classes)\n",
        "    Y_test_encoded = to_categorical(Y_test.astype(int), num_classes=num_classes)\n",
        "\n",
        "    # Classifier\n",
        "    clf_h = Dense(intermediate_dim, activation='relu')(z)\n",
        "    clf_out = Dense(2, activation='sigmoid')(clf_h)\n",
        "\n",
        "    model = Model(inputs, clf_out)\n",
        "    model.compile(optimizer=AdamW(learning_rate=0.001, weight_decay=1e-4),\n",
        "                  loss='categorical_crossentropy',\n",
        "                  metrics=['accuracy'])\n",
        "\n",
        "    # Pastikan label sudah one-hot encoded sebelumnya\n",
        "    return model, Y_train_encoded, Y_test_encoded\n",
        "\n",
        "\n",
        "\n",
        "def objective(trial):\n",
        "    model, Y_train_encoded, Y_test_encoded = create_model(trial)\n",
        "\n",
        "    early_stopping = EarlyStopping(monitor='val_loss', patience=10, restore_best_weights=True)\n",
        "    model.fit(X_train_smote, Y_train_encoded,\n",
        "              epochs=30, batch_size=128, validation_data=(X_test, Y_test_encoded),\n",
        "              verbose=0, callbacks=[early_stopping])\n",
        "\n",
        "    # Prediksi probabilitas & konversi ke label\n",
        "    Y_pred = model.predict(X_test)\n",
        "    Y_pred_labels = (Y_pred > 0.5).astype(int)\n",
        "\n",
        "    # Konversi dari one-hot ke label index\n",
        "    y_true = np.argmax(Y_test_encoded, axis=1)\n",
        "    y_pred = np.argmax(Y_pred_labels, axis=1)\n",
        "\n",
        "    # Confusion Matrix\n",
        "    tn, fp, fn, tp = confusion_matrix(y_true, y_pred).ravel()\n",
        "\n",
        "    # Hitung metrik\n",
        "    accuracy = accuracy_score(Y_test_encoded, Y_pred_labels)\n",
        "    sensitivity = tp / (tp + fn) if (tp + fn) != 0 else 0\n",
        "    specificity = tn / (tn + fp) if (tn + fp) != 0 else 0\n",
        "\n",
        "    # Custom score dengan bobot\n",
        "    custom_score = 0.4 * accuracy + 0.3 * sensitivity + 0.3 * specificity\n",
        "\n",
        "    # Optuna meminimalkan, jadi balik tanda\n",
        "    return custom_score\n",
        "\n",
        "\n",
        "# 🔧 2. Jalankan Optuna Study\n",
        "study = optuna.create_study(direction='maximize')\n",
        "study.optimize(objective, n_trials=30)  # Jumlah trial bisa kamu tambah\n",
        "\n",
        "optuna.visualization.plot_optimization_history(study).show()\n",
        "\n",
        "# 🔍 3. Print hasil terbaik\n",
        "print(\"Best hyperparameters:\", study.best_params)\n",
        "print(f\"Best accuracy:{study.best_value:.4f}\")\n"
      ],
      "metadata": {
        "colab": {
          "base_uri": "https://localhost:8080/",
          "height": 1000
        },
        "id": "UjDJfE3sH-3P",
        "outputId": "a6ee213b-abbb-4708-bb07-cef04f848058"
      },
      "execution_count": null,
      "outputs": [
        {
          "output_type": "stream",
          "name": "stdout",
          "text": [
            "Requirement already satisfied: optuna in /usr/local/lib/python3.11/dist-packages (4.3.0)\n",
            "Requirement already satisfied: alembic>=1.5.0 in /usr/local/lib/python3.11/dist-packages (from optuna) (1.15.2)\n",
            "Requirement already satisfied: colorlog in /usr/local/lib/python3.11/dist-packages (from optuna) (6.9.0)\n",
            "Requirement already satisfied: numpy in /usr/local/lib/python3.11/dist-packages (from optuna) (2.0.2)\n",
            "Requirement already satisfied: packaging>=20.0 in /usr/local/lib/python3.11/dist-packages (from optuna) (24.2)\n",
            "Requirement already satisfied: sqlalchemy>=1.4.2 in /usr/local/lib/python3.11/dist-packages (from optuna) (2.0.40)\n",
            "Requirement already satisfied: tqdm in /usr/local/lib/python3.11/dist-packages (from optuna) (4.67.1)\n",
            "Requirement already satisfied: PyYAML in /usr/local/lib/python3.11/dist-packages (from optuna) (6.0.2)\n",
            "Requirement already satisfied: Mako in /usr/lib/python3/dist-packages (from alembic>=1.5.0->optuna) (1.1.3)\n",
            "Requirement already satisfied: typing-extensions>=4.12 in /usr/local/lib/python3.11/dist-packages (from alembic>=1.5.0->optuna) (4.13.2)\n",
            "Requirement already satisfied: greenlet>=1 in /usr/local/lib/python3.11/dist-packages (from sqlalchemy>=1.4.2->optuna) (3.2.0)\n"
          ]
        },
        {
          "output_type": "stream",
          "name": "stderr",
          "text": [
            "[I 2025-04-22 02:03:34,333] A new study created in memory with name: no-name-922afcec-0b9b-4692-a134-95ebc0e496b9\n"
          ]
        },
        {
          "output_type": "stream",
          "name": "stdout",
          "text": [
            "Trial config: 2 74\n",
            "\u001b[1m418/418\u001b[0m \u001b[32m━━━━━━━━━━━━━━━━━━━━\u001b[0m\u001b[37m\u001b[0m \u001b[1m1s\u001b[0m 1ms/step\n"
          ]
        },
        {
          "output_type": "stream",
          "name": "stderr",
          "text": [
            "[I 2025-04-22 02:04:52,434] Trial 0 finished with value: 0.9295578046986401 and parameters: {'latent_dim': 2, 'intermediate_dim': 74}. Best is trial 0 with value: 0.9295578046986401.\n"
          ]
        },
        {
          "output_type": "stream",
          "name": "stdout",
          "text": [
            "Trial config: 2 68\n",
            "\u001b[1m418/418\u001b[0m \u001b[32m━━━━━━━━━━━━━━━━━━━━\u001b[0m\u001b[37m\u001b[0m \u001b[1m1s\u001b[0m 1ms/step\n"
          ]
        },
        {
          "output_type": "stream",
          "name": "stderr",
          "text": [
            "[I 2025-04-22 02:06:08,114] Trial 1 finished with value: 0.9331210658686591 and parameters: {'latent_dim': 2, 'intermediate_dim': 68}. Best is trial 1 with value: 0.9331210658686591.\n"
          ]
        },
        {
          "output_type": "stream",
          "name": "stdout",
          "text": [
            "Trial config: 2 74\n",
            "\u001b[1m418/418\u001b[0m \u001b[32m━━━━━━━━━━━━━━━━━━━━\u001b[0m\u001b[37m\u001b[0m \u001b[1m1s\u001b[0m 3ms/step\n"
          ]
        },
        {
          "output_type": "stream",
          "name": "stderr",
          "text": [
            "[I 2025-04-22 02:07:05,659] Trial 2 finished with value: 0.9285446017836791 and parameters: {'latent_dim': 2, 'intermediate_dim': 74}. Best is trial 1 with value: 0.9331210658686591.\n"
          ]
        },
        {
          "output_type": "stream",
          "name": "stdout",
          "text": [
            "Trial config: 2 34\n",
            "\u001b[1m418/418\u001b[0m \u001b[32m━━━━━━━━━━━━━━━━━━━━\u001b[0m\u001b[37m\u001b[0m \u001b[1m1s\u001b[0m 2ms/step\n"
          ]
        },
        {
          "output_type": "stream",
          "name": "stderr",
          "text": [
            "[I 2025-04-22 02:08:20,872] Trial 3 finished with value: 0.9307899522452058 and parameters: {'latent_dim': 2, 'intermediate_dim': 34}. Best is trial 1 with value: 0.9331210658686591.\n"
          ]
        },
        {
          "output_type": "stream",
          "name": "stdout",
          "text": [
            "Trial config: 2 92\n",
            "\u001b[1m418/418\u001b[0m \u001b[32m━━━━━━━━━━━━━━━━━━━━\u001b[0m\u001b[37m\u001b[0m \u001b[1m1s\u001b[0m 2ms/step\n"
          ]
        },
        {
          "output_type": "stream",
          "name": "stderr",
          "text": [
            "[I 2025-04-22 02:09:29,645] Trial 4 finished with value: 0.939450374774694 and parameters: {'latent_dim': 2, 'intermediate_dim': 92}. Best is trial 4 with value: 0.939450374774694.\n"
          ]
        },
        {
          "output_type": "stream",
          "name": "stdout",
          "text": [
            "Trial config: 2 42\n",
            "\u001b[1m418/418\u001b[0m \u001b[32m━━━━━━━━━━━━━━━━━━━━\u001b[0m\u001b[37m\u001b[0m \u001b[1m1s\u001b[0m 1ms/step\n"
          ]
        },
        {
          "output_type": "stream",
          "name": "stderr",
          "text": [
            "[I 2025-04-22 02:10:39,721] Trial 5 finished with value: 0.9339642514824216 and parameters: {'latent_dim': 2, 'intermediate_dim': 42}. Best is trial 4 with value: 0.939450374774694.\n"
          ]
        },
        {
          "output_type": "stream",
          "name": "stdout",
          "text": [
            "Trial config: 2 54\n",
            "\u001b[1m418/418\u001b[0m \u001b[32m━━━━━━━━━━━━━━━━━━━━\u001b[0m\u001b[37m\u001b[0m \u001b[1m1s\u001b[0m 2ms/step\n"
          ]
        },
        {
          "output_type": "stream",
          "name": "stderr",
          "text": [
            "[I 2025-04-22 02:11:55,581] Trial 6 finished with value: 0.9334457999966351 and parameters: {'latent_dim': 2, 'intermediate_dim': 54}. Best is trial 4 with value: 0.939450374774694.\n"
          ]
        },
        {
          "output_type": "stream",
          "name": "stdout",
          "text": [
            "Trial config: 2 46\n",
            "\u001b[1m418/418\u001b[0m \u001b[32m━━━━━━━━━━━━━━━━━━━━\u001b[0m\u001b[37m\u001b[0m \u001b[1m1s\u001b[0m 2ms/step\n"
          ]
        },
        {
          "output_type": "stream",
          "name": "stderr",
          "text": [
            "[I 2025-04-22 02:13:04,404] Trial 7 finished with value: 0.9285886271490068 and parameters: {'latent_dim': 2, 'intermediate_dim': 46}. Best is trial 4 with value: 0.939450374774694.\n"
          ]
        },
        {
          "output_type": "stream",
          "name": "stdout",
          "text": [
            "Trial config: 2 72\n",
            "\u001b[1m418/418\u001b[0m \u001b[32m━━━━━━━━━━━━━━━━━━━━\u001b[0m\u001b[37m\u001b[0m \u001b[1m1s\u001b[0m 2ms/step\n"
          ]
        },
        {
          "output_type": "stream",
          "name": "stderr",
          "text": [
            "[I 2025-04-22 02:14:02,273] Trial 8 finished with value: 0.9071084542758385 and parameters: {'latent_dim': 2, 'intermediate_dim': 72}. Best is trial 4 with value: 0.939450374774694.\n"
          ]
        },
        {
          "output_type": "stream",
          "name": "stdout",
          "text": [
            "Trial config: 2 44\n",
            "\u001b[1m418/418\u001b[0m \u001b[32m━━━━━━━━━━━━━━━━━━━━\u001b[0m\u001b[37m\u001b[0m \u001b[1m1s\u001b[0m 2ms/step\n"
          ]
        },
        {
          "output_type": "stream",
          "name": "stderr",
          "text": [
            "[I 2025-04-22 02:15:35,214] Trial 9 finished with value: 0.926665126645928 and parameters: {'latent_dim': 2, 'intermediate_dim': 44}. Best is trial 4 with value: 0.939450374774694.\n"
          ]
        },
        {
          "output_type": "stream",
          "name": "stdout",
          "text": [
            "Trial config: 2 94\n",
            "\u001b[1m418/418\u001b[0m \u001b[32m━━━━━━━━━━━━━━━━━━━━\u001b[0m\u001b[37m\u001b[0m \u001b[1m1s\u001b[0m 2ms/step\n"
          ]
        },
        {
          "output_type": "stream",
          "name": "stderr",
          "text": [
            "[I 2025-04-22 02:17:13,490] Trial 10 finished with value: 0.9312585534214123 and parameters: {'latent_dim': 2, 'intermediate_dim': 94}. Best is trial 4 with value: 0.939450374774694.\n"
          ]
        },
        {
          "output_type": "stream",
          "name": "stdout",
          "text": [
            "Trial config: 2 16\n",
            "\u001b[1m418/418\u001b[0m \u001b[32m━━━━━━━━━━━━━━━━━━━━\u001b[0m\u001b[37m\u001b[0m \u001b[1m1s\u001b[0m 2ms/step\n"
          ]
        },
        {
          "output_type": "stream",
          "name": "stderr",
          "text": [
            "[I 2025-04-22 02:18:20,135] Trial 11 finished with value: 0.8880921234296073 and parameters: {'latent_dim': 2, 'intermediate_dim': 16}. Best is trial 4 with value: 0.939450374774694.\n"
          ]
        },
        {
          "output_type": "stream",
          "name": "stdout",
          "text": [
            "Trial config: 2 94\n",
            "\u001b[1m418/418\u001b[0m \u001b[32m━━━━━━━━━━━━━━━━━━━━\u001b[0m\u001b[37m\u001b[0m \u001b[1m1s\u001b[0m 1ms/step\n"
          ]
        },
        {
          "output_type": "stream",
          "name": "stderr",
          "text": [
            "[I 2025-04-22 02:19:47,431] Trial 12 finished with value: 0.9339311776502199 and parameters: {'latent_dim': 2, 'intermediate_dim': 94}. Best is trial 4 with value: 0.939450374774694.\n"
          ]
        },
        {
          "output_type": "stream",
          "name": "stdout",
          "text": [
            "Trial config: 2 24\n",
            "\u001b[1m418/418\u001b[0m \u001b[32m━━━━━━━━━━━━━━━━━━━━\u001b[0m\u001b[37m\u001b[0m \u001b[1m1s\u001b[0m 1ms/step\n"
          ]
        },
        {
          "output_type": "stream",
          "name": "stderr",
          "text": [
            "[I 2025-04-22 02:20:57,525] Trial 13 finished with value: 0.9310114901585239 and parameters: {'latent_dim': 2, 'intermediate_dim': 24}. Best is trial 4 with value: 0.939450374774694.\n"
          ]
        },
        {
          "output_type": "stream",
          "name": "stdout",
          "text": [
            "Trial config: 2 6\n",
            "\u001b[1m418/418\u001b[0m \u001b[32m━━━━━━━━━━━━━━━━━━━━\u001b[0m\u001b[37m\u001b[0m \u001b[1m1s\u001b[0m 1ms/step\n"
          ]
        },
        {
          "output_type": "stream",
          "name": "stderr",
          "text": [
            "[I 2025-04-22 02:22:02,250] Trial 14 finished with value: 0.8756059194300054 and parameters: {'latent_dim': 2, 'intermediate_dim': 6}. Best is trial 4 with value: 0.939450374774694.\n"
          ]
        },
        {
          "output_type": "stream",
          "name": "stdout",
          "text": [
            "Trial config: 2 60\n",
            "\u001b[1m418/418\u001b[0m \u001b[32m━━━━━━━━━━━━━━━━━━━━\u001b[0m\u001b[37m\u001b[0m \u001b[1m1s\u001b[0m 1ms/step\n"
          ]
        },
        {
          "output_type": "stream",
          "name": "stderr",
          "text": [
            "[I 2025-04-22 02:23:23,399] Trial 15 finished with value: 0.920453917069479 and parameters: {'latent_dim': 2, 'intermediate_dim': 60}. Best is trial 4 with value: 0.939450374774694.\n"
          ]
        },
        {
          "output_type": "stream",
          "name": "stdout",
          "text": [
            "Trial config: 2 32\n",
            "\u001b[1m418/418\u001b[0m \u001b[32m━━━━━━━━━━━━━━━━━━━━\u001b[0m\u001b[37m\u001b[0m \u001b[1m1s\u001b[0m 1ms/step\n"
          ]
        },
        {
          "output_type": "stream",
          "name": "stderr",
          "text": [
            "[I 2025-04-22 02:24:34,171] Trial 16 finished with value: 0.9247913598726798 and parameters: {'latent_dim': 2, 'intermediate_dim': 32}. Best is trial 4 with value: 0.939450374774694.\n"
          ]
        },
        {
          "output_type": "stream",
          "name": "stdout",
          "text": [
            "Trial config: 2 86\n",
            "\u001b[1m418/418\u001b[0m \u001b[32m━━━━━━━━━━━━━━━━━━━━\u001b[0m\u001b[37m\u001b[0m \u001b[1m1s\u001b[0m 2ms/step\n"
          ]
        },
        {
          "output_type": "stream",
          "name": "stderr",
          "text": [
            "[I 2025-04-22 02:25:52,774] Trial 17 finished with value: 0.9368572520949033 and parameters: {'latent_dim': 2, 'intermediate_dim': 86}. Best is trial 4 with value: 0.939450374774694.\n"
          ]
        },
        {
          "output_type": "stream",
          "name": "stdout",
          "text": [
            "Trial config: 2 86\n",
            "\u001b[1m418/418\u001b[0m \u001b[32m━━━━━━━━━━━━━━━━━━━━\u001b[0m\u001b[37m\u001b[0m \u001b[1m1s\u001b[0m 2ms/step\n"
          ]
        },
        {
          "output_type": "stream",
          "name": "stderr",
          "text": [
            "[I 2025-04-22 02:27:09,920] Trial 18 finished with value: 0.9335654087981232 and parameters: {'latent_dim': 2, 'intermediate_dim': 86}. Best is trial 4 with value: 0.939450374774694.\n"
          ]
        },
        {
          "output_type": "stream",
          "name": "stdout",
          "text": [
            "Trial config: 2 84\n",
            "\u001b[1m418/418\u001b[0m \u001b[32m━━━━━━━━━━━━━━━━━━━━\u001b[0m\u001b[37m\u001b[0m \u001b[1m1s\u001b[0m 1ms/step\n"
          ]
        },
        {
          "output_type": "stream",
          "name": "stderr",
          "text": [
            "[I 2025-04-22 02:28:25,260] Trial 19 finished with value: 0.934584211584294 and parameters: {'latent_dim': 2, 'intermediate_dim': 84}. Best is trial 4 with value: 0.939450374774694.\n"
          ]
        },
        {
          "output_type": "stream",
          "name": "stdout",
          "text": [
            "Trial config: 2 84\n",
            "\u001b[1m418/418\u001b[0m \u001b[32m━━━━━━━━━━━━━━━━━━━━\u001b[0m\u001b[37m\u001b[0m \u001b[1m1s\u001b[0m 1ms/step\n"
          ]
        },
        {
          "output_type": "stream",
          "name": "stderr",
          "text": [
            "[I 2025-04-22 02:29:37,577] Trial 20 finished with value: 0.9339890885846839 and parameters: {'latent_dim': 2, 'intermediate_dim': 84}. Best is trial 4 with value: 0.939450374774694.\n"
          ]
        },
        {
          "output_type": "stream",
          "name": "stdout",
          "text": [
            "Trial config: 2 82\n",
            "\u001b[1m418/418\u001b[0m \u001b[32m━━━━━━━━━━━━━━━━━━━━\u001b[0m\u001b[37m\u001b[0m \u001b[1m1s\u001b[0m 2ms/step\n"
          ]
        },
        {
          "output_type": "stream",
          "name": "stderr",
          "text": [
            "[I 2025-04-22 02:31:06,929] Trial 21 finished with value: 0.9371451196178988 and parameters: {'latent_dim': 2, 'intermediate_dim': 82}. Best is trial 4 with value: 0.939450374774694.\n"
          ]
        },
        {
          "output_type": "stream",
          "name": "stdout",
          "text": [
            "Trial config: 2 96\n",
            "\u001b[1m418/418\u001b[0m \u001b[32m━━━━━━━━━━━━━━━━━━━━\u001b[0m\u001b[37m\u001b[0m \u001b[1m1s\u001b[0m 1ms/step\n"
          ]
        },
        {
          "output_type": "stream",
          "name": "stderr",
          "text": [
            "[I 2025-04-22 02:32:15,207] Trial 22 finished with value: 0.9311793211963257 and parameters: {'latent_dim': 2, 'intermediate_dim': 96}. Best is trial 4 with value: 0.939450374774694.\n"
          ]
        },
        {
          "output_type": "stream",
          "name": "stdout",
          "text": [
            "Trial config: 2 82\n",
            "\u001b[1m418/418\u001b[0m \u001b[32m━━━━━━━━━━━━━━━━━━━━\u001b[0m\u001b[37m\u001b[0m \u001b[1m1s\u001b[0m 2ms/step\n"
          ]
        },
        {
          "output_type": "stream",
          "name": "stderr",
          "text": [
            "[I 2025-04-22 02:33:31,714] Trial 23 finished with value: 0.9359636157521569 and parameters: {'latent_dim': 2, 'intermediate_dim': 82}. Best is trial 4 with value: 0.939450374774694.\n"
          ]
        },
        {
          "output_type": "stream",
          "name": "stdout",
          "text": [
            "Trial config: 2 88\n",
            "\u001b[1m418/418\u001b[0m \u001b[32m━━━━━━━━━━━━━━━━━━━━\u001b[0m\u001b[37m\u001b[0m \u001b[1m1s\u001b[0m 2ms/step\n"
          ]
        },
        {
          "output_type": "stream",
          "name": "stderr",
          "text": [
            "[I 2025-04-22 02:35:13,334] Trial 24 finished with value: 0.9340503443920793 and parameters: {'latent_dim': 2, 'intermediate_dim': 88}. Best is trial 4 with value: 0.939450374774694.\n"
          ]
        },
        {
          "output_type": "stream",
          "name": "stdout",
          "text": [
            "Trial config: 2 64\n",
            "\u001b[1m418/418\u001b[0m \u001b[32m━━━━━━━━━━━━━━━━━━━━\u001b[0m\u001b[37m\u001b[0m \u001b[1m1s\u001b[0m 2ms/step\n"
          ]
        },
        {
          "output_type": "stream",
          "name": "stderr",
          "text": [
            "[I 2025-04-22 02:36:40,420] Trial 25 finished with value: 0.9267584854614832 and parameters: {'latent_dim': 2, 'intermediate_dim': 64}. Best is trial 4 with value: 0.939450374774694.\n"
          ]
        },
        {
          "output_type": "stream",
          "name": "stdout",
          "text": [
            "Trial config: 2 78\n",
            "\u001b[1m418/418\u001b[0m \u001b[32m━━━━━━━━━━━━━━━━━━━━\u001b[0m\u001b[37m\u001b[0m \u001b[1m1s\u001b[0m 1ms/step\n"
          ]
        },
        {
          "output_type": "stream",
          "name": "stderr",
          "text": [
            "[I 2025-04-22 02:38:17,429] Trial 26 finished with value: 0.9358079721276014 and parameters: {'latent_dim': 2, 'intermediate_dim': 78}. Best is trial 4 with value: 0.939450374774694.\n"
          ]
        },
        {
          "output_type": "stream",
          "name": "stdout",
          "text": [
            "Trial config: 2 90\n",
            "\u001b[1m418/418\u001b[0m \u001b[32m━━━━━━━━━━━━━━━━━━━━\u001b[0m\u001b[37m\u001b[0m \u001b[1m1s\u001b[0m 2ms/step\n"
          ]
        },
        {
          "output_type": "stream",
          "name": "stderr",
          "text": [
            "[I 2025-04-22 02:39:51,197] Trial 27 finished with value: 0.9376083695814366 and parameters: {'latent_dim': 2, 'intermediate_dim': 90}. Best is trial 4 with value: 0.939450374774694.\n"
          ]
        },
        {
          "output_type": "stream",
          "name": "stdout",
          "text": [
            "Trial config: 2 58\n",
            "\u001b[1m418/418\u001b[0m \u001b[32m━━━━━━━━━━━━━━━━━━━━\u001b[0m\u001b[37m\u001b[0m \u001b[1m1s\u001b[0m 2ms/step\n"
          ]
        },
        {
          "output_type": "stream",
          "name": "stderr",
          "text": [
            "[I 2025-04-22 02:41:20,942] Trial 28 finished with value: 0.9264538524676755 and parameters: {'latent_dim': 2, 'intermediate_dim': 58}. Best is trial 4 with value: 0.939450374774694.\n"
          ]
        },
        {
          "output_type": "stream",
          "name": "stdout",
          "text": [
            "Trial config: 2 76\n",
            "\u001b[1m418/418\u001b[0m \u001b[32m━━━━━━━━━━━━━━━━━━━━\u001b[0m\u001b[37m\u001b[0m \u001b[1m1s\u001b[0m 2ms/step\n"
          ]
        },
        {
          "output_type": "stream",
          "name": "stderr",
          "text": [
            "[I 2025-04-22 02:42:53,794] Trial 29 finished with value: 0.9360712478375186 and parameters: {'latent_dim': 2, 'intermediate_dim': 76}. Best is trial 4 with value: 0.939450374774694.\n"
          ]
        },
        {
          "output_type": "display_data",
          "data": {
            "text/html": [
              "<html>\n",
              "<head><meta charset=\"utf-8\" /></head>\n",
              "<body>\n",
              "    <div>            <script src=\"https://cdnjs.cloudflare.com/ajax/libs/mathjax/2.7.5/MathJax.js?config=TeX-AMS-MML_SVG\"></script><script type=\"text/javascript\">if (window.MathJax && window.MathJax.Hub && window.MathJax.Hub.Config) {window.MathJax.Hub.Config({SVG: {font: \"STIX-Web\"}});}</script>                <script type=\"text/javascript\">window.PlotlyConfig = {MathJaxConfig: 'local'};</script>\n",
              "        <script charset=\"utf-8\" src=\"https://cdn.plot.ly/plotly-2.35.2.min.js\"></script>                <div id=\"8ed6133e-a8af-4aeb-90ff-7785659f3dc6\" class=\"plotly-graph-div\" style=\"height:525px; width:100%;\"></div>            <script type=\"text/javascript\">                                    window.PLOTLYENV=window.PLOTLYENV || {};                                    if (document.getElementById(\"8ed6133e-a8af-4aeb-90ff-7785659f3dc6\")) {                    Plotly.newPlot(                        \"8ed6133e-a8af-4aeb-90ff-7785659f3dc6\",                        [{\"mode\":\"markers\",\"name\":\"Objective Value\",\"x\":[0,1,2,3,4,5,6,7,8,9,10,11,12,13,14,15,16,17,18,19,20,21,22,23,24,25,26,27,28,29],\"y\":[0.9295578046986401,0.9331210658686591,0.9285446017836791,0.9307899522452058,0.939450374774694,0.9339642514824216,0.9334457999966351,0.9285886271490068,0.9071084542758385,0.926665126645928,0.9312585534214123,0.8880921234296073,0.9339311776502199,0.9310114901585239,0.8756059194300054,0.920453917069479,0.9247913598726798,0.9368572520949033,0.9335654087981232,0.934584211584294,0.9339890885846839,0.9371451196178988,0.9311793211963257,0.9359636157521569,0.9340503443920793,0.9267584854614832,0.9358079721276014,0.9376083695814366,0.9264538524676755,0.9360712478375186],\"type\":\"scatter\"},{\"mode\":\"lines\",\"name\":\"Best Value\",\"x\":[0,1,2,3,4,5,6,7,8,9,10,11,12,13,14,15,16,17,18,19,20,21,22,23,24,25,26,27,28,29],\"y\":[0.9295578046986401,0.9331210658686591,0.9331210658686591,0.9331210658686591,0.939450374774694,0.939450374774694,0.939450374774694,0.939450374774694,0.939450374774694,0.939450374774694,0.939450374774694,0.939450374774694,0.939450374774694,0.939450374774694,0.939450374774694,0.939450374774694,0.939450374774694,0.939450374774694,0.939450374774694,0.939450374774694,0.939450374774694,0.939450374774694,0.939450374774694,0.939450374774694,0.939450374774694,0.939450374774694,0.939450374774694,0.939450374774694,0.939450374774694,0.939450374774694],\"type\":\"scatter\"},{\"marker\":{\"color\":\"#cccccc\"},\"mode\":\"markers\",\"name\":\"Infeasible Trial\",\"showlegend\":false,\"x\":[],\"y\":[],\"type\":\"scatter\"}],                        {\"title\":{\"text\":\"Optimization History Plot\"},\"xaxis\":{\"title\":{\"text\":\"Trial\"}},\"yaxis\":{\"title\":{\"text\":\"Objective Value\"}},\"template\":{\"data\":{\"histogram2dcontour\":[{\"type\":\"histogram2dcontour\",\"colorbar\":{\"outlinewidth\":0,\"ticks\":\"\"},\"colorscale\":[[0.0,\"#0d0887\"],[0.1111111111111111,\"#46039f\"],[0.2222222222222222,\"#7201a8\"],[0.3333333333333333,\"#9c179e\"],[0.4444444444444444,\"#bd3786\"],[0.5555555555555556,\"#d8576b\"],[0.6666666666666666,\"#ed7953\"],[0.7777777777777778,\"#fb9f3a\"],[0.8888888888888888,\"#fdca26\"],[1.0,\"#f0f921\"]]}],\"choropleth\":[{\"type\":\"choropleth\",\"colorbar\":{\"outlinewidth\":0,\"ticks\":\"\"}}],\"histogram2d\":[{\"type\":\"histogram2d\",\"colorbar\":{\"outlinewidth\":0,\"ticks\":\"\"},\"colorscale\":[[0.0,\"#0d0887\"],[0.1111111111111111,\"#46039f\"],[0.2222222222222222,\"#7201a8\"],[0.3333333333333333,\"#9c179e\"],[0.4444444444444444,\"#bd3786\"],[0.5555555555555556,\"#d8576b\"],[0.6666666666666666,\"#ed7953\"],[0.7777777777777778,\"#fb9f3a\"],[0.8888888888888888,\"#fdca26\"],[1.0,\"#f0f921\"]]}],\"heatmap\":[{\"type\":\"heatmap\",\"colorbar\":{\"outlinewidth\":0,\"ticks\":\"\"},\"colorscale\":[[0.0,\"#0d0887\"],[0.1111111111111111,\"#46039f\"],[0.2222222222222222,\"#7201a8\"],[0.3333333333333333,\"#9c179e\"],[0.4444444444444444,\"#bd3786\"],[0.5555555555555556,\"#d8576b\"],[0.6666666666666666,\"#ed7953\"],[0.7777777777777778,\"#fb9f3a\"],[0.8888888888888888,\"#fdca26\"],[1.0,\"#f0f921\"]]}],\"heatmapgl\":[{\"type\":\"heatmapgl\",\"colorbar\":{\"outlinewidth\":0,\"ticks\":\"\"},\"colorscale\":[[0.0,\"#0d0887\"],[0.1111111111111111,\"#46039f\"],[0.2222222222222222,\"#7201a8\"],[0.3333333333333333,\"#9c179e\"],[0.4444444444444444,\"#bd3786\"],[0.5555555555555556,\"#d8576b\"],[0.6666666666666666,\"#ed7953\"],[0.7777777777777778,\"#fb9f3a\"],[0.8888888888888888,\"#fdca26\"],[1.0,\"#f0f921\"]]}],\"contourcarpet\":[{\"type\":\"contourcarpet\",\"colorbar\":{\"outlinewidth\":0,\"ticks\":\"\"}}],\"contour\":[{\"type\":\"contour\",\"colorbar\":{\"outlinewidth\":0,\"ticks\":\"\"},\"colorscale\":[[0.0,\"#0d0887\"],[0.1111111111111111,\"#46039f\"],[0.2222222222222222,\"#7201a8\"],[0.3333333333333333,\"#9c179e\"],[0.4444444444444444,\"#bd3786\"],[0.5555555555555556,\"#d8576b\"],[0.6666666666666666,\"#ed7953\"],[0.7777777777777778,\"#fb9f3a\"],[0.8888888888888888,\"#fdca26\"],[1.0,\"#f0f921\"]]}],\"surface\":[{\"type\":\"surface\",\"colorbar\":{\"outlinewidth\":0,\"ticks\":\"\"},\"colorscale\":[[0.0,\"#0d0887\"],[0.1111111111111111,\"#46039f\"],[0.2222222222222222,\"#7201a8\"],[0.3333333333333333,\"#9c179e\"],[0.4444444444444444,\"#bd3786\"],[0.5555555555555556,\"#d8576b\"],[0.6666666666666666,\"#ed7953\"],[0.7777777777777778,\"#fb9f3a\"],[0.8888888888888888,\"#fdca26\"],[1.0,\"#f0f921\"]]}],\"mesh3d\":[{\"type\":\"mesh3d\",\"colorbar\":{\"outlinewidth\":0,\"ticks\":\"\"}}],\"scatter\":[{\"fillpattern\":{\"fillmode\":\"overlay\",\"size\":10,\"solidity\":0.2},\"type\":\"scatter\"}],\"parcoords\":[{\"type\":\"parcoords\",\"line\":{\"colorbar\":{\"outlinewidth\":0,\"ticks\":\"\"}}}],\"scatterpolargl\":[{\"type\":\"scatterpolargl\",\"marker\":{\"colorbar\":{\"outlinewidth\":0,\"ticks\":\"\"}}}],\"bar\":[{\"error_x\":{\"color\":\"#2a3f5f\"},\"error_y\":{\"color\":\"#2a3f5f\"},\"marker\":{\"line\":{\"color\":\"#E5ECF6\",\"width\":0.5},\"pattern\":{\"fillmode\":\"overlay\",\"size\":10,\"solidity\":0.2}},\"type\":\"bar\"}],\"scattergeo\":[{\"type\":\"scattergeo\",\"marker\":{\"colorbar\":{\"outlinewidth\":0,\"ticks\":\"\"}}}],\"scatterpolar\":[{\"type\":\"scatterpolar\",\"marker\":{\"colorbar\":{\"outlinewidth\":0,\"ticks\":\"\"}}}],\"histogram\":[{\"marker\":{\"pattern\":{\"fillmode\":\"overlay\",\"size\":10,\"solidity\":0.2}},\"type\":\"histogram\"}],\"scattergl\":[{\"type\":\"scattergl\",\"marker\":{\"colorbar\":{\"outlinewidth\":0,\"ticks\":\"\"}}}],\"scatter3d\":[{\"type\":\"scatter3d\",\"line\":{\"colorbar\":{\"outlinewidth\":0,\"ticks\":\"\"}},\"marker\":{\"colorbar\":{\"outlinewidth\":0,\"ticks\":\"\"}}}],\"scattermapbox\":[{\"type\":\"scattermapbox\",\"marker\":{\"colorbar\":{\"outlinewidth\":0,\"ticks\":\"\"}}}],\"scatterternary\":[{\"type\":\"scatterternary\",\"marker\":{\"colorbar\":{\"outlinewidth\":0,\"ticks\":\"\"}}}],\"scattercarpet\":[{\"type\":\"scattercarpet\",\"marker\":{\"colorbar\":{\"outlinewidth\":0,\"ticks\":\"\"}}}],\"carpet\":[{\"aaxis\":{\"endlinecolor\":\"#2a3f5f\",\"gridcolor\":\"white\",\"linecolor\":\"white\",\"minorgridcolor\":\"white\",\"startlinecolor\":\"#2a3f5f\"},\"baxis\":{\"endlinecolor\":\"#2a3f5f\",\"gridcolor\":\"white\",\"linecolor\":\"white\",\"minorgridcolor\":\"white\",\"startlinecolor\":\"#2a3f5f\"},\"type\":\"carpet\"}],\"table\":[{\"cells\":{\"fill\":{\"color\":\"#EBF0F8\"},\"line\":{\"color\":\"white\"}},\"header\":{\"fill\":{\"color\":\"#C8D4E3\"},\"line\":{\"color\":\"white\"}},\"type\":\"table\"}],\"barpolar\":[{\"marker\":{\"line\":{\"color\":\"#E5ECF6\",\"width\":0.5},\"pattern\":{\"fillmode\":\"overlay\",\"size\":10,\"solidity\":0.2}},\"type\":\"barpolar\"}],\"pie\":[{\"automargin\":true,\"type\":\"pie\"}]},\"layout\":{\"autotypenumbers\":\"strict\",\"colorway\":[\"#636efa\",\"#EF553B\",\"#00cc96\",\"#ab63fa\",\"#FFA15A\",\"#19d3f3\",\"#FF6692\",\"#B6E880\",\"#FF97FF\",\"#FECB52\"],\"font\":{\"color\":\"#2a3f5f\"},\"hovermode\":\"closest\",\"hoverlabel\":{\"align\":\"left\"},\"paper_bgcolor\":\"white\",\"plot_bgcolor\":\"#E5ECF6\",\"polar\":{\"bgcolor\":\"#E5ECF6\",\"angularaxis\":{\"gridcolor\":\"white\",\"linecolor\":\"white\",\"ticks\":\"\"},\"radialaxis\":{\"gridcolor\":\"white\",\"linecolor\":\"white\",\"ticks\":\"\"}},\"ternary\":{\"bgcolor\":\"#E5ECF6\",\"aaxis\":{\"gridcolor\":\"white\",\"linecolor\":\"white\",\"ticks\":\"\"},\"baxis\":{\"gridcolor\":\"white\",\"linecolor\":\"white\",\"ticks\":\"\"},\"caxis\":{\"gridcolor\":\"white\",\"linecolor\":\"white\",\"ticks\":\"\"}},\"coloraxis\":{\"colorbar\":{\"outlinewidth\":0,\"ticks\":\"\"}},\"colorscale\":{\"sequential\":[[0.0,\"#0d0887\"],[0.1111111111111111,\"#46039f\"],[0.2222222222222222,\"#7201a8\"],[0.3333333333333333,\"#9c179e\"],[0.4444444444444444,\"#bd3786\"],[0.5555555555555556,\"#d8576b\"],[0.6666666666666666,\"#ed7953\"],[0.7777777777777778,\"#fb9f3a\"],[0.8888888888888888,\"#fdca26\"],[1.0,\"#f0f921\"]],\"sequentialminus\":[[0.0,\"#0d0887\"],[0.1111111111111111,\"#46039f\"],[0.2222222222222222,\"#7201a8\"],[0.3333333333333333,\"#9c179e\"],[0.4444444444444444,\"#bd3786\"],[0.5555555555555556,\"#d8576b\"],[0.6666666666666666,\"#ed7953\"],[0.7777777777777778,\"#fb9f3a\"],[0.8888888888888888,\"#fdca26\"],[1.0,\"#f0f921\"]],\"diverging\":[[0,\"#8e0152\"],[0.1,\"#c51b7d\"],[0.2,\"#de77ae\"],[0.3,\"#f1b6da\"],[0.4,\"#fde0ef\"],[0.5,\"#f7f7f7\"],[0.6,\"#e6f5d0\"],[0.7,\"#b8e186\"],[0.8,\"#7fbc41\"],[0.9,\"#4d9221\"],[1,\"#276419\"]]},\"xaxis\":{\"gridcolor\":\"white\",\"linecolor\":\"white\",\"ticks\":\"\",\"title\":{\"standoff\":15},\"zerolinecolor\":\"white\",\"automargin\":true,\"zerolinewidth\":2},\"yaxis\":{\"gridcolor\":\"white\",\"linecolor\":\"white\",\"ticks\":\"\",\"title\":{\"standoff\":15},\"zerolinecolor\":\"white\",\"automargin\":true,\"zerolinewidth\":2},\"scene\":{\"xaxis\":{\"backgroundcolor\":\"#E5ECF6\",\"gridcolor\":\"white\",\"linecolor\":\"white\",\"showbackground\":true,\"ticks\":\"\",\"zerolinecolor\":\"white\",\"gridwidth\":2},\"yaxis\":{\"backgroundcolor\":\"#E5ECF6\",\"gridcolor\":\"white\",\"linecolor\":\"white\",\"showbackground\":true,\"ticks\":\"\",\"zerolinecolor\":\"white\",\"gridwidth\":2},\"zaxis\":{\"backgroundcolor\":\"#E5ECF6\",\"gridcolor\":\"white\",\"linecolor\":\"white\",\"showbackground\":true,\"ticks\":\"\",\"zerolinecolor\":\"white\",\"gridwidth\":2}},\"shapedefaults\":{\"line\":{\"color\":\"#2a3f5f\"}},\"annotationdefaults\":{\"arrowcolor\":\"#2a3f5f\",\"arrowhead\":0,\"arrowwidth\":1},\"geo\":{\"bgcolor\":\"white\",\"landcolor\":\"#E5ECF6\",\"subunitcolor\":\"white\",\"showland\":true,\"showlakes\":true,\"lakecolor\":\"white\"},\"title\":{\"x\":0.05},\"mapbox\":{\"style\":\"light\"}}}},                        {\"responsive\": true}                    ).then(function(){\n",
              "                            \n",
              "var gd = document.getElementById('8ed6133e-a8af-4aeb-90ff-7785659f3dc6');\n",
              "var x = new MutationObserver(function (mutations, observer) {{\n",
              "        var display = window.getComputedStyle(gd).display;\n",
              "        if (!display || display === 'none') {{\n",
              "            console.log([gd, 'removed!']);\n",
              "            Plotly.purge(gd);\n",
              "            observer.disconnect();\n",
              "        }}\n",
              "}});\n",
              "\n",
              "// Listen for the removal of the full notebook cells\n",
              "var notebookContainer = gd.closest('#notebook-container');\n",
              "if (notebookContainer) {{\n",
              "    x.observe(notebookContainer, {childList: true});\n",
              "}}\n",
              "\n",
              "// Listen for the clearing of the current output cell\n",
              "var outputEl = gd.closest('.output');\n",
              "if (outputEl) {{\n",
              "    x.observe(outputEl, {childList: true});\n",
              "}}\n",
              "\n",
              "                        })                };                            </script>        </div>\n",
              "</body>\n",
              "</html>"
            ]
          },
          "metadata": {}
        },
        {
          "output_type": "stream",
          "name": "stdout",
          "text": [
            "Best hyperparameters: {'latent_dim': 2, 'intermediate_dim': 92}\n",
            "Best accuracy:0.9395\n"
          ]
        }
      ]
    },
    {
      "cell_type": "code",
      "source": [
        "from sklearn.metrics import confusion_matrix\n",
        "\n",
        "# Get model predictions\n",
        "Y_pred_probs = classifier.predict(X_test)\n",
        "Y_pred = (Y_pred_probs[:, 1] > 0.5).astype(int)  # Convert to binary labels\n",
        "\n",
        "# Convert one-hot encoded Y_test back to labels\n",
        "Y_test_labels = Y_test_encoded[:, 1].astype(int)\n",
        "\n",
        "# Compute confusion matrix\n",
        "tn, fp, fn, tp = confusion_matrix(Y_test_labels, Y_pred).ravel()\n",
        "\n",
        "# Calculate sensitivity (recall) and specificity\n",
        "sensitivity = (tp / (tp + fn)) * 100  # Recall\n",
        "specificity = (tn / (tn + fp)) * 100\n",
        "\n",
        "print(f'Sensitivity (Recall): {sensitivity: .2f}' + '%')\n",
        "print(f'Specificity: {specificity: .2f}' + '%')"
      ],
      "metadata": {
        "colab": {
          "base_uri": "https://localhost:8080/"
        },
        "id": "6Hur6faffkeF",
        "outputId": "18dd5d94-a8cd-41f6-f7cf-e3dd25618fcc"
      },
      "execution_count": null,
      "outputs": [
        {
          "output_type": "stream",
          "name": "stdout",
          "text": [
            "\u001b[1m418/418\u001b[0m \u001b[32m━━━━━━━━━━━━━━━━━━━━\u001b[0m\u001b[37m\u001b[0m \u001b[1m1s\u001b[0m 1ms/step\n",
            "Sensitivity (Recall):  95.93%\n",
            "Specificity:  92.70%\n"
          ]
        }
      ]
    },
    {
      "cell_type": "code",
      "execution_count": null,
      "metadata": {
        "colab": {
          "base_uri": "https://localhost:8080/"
        },
        "id": "dqWmmGxyQxDR",
        "outputId": "9c863361-4ecc-4bc4-d429-5135ccee795c"
      },
      "outputs": [
        {
          "output_type": "stream",
          "name": "stderr",
          "text": [
            "WARNING:absl:You are saving your model as an HDF5 file via `model.save()` or `keras.saving.save_model(model)`. This file format is considered legacy. We recommend using instead the native Keras format, e.g. `model.save('my_model.keras')` or `keras.saving.save_model(model, 'my_model.keras')`. \n"
          ]
        }
      ],
      "source": [
        "from google.colab import files\n",
        "classifier.save(\"fixed_classifier.h5\")\n",
        "#files.download(\"fixed_classifier.h5\")"
      ]
    },
    {
      "cell_type": "code",
      "execution_count": null,
      "metadata": {
        "id": "EEwpCupxTvRN"
      },
      "outputs": [],
      "source": [
        "from google.colab import files\n",
        "classifier.save(\"fixed_classifier.keras\")\n",
        "#files.download(\"fixed_classifier.keras\")"
      ]
    },
    {
      "cell_type": "markdown",
      "metadata": {
        "id": "QZ0A_luDT2VG"
      },
      "source": [
        "File .keras atau .h5 taruh di /content/ aja terus bisa diload"
      ]
    },
    {
      "cell_type": "code",
      "execution_count": null,
      "metadata": {
        "id": "9kh4BbVGUBZD"
      },
      "outputs": [],
      "source": [
        "from tensorflow.keras.models import load_model\n",
        "\n",
        "# classifier = load_model(\"/content/fixed_classifier.h5\")\n",
        "# classifier = load_model(\"/content/fixed_classifier.keras\")"
      ]
    },
    {
      "cell_type": "code",
      "execution_count": null,
      "metadata": {
        "colab": {
          "base_uri": "https://localhost:8080/",
          "height": 407
        },
        "id": "DtDYvQNGyLfk",
        "outputId": "3b12c12a-81d1-4d6b-bbf4-4a8e3cab1dc0"
      },
      "outputs": [
        {
          "output_type": "display_data",
          "data": {
            "text/plain": [
              "<Figure size 1200x400 with 2 Axes>"
            ],
            "image/png": "[encoded data removed]"
          },
          "metadata": {}
        }
      ],
      "source": [
        "# Plot training\n",
        "import matplotlib.pyplot as plt\n",
        "from tensorflow.keras.utils import plot_model\n",
        "\n",
        "# Assuming `history` is the result of the `fit` method from training your model\n",
        "def plot_training_history(history):\n",
        "    # Plot training & validation accuracy values\n",
        "    plt.figure(figsize=(12, 4))\n",
        "    plt.subplot(1, 2, 1)\n",
        "    plt.plot(history.history['accuracy'])\n",
        "    plt.plot(history.history['val_accuracy'])\n",
        "    plt.title('Model Accuracy')\n",
        "    plt.ylabel('Accuracy')\n",
        "    plt.xlabel('Epoch')\n",
        "    plt.legend(['Train', 'Validation'], loc='upper left')\n",
        "\n",
        "    # Plot training & validation loss values\n",
        "    plt.subplot(1, 2, 2)\n",
        "    plt.plot(history.history['loss'])\n",
        "    plt.plot(history.history['val_loss'])\n",
        "    plt.title('Model Loss')\n",
        "    plt.ylabel('Loss')\n",
        "    plt.xlabel('Epoch')\n",
        "    plt.legend(['Train', 'Validation'], loc='upper left')\n",
        "\n",
        "    plt.tight_layout()\n",
        "    plt.show()\n",
        "\n",
        "# Example usage\n",
        "# history = classifier.fit(...)  # Train your model and get the history\n",
        "plot_training_history(history)\n"
      ]
    },
    {
      "cell_type": "code",
      "execution_count": null,
      "metadata": {
        "colab": {
          "base_uri": "https://localhost:8080/",
          "height": 1000
        },
        "id": "vL4ldS58y1q_",
        "outputId": "8a647963-def9-410c-cacc-ea69dd681e09"
      },
      "outputs": [
        {
          "output_type": "execute_result",
          "data": {
            "image/png": "[encoded data removed]",
            "text/plain": [
              "<IPython.core.display.Image object>"
            ]
          },
          "metadata": {},
          "execution_count": 43
        }
      ],
      "source": [
        "# Print model pake model baru\n",
        "# Plot model architecture\n",
        "plot_model(classifier, to_file='model_plot.png', show_shapes=True, show_layer_names=True)"
      ]
    },
    {
      "cell_type": "code",
      "source": [
        "def float_to_custom_binary(float_value):\n",
        "    # Determine the sign bit\n",
        "    sign_bit = 0 if float_value >= 0 else 1\n",
        "\n",
        "    # Get the absolute value of the float for further processing\n",
        "    abs_value = abs(float_value)\n",
        "\n",
        "    # Separate the integer and fractional parts\n",
        "    integer_part = int(abs_value)\n",
        "    fractional_part = abs_value - integer_part\n",
        "\n",
        "    # Convert the integer part to binary (4 bits)\n",
        "    integer_binary = format(integer_part & 0b1111, '04b')\n",
        "\n",
        "    # Convert the fractional part to binary (11 bits)\n",
        "    fractional_binary = ''\n",
        "    for _ in range(11):\n",
        "        fractional_part *= 2\n",
        "        bit = int(fractional_part)\n",
        "        fractional_binary += str(bit)\n",
        "        fractional_part -= bit\n",
        "\n",
        "    # Combine all parts into a single binary string\n",
        "    custom_binary = f\"{sign_bit}{integer_binary}{fractional_binary}\"\n",
        "    return custom_binary"
      ],
      "metadata": {
        "id": "jfjBUEt5aLX7"
      },
      "execution_count": null,
      "outputs": []
    },
    {
      "cell_type": "code",
      "source": [
        "from google.colab import files\n",
        "import os\n",
        "\n",
        "def save_model_parameters_per_layer(model):\n",
        "    saved_files = []\n",
        "\n",
        "    for layer in model.layers:\n",
        "        weights = layer.get_weights()\n",
        "        if len(weights) == 2:\n",
        "            weight_matrix, bias_vector = weights\n",
        "\n",
        "            layer_name = layer.name\n",
        "\n",
        "            weight_filename = f\"{layer_name}_weights.mem\"\n",
        "            bias_filename = f\"{layer_name}_biases.mem\"\n",
        "\n",
        "            # Save weights\n",
        "            with open(weight_filename, 'w') as wf:\n",
        "                for row in weight_matrix:\n",
        "                    for val in row:\n",
        "                        wf.write(float_to_custom_binary(val) + '\\n')\n",
        "            saved_files.append(weight_filename)\n",
        "\n",
        "            # Save biases\n",
        "            with open(bias_filename, 'w') as bf:\n",
        "                for val in bias_vector:\n",
        "                    bf.write(float_to_custom_binary(val) + '\\n')\n",
        "            saved_files.append(bias_filename)\n",
        "\n",
        "        elif len(weights) == 1:\n",
        "            weight_matrix = weights[0]\n",
        "            layer_name = layer.name\n",
        "            weight_filename = f\"{layer_name}_weights.mem\"\n",
        "\n",
        "            with open(weight_filename, 'w') as wf:\n",
        "                for row in weight_matrix:\n",
        "                    for val in row:\n",
        "                        wf.write(float_to_custom_binary(val) + '\\n')\n",
        "            saved_files.append(weight_filename)\n",
        "\n",
        "    # Download all files in Colab\n",
        "    for filename in saved_files:\n",
        "        files.download(filename)"
      ],
      "metadata": {
        "id": "9kekVJ_vaNcq"
      },
      "execution_count": null,
      "outputs": []
    },
    {
      "cell_type": "code",
      "source": [
        "save_model_parameters_per_layer(classifier)"
      ],
      "metadata": {
        "colab": {
          "base_uri": "https://localhost:8080/",
          "height": 17
        },
        "id": "NHKjIF-ybP18",
        "outputId": "aae121bc-7444-40c9-ca1b-943b13ad7395"
      },
      "execution_count": null,
      "outputs": [
        {
          "output_type": "display_data",
          "data": {
            "text/plain": [
              "<IPython.core.display.Javascript object>"
            ],
            "application/javascript": [
              "\n",
              "    async function download(id, filename, size) {\n",
              "      if (!google.colab.kernel.accessAllowed) {\n",
              "        return;\n",
              "      }\n",
              "      const div = document.createElement('div');\n",
              "      const label = document.createElement('label');\n",
              "      label.textContent = `Downloading \"${filename}\": `;\n",
              "      div.appendChild(label);\n",
              "      const progress = document.createElement('progress');\n",
              "      progress.max = size;\n",
              "      div.appendChild(progress);\n",
              "      document.body.appendChild(div);\n",
              "\n",
              "      const buffers = [];\n",
              "      let downloaded = 0;\n",
              "\n",
              "      const channel = await google.colab.kernel.comms.open(id);\n",
              "      // Send a message to notify the kernel that we're ready.\n",
              "      channel.send({})\n",
              "\n",
              "      for await (const message of channel.messages) {\n",
              "        // Send a message to notify the kernel that we're ready.\n",
              "        channel.send({})\n",
              "        if (message.buffers) {\n",
              "          for (const buffer of message.buffers) {\n",
              "            buffers.push(buffer);\n",
              "            downloaded += buffer.byteLength;\n",
              "            progress.value = downloaded;\n",
              "          }\n",
              "        }\n",
              "      }\n",
              "      const blob = new Blob(buffers, {type: 'application/binary'});\n",
              "      const a = document.createElement('a');\n",
              "      a.href = window.URL.createObjectURL(blob);\n",
              "      a.download = filename;\n",
              "      div.appendChild(a);\n",
              "      a.click();\n",
              "      div.remove();\n",
              "    }\n",
              "  "
            ]
          },
          "metadata": {}
        },
        {
          "output_type": "display_data",
          "data": {
            "text/plain": [
              "<IPython.core.display.Javascript object>"
            ],
            "application/javascript": [
              "download(\"download_41d90b4b-5a12-4917-acc2-519956fafc65\", \"intermediate_layer_weights.mem\", 15640)"
            ]
          },
          "metadata": {}
        },
        {
          "output_type": "display_data",
          "data": {
            "text/plain": [
              "<IPython.core.display.Javascript object>"
            ],
            "application/javascript": [
              "\n",
              "    async function download(id, filename, size) {\n",
              "      if (!google.colab.kernel.accessAllowed) {\n",
              "        return;\n",
              "      }\n",
              "      const div = document.createElement('div');\n",
              "      const label = document.createElement('label');\n",
              "      label.textContent = `Downloading \"${filename}\": `;\n",
              "      div.appendChild(label);\n",
              "      const progress = document.createElement('progress');\n",
              "      progress.max = size;\n",
              "      div.appendChild(progress);\n",
              "      document.body.appendChild(div);\n",
              "\n",
              "      const buffers = [];\n",
              "      let downloaded = 0;\n",
              "\n",
              "      const channel = await google.colab.kernel.comms.open(id);\n",
              "      // Send a message to notify the kernel that we're ready.\n",
              "      channel.send({})\n",
              "\n",
              "      for await (const message of channel.messages) {\n",
              "        // Send a message to notify the kernel that we're ready.\n",
              "        channel.send({})\n",
              "        if (message.buffers) {\n",
              "          for (const buffer of message.buffers) {\n",
              "            buffers.push(buffer);\n",
              "            downloaded += buffer.byteLength;\n",
              "            progress.value = downloaded;\n",
              "          }\n",
              "        }\n",
              "      }\n",
              "      const blob = new Blob(buffers, {type: 'application/binary'});\n",
              "      const a = document.createElement('a');\n",
              "      a.href = window.URL.createObjectURL(blob);\n",
              "      a.download = filename;\n",
              "      div.appendChild(a);\n",
              "      a.click();\n",
              "      div.remove();\n",
              "    }\n",
              "  "
            ]
          },
          "metadata": {}
        },
        {
          "output_type": "display_data",
          "data": {
            "text/plain": [
              "<IPython.core.display.Javascript object>"
            ],
            "application/javascript": [
              "download(\"download_c7b0dfe8-c5cd-4f61-a3af-61b25cc53521\", \"intermediate_layer_biases.mem\", 1564)"
            ]
          },
          "metadata": {}
        },
        {
          "output_type": "display_data",
          "data": {
            "text/plain": [
              "<IPython.core.display.Javascript object>"
            ],
            "application/javascript": [
              "\n",
              "    async function download(id, filename, size) {\n",
              "      if (!google.colab.kernel.accessAllowed) {\n",
              "        return;\n",
              "      }\n",
              "      const div = document.createElement('div');\n",
              "      const label = document.createElement('label');\n",
              "      label.textContent = `Downloading \"${filename}\": `;\n",
              "      div.appendChild(label);\n",
              "      const progress = document.createElement('progress');\n",
              "      progress.max = size;\n",
              "      div.appendChild(progress);\n",
              "      document.body.appendChild(div);\n",
              "\n",
              "      const buffers = [];\n",
              "      let downloaded = 0;\n",
              "\n",
              "      const channel = await google.colab.kernel.comms.open(id);\n",
              "      // Send a message to notify the kernel that we're ready.\n",
              "      channel.send({})\n",
              "\n",
              "      for await (const message of channel.messages) {\n",
              "        // Send a message to notify the kernel that we're ready.\n",
              "        channel.send({})\n",
              "        if (message.buffers) {\n",
              "          for (const buffer of message.buffers) {\n",
              "            buffers.push(buffer);\n",
              "            downloaded += buffer.byteLength;\n",
              "            progress.value = downloaded;\n",
              "          }\n",
              "        }\n",
              "      }\n",
              "      const blob = new Blob(buffers, {type: 'application/binary'});\n",
              "      const a = document.createElement('a');\n",
              "      a.href = window.URL.createObjectURL(blob);\n",
              "      a.download = filename;\n",
              "      div.appendChild(a);\n",
              "      a.click();\n",
              "      div.remove();\n",
              "    }\n",
              "  "
            ]
          },
          "metadata": {}
        },
        {
          "output_type": "display_data",
          "data": {
            "text/plain": [
              "<IPython.core.display.Javascript object>"
            ],
            "application/javascript": [
              "download(\"download_75eadd81-fe5c-4c3c-8e27-a11577f80325\", \"z_mean_weights.mem\", 3128)"
            ]
          },
          "metadata": {}
        },
        {
          "output_type": "display_data",
          "data": {
            "text/plain": [
              "<IPython.core.display.Javascript object>"
            ],
            "application/javascript": [
              "\n",
              "    async function download(id, filename, size) {\n",
              "      if (!google.colab.kernel.accessAllowed) {\n",
              "        return;\n",
              "      }\n",
              "      const div = document.createElement('div');\n",
              "      const label = document.createElement('label');\n",
              "      label.textContent = `Downloading \"${filename}\": `;\n",
              "      div.appendChild(label);\n",
              "      const progress = document.createElement('progress');\n",
              "      progress.max = size;\n",
              "      div.appendChild(progress);\n",
              "      document.body.appendChild(div);\n",
              "\n",
              "      const buffers = [];\n",
              "      let downloaded = 0;\n",
              "\n",
              "      const channel = await google.colab.kernel.comms.open(id);\n",
              "      // Send a message to notify the kernel that we're ready.\n",
              "      channel.send({})\n",
              "\n",
              "      for await (const message of channel.messages) {\n",
              "        // Send a message to notify the kernel that we're ready.\n",
              "        channel.send({})\n",
              "        if (message.buffers) {\n",
              "          for (const buffer of message.buffers) {\n",
              "            buffers.push(buffer);\n",
              "            downloaded += buffer.byteLength;\n",
              "            progress.value = downloaded;\n",
              "          }\n",
              "        }\n",
              "      }\n",
              "      const blob = new Blob(buffers, {type: 'application/binary'});\n",
              "      const a = document.createElement('a');\n",
              "      a.href = window.URL.createObjectURL(blob);\n",
              "      a.download = filename;\n",
              "      div.appendChild(a);\n",
              "      a.click();\n",
              "      div.remove();\n",
              "    }\n",
              "  "
            ]
          },
          "metadata": {}
        },
        {
          "output_type": "display_data",
          "data": {
            "text/plain": [
              "<IPython.core.display.Javascript object>"
            ],
            "application/javascript": [
              "download(\"download_be973faa-b3d8-4420-bb82-07554c276a4b\", \"z_mean_biases.mem\", 34)"
            ]
          },
          "metadata": {}
        },
        {
          "output_type": "display_data",
          "data": {
            "text/plain": [
              "<IPython.core.display.Javascript object>"
            ],
            "application/javascript": [
              "\n",
              "    async function download(id, filename, size) {\n",
              "      if (!google.colab.kernel.accessAllowed) {\n",
              "        return;\n",
              "      }\n",
              "      const div = document.createElement('div');\n",
              "      const label = document.createElement('label');\n",
              "      label.textContent = `Downloading \"${filename}\": `;\n",
              "      div.appendChild(label);\n",
              "      const progress = document.createElement('progress');\n",
              "      progress.max = size;\n",
              "      div.appendChild(progress);\n",
              "      document.body.appendChild(div);\n",
              "\n",
              "      const buffers = [];\n",
              "      let downloaded = 0;\n",
              "\n",
              "      const channel = await google.colab.kernel.comms.open(id);\n",
              "      // Send a message to notify the kernel that we're ready.\n",
              "      channel.send({})\n",
              "\n",
              "      for await (const message of channel.messages) {\n",
              "        // Send a message to notify the kernel that we're ready.\n",
              "        channel.send({})\n",
              "        if (message.buffers) {\n",
              "          for (const buffer of message.buffers) {\n",
              "            buffers.push(buffer);\n",
              "            downloaded += buffer.byteLength;\n",
              "            progress.value = downloaded;\n",
              "          }\n",
              "        }\n",
              "      }\n",
              "      const blob = new Blob(buffers, {type: 'application/binary'});\n",
              "      const a = document.createElement('a');\n",
              "      a.href = window.URL.createObjectURL(blob);\n",
              "      a.download = filename;\n",
              "      div.appendChild(a);\n",
              "      a.click();\n",
              "      div.remove();\n",
              "    }\n",
              "  "
            ]
          },
          "metadata": {}
        },
        {
          "output_type": "display_data",
          "data": {
            "text/plain": [
              "<IPython.core.display.Javascript object>"
            ],
            "application/javascript": [
              "download(\"download_dc8fa923-d3a8-474e-be8a-e58dd192beae\", \"z_var_weights.mem\", 3128)"
            ]
          },
          "metadata": {}
        },
        {
          "output_type": "display_data",
          "data": {
            "text/plain": [
              "<IPython.core.display.Javascript object>"
            ],
            "application/javascript": [
              "\n",
              "    async function download(id, filename, size) {\n",
              "      if (!google.colab.kernel.accessAllowed) {\n",
              "        return;\n",
              "      }\n",
              "      const div = document.createElement('div');\n",
              "      const label = document.createElement('label');\n",
              "      label.textContent = `Downloading \"${filename}\": `;\n",
              "      div.appendChild(label);\n",
              "      const progress = document.createElement('progress');\n",
              "      progress.max = size;\n",
              "      div.appendChild(progress);\n",
              "      document.body.appendChild(div);\n",
              "\n",
              "      const buffers = [];\n",
              "      let downloaded = 0;\n",
              "\n",
              "      const channel = await google.colab.kernel.comms.open(id);\n",
              "      // Send a message to notify the kernel that we're ready.\n",
              "      channel.send({})\n",
              "\n",
              "      for await (const message of channel.messages) {\n",
              "        // Send a message to notify the kernel that we're ready.\n",
              "        channel.send({})\n",
              "        if (message.buffers) {\n",
              "          for (const buffer of message.buffers) {\n",
              "            buffers.push(buffer);\n",
              "            downloaded += buffer.byteLength;\n",
              "            progress.value = downloaded;\n",
              "          }\n",
              "        }\n",
              "      }\n",
              "      const blob = new Blob(buffers, {type: 'application/binary'});\n",
              "      const a = document.createElement('a');\n",
              "      a.href = window.URL.createObjectURL(blob);\n",
              "      a.download = filename;\n",
              "      div.appendChild(a);\n",
              "      a.click();\n",
              "      div.remove();\n",
              "    }\n",
              "  "
            ]
          },
          "metadata": {}
        },
        {
          "output_type": "display_data",
          "data": {
            "text/plain": [
              "<IPython.core.display.Javascript object>"
            ],
            "application/javascript": [
              "download(\"download_977ebb77-d7a6-47a4-bf2b-aedc3bf841b1\", \"z_var_biases.mem\", 34)"
            ]
          },
          "metadata": {}
        },
        {
          "output_type": "display_data",
          "data": {
            "text/plain": [
              "<IPython.core.display.Javascript object>"
            ],
            "application/javascript": [
              "\n",
              "    async function download(id, filename, size) {\n",
              "      if (!google.colab.kernel.accessAllowed) {\n",
              "        return;\n",
              "      }\n",
              "      const div = document.createElement('div');\n",
              "      const label = document.createElement('label');\n",
              "      label.textContent = `Downloading \"${filename}\": `;\n",
              "      div.appendChild(label);\n",
              "      const progress = document.createElement('progress');\n",
              "      progress.max = size;\n",
              "      div.appendChild(progress);\n",
              "      document.body.appendChild(div);\n",
              "\n",
              "      const buffers = [];\n",
              "      let downloaded = 0;\n",
              "\n",
              "      const channel = await google.colab.kernel.comms.open(id);\n",
              "      // Send a message to notify the kernel that we're ready.\n",
              "      channel.send({})\n",
              "\n",
              "      for await (const message of channel.messages) {\n",
              "        // Send a message to notify the kernel that we're ready.\n",
              "        channel.send({})\n",
              "        if (message.buffers) {\n",
              "          for (const buffer of message.buffers) {\n",
              "            buffers.push(buffer);\n",
              "            downloaded += buffer.byteLength;\n",
              "            progress.value = downloaded;\n",
              "          }\n",
              "        }\n",
              "      }\n",
              "      const blob = new Blob(buffers, {type: 'application/binary'});\n",
              "      const a = document.createElement('a');\n",
              "      a.href = window.URL.createObjectURL(blob);\n",
              "      a.download = filename;\n",
              "      div.appendChild(a);\n",
              "      a.click();\n",
              "      div.remove();\n",
              "    }\n",
              "  "
            ]
          },
          "metadata": {}
        },
        {
          "output_type": "display_data",
          "data": {
            "text/plain": [
              "<IPython.core.display.Javascript object>"
            ],
            "application/javascript": [
              "download(\"download_fa268e05-9fcc-458f-b1d9-414627e3d8db\", \"hidden_classifier_weights.mem\", 3128)"
            ]
          },
          "metadata": {}
        },
        {
          "output_type": "display_data",
          "data": {
            "text/plain": [
              "<IPython.core.display.Javascript object>"
            ],
            "application/javascript": [
              "\n",
              "    async function download(id, filename, size) {\n",
              "      if (!google.colab.kernel.accessAllowed) {\n",
              "        return;\n",
              "      }\n",
              "      const div = document.createElement('div');\n",
              "      const label = document.createElement('label');\n",
              "      label.textContent = `Downloading \"${filename}\": `;\n",
              "      div.appendChild(label);\n",
              "      const progress = document.createElement('progress');\n",
              "      progress.max = size;\n",
              "      div.appendChild(progress);\n",
              "      document.body.appendChild(div);\n",
              "\n",
              "      const buffers = [];\n",
              "      let downloaded = 0;\n",
              "\n",
              "      const channel = await google.colab.kernel.comms.open(id);\n",
              "      // Send a message to notify the kernel that we're ready.\n",
              "      channel.send({})\n",
              "\n",
              "      for await (const message of channel.messages) {\n",
              "        // Send a message to notify the kernel that we're ready.\n",
              "        channel.send({})\n",
              "        if (message.buffers) {\n",
              "          for (const buffer of message.buffers) {\n",
              "            buffers.push(buffer);\n",
              "            downloaded += buffer.byteLength;\n",
              "            progress.value = downloaded;\n",
              "          }\n",
              "        }\n",
              "      }\n",
              "      const blob = new Blob(buffers, {type: 'application/binary'});\n",
              "      const a = document.createElement('a');\n",
              "      a.href = window.URL.createObjectURL(blob);\n",
              "      a.download = filename;\n",
              "      div.appendChild(a);\n",
              "      a.click();\n",
              "      div.remove();\n",
              "    }\n",
              "  "
            ]
          },
          "metadata": {}
        },
        {
          "output_type": "display_data",
          "data": {
            "text/plain": [
              "<IPython.core.display.Javascript object>"
            ],
            "application/javascript": [
              "download(\"download_70fc695f-4c48-410e-8323-51847feaa8f3\", \"hidden_classifier_biases.mem\", 1564)"
            ]
          },
          "metadata": {}
        },
        {
          "output_type": "display_data",
          "data": {
            "text/plain": [
              "<IPython.core.display.Javascript object>"
            ],
            "application/javascript": [
              "\n",
              "    async function download(id, filename, size) {\n",
              "      if (!google.colab.kernel.accessAllowed) {\n",
              "        return;\n",
              "      }\n",
              "      const div = document.createElement('div');\n",
              "      const label = document.createElement('label');\n",
              "      label.textContent = `Downloading \"${filename}\": `;\n",
              "      div.appendChild(label);\n",
              "      const progress = document.createElement('progress');\n",
              "      progress.max = size;\n",
              "      div.appendChild(progress);\n",
              "      document.body.appendChild(div);\n",
              "\n",
              "      const buffers = [];\n",
              "      let downloaded = 0;\n",
              "\n",
              "      const channel = await google.colab.kernel.comms.open(id);\n",
              "      // Send a message to notify the kernel that we're ready.\n",
              "      channel.send({})\n",
              "\n",
              "      for await (const message of channel.messages) {\n",
              "        // Send a message to notify the kernel that we're ready.\n",
              "        channel.send({})\n",
              "        if (message.buffers) {\n",
              "          for (const buffer of message.buffers) {\n",
              "            buffers.push(buffer);\n",
              "            downloaded += buffer.byteLength;\n",
              "            progress.value = downloaded;\n",
              "          }\n",
              "        }\n",
              "      }\n",
              "      const blob = new Blob(buffers, {type: 'application/binary'});\n",
              "      const a = document.createElement('a');\n",
              "      a.href = window.URL.createObjectURL(blob);\n",
              "      a.download = filename;\n",
              "      div.appendChild(a);\n",
              "      a.click();\n",
              "      div.remove();\n",
              "    }\n",
              "  "
            ]
          },
          "metadata": {}
        },
        {
          "output_type": "display_data",
          "data": {
            "text/plain": [
              "<IPython.core.display.Javascript object>"
            ],
            "application/javascript": [
              "download(\"download_13d81d54-25b2-4648-b387-14440515ff1a\", \"classifier_output_weights.mem\", 3128)"
            ]
          },
          "metadata": {}
        },
        {
          "output_type": "display_data",
          "data": {
            "text/plain": [
              "<IPython.core.display.Javascript object>"
            ],
            "application/javascript": [
              "\n",
              "    async function download(id, filename, size) {\n",
              "      if (!google.colab.kernel.accessAllowed) {\n",
              "        return;\n",
              "      }\n",
              "      const div = document.createElement('div');\n",
              "      const label = document.createElement('label');\n",
              "      label.textContent = `Downloading \"${filename}\": `;\n",
              "      div.appendChild(label);\n",
              "      const progress = document.createElement('progress');\n",
              "      progress.max = size;\n",
              "      div.appendChild(progress);\n",
              "      document.body.appendChild(div);\n",
              "\n",
              "      const buffers = [];\n",
              "      let downloaded = 0;\n",
              "\n",
              "      const channel = await google.colab.kernel.comms.open(id);\n",
              "      // Send a message to notify the kernel that we're ready.\n",
              "      channel.send({})\n",
              "\n",
              "      for await (const message of channel.messages) {\n",
              "        // Send a message to notify the kernel that we're ready.\n",
              "        channel.send({})\n",
              "        if (message.buffers) {\n",
              "          for (const buffer of message.buffers) {\n",
              "            buffers.push(buffer);\n",
              "            downloaded += buffer.byteLength;\n",
              "            progress.value = downloaded;\n",
              "          }\n",
              "        }\n",
              "      }\n",
              "      const blob = new Blob(buffers, {type: 'application/binary'});\n",
              "      const a = document.createElement('a');\n",
              "      a.href = window.URL.createObjectURL(blob);\n",
              "      a.download = filename;\n",
              "      div.appendChild(a);\n",
              "      a.click();\n",
              "      div.remove();\n",
              "    }\n",
              "  "
            ]
          },
          "metadata": {}
        },
        {
          "output_type": "display_data",
          "data": {
            "text/plain": [
              "<IPython.core.display.Javascript object>"
            ],
            "application/javascript": [
              "download(\"download_023cec13-57a0-477b-847e-e3c4c1a72640\", \"classifier_output_biases.mem\", 34)"
            ]
          },
          "metadata": {}
        }
      ]
    },
    {
      "cell_type": "code",
      "execution_count": null,
      "metadata": {
        "colab": {
          "base_uri": "https://localhost:8080/"
        },
        "id": "hDyvT7N8y7PT",
        "outputId": "1e2c6770-2620-472d-95dc-ae25bc722279"
      },
      "outputs": [
        {
          "output_type": "stream",
          "name": "stdout",
          "text": [
            "Layer: input_encoder has no weights or biases.\n",
            "\n",
            "Layer: intermediate_layer\n",
            "Weights: [[ 9.04804692e-02  1.15170747e-01  8.93545151e-02 -8.20264280e-01\n",
            "   3.60393533e-05 -2.54771244e-02 -6.83310091e-01 -1.39318958e-01\n",
            "   4.23728488e-02 -1.11592123e-02 -6.29497692e-02 -3.40101570e-01\n",
            "  -1.17927819e-01  1.07717440e-01 -1.17267124e-01  3.07121038e-01\n",
            "   2.60949373e-01  3.61572444e-01 -2.18254313e-01 -9.05408740e-01\n",
            "   1.34877533e-01  1.80412903e-01 -2.01936230e-01  4.02197957e-01\n",
            "  -1.72850147e-01 -5.60991503e-02 -2.34220028e-01  1.33158445e-01\n",
            "  -3.03891748e-02 -2.69289255e-01  1.01306513e-01 -1.71388939e-01\n",
            "   3.26783508e-02  9.33860466e-02  1.30683467e-01 -8.49381834e-02\n",
            "   6.97500557e-02  1.44397110e-01  2.87110284e-02  2.62663007e-01\n",
            "  -1.02228232e-01  7.68371075e-02 -1.55882895e-01  2.26381168e-01\n",
            "  -7.59080350e-02  7.90436044e-02  1.44684792e-01  1.01264909e-01\n",
            "   1.56436116e-01 -2.16875225e-01  1.80373743e-01  1.87515929e-01\n",
            "  -7.24126548e-02 -1.70938715e-01 -1.29445091e-01 -3.14206034e-01\n",
            "  -2.59424895e-01 -1.83585271e-01  7.06201121e-02  1.32614449e-01\n",
            "   1.02570668e-01  3.38628858e-01  3.60832423e-01  1.07735507e-01\n",
            "   4.63245288e-02  1.37300612e-02 -9.25087556e-02 -8.03609937e-02\n",
            "   2.25158453e-01 -1.98683470e-01 -2.51439393e-01  9.14048105e-02\n",
            "  -3.11042015e-02 -8.48230347e-03  3.21165711e-01  2.20618799e-01\n",
            "   2.17466712e-01 -1.94742709e-01 -2.52138108e-01  2.65349358e-01\n",
            "   1.16916291e-01  1.41296312e-02  5.35857603e-02 -7.02471137e-02\n",
            "  -7.38092810e-02  4.60438877e-02  2.27162327e-05  2.11383458e-02\n",
            "  -2.97953516e-01 -2.00340733e-01 -2.14963704e-01  3.19144130e-01]\n",
            " [-1.91470593e-01 -1.76284090e-01 -1.51220262e-01 -8.74497294e-01\n",
            "  -9.29913577e-03  2.88513064e-01  3.77393037e-01 -1.01119272e-01\n",
            "  -2.42197663e-02  1.45799220e-01 -1.07508063e-01  3.76280844e-01\n",
            "  -1.69006854e-01  2.48307977e-02  1.29907981e-01  7.17988983e-02\n",
            "   4.56227809e-02 -5.11580050e-01 -7.97527134e-02  4.25495684e-01\n",
            "   1.25856012e-01 -1.47259727e-01  1.50350928e-01 -5.00836611e-01\n",
            "   4.36720997e-02  3.24151993e-01 -1.48001775e-01 -7.95128122e-02\n",
            "   1.05077244e-01  1.25648469e-01  1.51503116e-01  3.32100779e-01\n",
            "   6.10639453e-02 -1.63284451e-01 -4.85133240e-03 -2.42090687e-01\n",
            "  -9.07363147e-02 -1.68212816e-01  2.05324575e-01  4.85750645e-01\n",
            "  -5.83985709e-02 -2.63537243e-02 -4.61329296e-02  1.61920547e-01\n",
            "  -2.20598727e-01  1.79319277e-01  2.42735609e-01  2.85782307e-01\n",
            "   8.39847922e-02  1.14278466e-01  9.06758383e-02  1.23616472e-01\n",
            "  -7.05003962e-02 -1.71033114e-01  1.39590830e-01 -4.43943171e-03\n",
            "   4.07031178e-02  1.87090144e-01 -1.64569207e-02  4.79171798e-02\n",
            "  -1.61356568e-01  4.41383645e-02 -4.18847889e-01 -1.88292041e-01\n",
            "   2.04089726e-03 -1.30658388e-01 -8.65531638e-02 -1.31347284e-01\n",
            "  -4.79279369e-01  4.11381908e-02  3.82610150e-02  5.55606298e-02\n",
            "   1.57938898e-01 -1.93520173e-01 -7.92531312e-01  5.49506992e-02\n",
            "  -4.13737819e-02 -3.53804529e-02 -6.96652010e-02  1.57180950e-01\n",
            "  -3.63560885e-01  5.73638640e-03  3.88520546e-02 -9.85742733e-02\n",
            "   8.39999020e-02  1.68711737e-01 -2.35103399e-01  1.64298877e-01\n",
            "   2.99068332e-01 -2.55204111e-01 -5.99399358e-02  2.02960536e-01]\n",
            " [-5.58791645e-02 -2.09250167e-01  9.40269828e-02  2.74884969e-01\n",
            "   1.05895489e-01  1.26618311e-01 -1.27702519e-01 -2.41628394e-01\n",
            "   8.05105194e-02 -2.55891979e-01 -1.30190216e-02 -1.26414090e-01\n",
            "  -4.66568023e-02 -1.04237065e-01 -2.30640337e-01  1.35030061e-01\n",
            "   1.11343712e-01  3.87539208e-01  8.46256614e-02  3.19260322e-02\n",
            "   1.88185439e-01 -5.94245978e-02  7.82346874e-02  3.31244737e-01\n",
            "   1.96688280e-01 -3.92593622e-01 -2.29558229e-01  3.30141634e-01\n",
            "  -1.24001943e-01 -4.40425724e-01  1.03875898e-01 -3.47328365e-01\n",
            "   7.77210668e-02  5.84585033e-02  4.26627249e-02  2.96280026e-01\n",
            "  -2.62231916e-01 -2.47977033e-01  2.15568140e-01  3.92357498e-01\n",
            "   3.02717686e-01  1.40407532e-01  4.50561903e-02  1.53968818e-02\n",
            "   3.97185124e-02  1.49505958e-03  1.94192842e-01  2.85443008e-01\n",
            "   2.32945949e-01 -3.04638874e-03 -3.81460339e-01 -9.18402135e-01\n",
            "  -2.59888947e-01  1.48012508e-02  5.75126484e-02 -4.64151502e-01\n",
            "   3.66025306e-02  1.21661298e-01  1.14453964e-01 -2.09461138e-01\n",
            "   1.89755738e-01 -2.07101494e-01  2.47028038e-01  1.03056468e-01\n",
            "   1.05598919e-01  1.89739227e-01  3.34859550e-01 -1.11627214e-01\n",
            "   2.55113989e-01 -2.14714020e-01 -4.59461175e-02  1.97691306e-01\n",
            "  -2.58568317e-01 -9.80742425e-02  3.76364589e-01  3.81557941e-01\n",
            "  -1.01792908e+00 -2.08304748e-01 -1.25816390e-01 -1.39426589e-01\n",
            "   1.76246971e-01 -1.10429198e-01  5.95667660e-02  5.86938784e-02\n",
            "  -4.52216752e-02 -3.63030285e-01  1.80685237e-01 -6.06851101e-01\n",
            "  -4.55957979e-01  2.78154146e-02 -6.44859523e-02 -5.71396984e-02]\n",
            " [-1.80938601e-01  5.33808358e-02  1.58715785e-01  1.30677894e-01\n",
            "   3.59806605e-02  1.14728168e-01  2.11318806e-02 -8.39672168e-04\n",
            "   1.84320211e-01 -7.65245268e-03  1.60743475e-01  1.92543656e-01\n",
            "  -2.42899388e-01  2.34847069e-01 -4.21467610e-02  3.81857567e-02\n",
            "  -6.79888157e-03 -1.98702425e-01  3.47439423e-02  4.79314886e-02\n",
            "  -1.90744102e-01 -3.52397263e-02 -1.45878335e-02 -3.49096864e-01\n",
            "  -4.18157786e-01  1.74353749e-01  2.33364344e-01  1.81842685e-01\n",
            "   2.23055705e-01  2.39275873e-01  1.79560408e-01  4.36016381e-01\n",
            "   4.41062041e-02  4.17710066e-01  2.79444635e-01 -2.42588714e-01\n",
            "  -1.07446820e-01 -2.62489587e-01  2.69208197e-03  1.59226999e-01\n",
            "   1.41501948e-01  1.20233327e-01  1.78441275e-02 -1.66266143e-01\n",
            "  -2.61655778e-01 -9.99003410e-01  2.54685640e-01  6.25434965e-02\n",
            "   4.82751057e-03 -8.49229246e-02  2.13423640e-01  3.57389808e-01\n",
            "  -5.07475197e-01  4.04597610e-01 -5.92376292e-02  3.80804360e-01\n",
            "  -1.31997049e-01 -3.12592417e-01  8.94525871e-02 -2.18978703e-01\n",
            "   9.68647301e-02  2.67906845e-01 -1.91862777e-01 -2.04479933e-01\n",
            "   2.48335078e-02 -4.69706804e-02  2.49557972e-01  2.12388203e-01\n",
            "   5.40131330e-02 -7.56761357e-02 -2.10974619e-01  1.49035407e-03\n",
            "  -2.76694298e-01 -1.18584871e-01 -7.41935149e-02  2.34479666e-01\n",
            "  -1.98096223e-02 -1.75391734e-01 -3.06413043e-02 -7.74678513e-02\n",
            "   6.90739229e-02 -1.97703511e-01 -1.81780636e-01 -7.94258490e-02\n",
            "  -1.47213936e-02  3.37815821e-01  3.66020612e-02  3.04397702e-01\n",
            "   9.00652856e-02 -1.91789884e-02 -7.95067549e-02 -1.15856566e-01]\n",
            " [ 1.77782223e-01 -1.96684107e-01 -2.55695492e-01  1.87812224e-01\n",
            "   1.76024586e-01  1.31349236e-01  1.09402366e-01  1.43092319e-01\n",
            "   8.65444839e-02 -1.66431978e-01 -5.58973895e-03 -5.02638936e-01\n",
            "  -1.34412691e-01 -1.00766182e-01 -1.86253965e-01  1.29567340e-01\n",
            "  -1.05108038e-01 -1.01500280e-01  1.21672317e-01 -1.38198793e-01\n",
            "  -1.04224896e+00 -1.31467298e-01 -2.70916283e-01  1.69801310e-01\n",
            "   4.54975218e-01 -2.34753802e-01 -1.69488728e-01  2.18354404e-01\n",
            "   3.78763169e-01  2.44883701e-01  1.01334915e-01 -4.26251560e-01\n",
            "   1.29382685e-01 -6.52806759e-02  1.77615471e-02 -2.14603022e-01\n",
            "   5.60713708e-02 -1.06013104e-01  2.22852767e-01  9.21788737e-02\n",
            "  -7.59010613e-02  1.66706085e-01 -1.53107062e-01  1.78929433e-01\n",
            "   4.07471275e-03  2.83904910e-01  1.59240574e-01  3.04391801e-01\n",
            "   3.73496652e-01 -1.53716743e-01  2.76734568e-02  1.40815377e-02\n",
            "  -3.63610148e-01  5.59445262e-01  2.07761481e-01 -4.55200791e-01\n",
            "   6.67439848e-02  4.53119993e-01  1.57259613e-01 -8.46903920e-02\n",
            "   1.97758988e-01 -1.82843581e-02  1.34802610e-01  1.48240462e-01\n",
            "  -1.34781934e-02 -9.10821021e-01  2.59674579e-01  4.05249864e-01\n",
            "   3.73802660e-03 -7.56461993e-02  6.93901703e-02  1.51509091e-01\n",
            "   1.83920979e-01  6.90433085e-02  2.42463369e-02 -2.29785174e-01\n",
            "   1.64129838e-01 -2.21545696e-01  1.24744207e-01 -3.31118144e-02\n",
            "  -2.20280275e-01 -1.77527040e-01  3.32331419e-01 -2.95166112e-03\n",
            "   5.53622432e-02 -4.37498420e-01 -1.01886243e-01  4.87284549e-02\n",
            "   1.51210099e-01 -3.87139246e-02 -1.54951870e-01  2.13938393e-02]\n",
            " [-2.44131044e-01  1.54449865e-01  2.85914749e-01  7.01989681e-02\n",
            "   4.57366258e-02 -1.46761134e-01  1.69750582e-02  3.57519202e-02\n",
            "   1.35741517e-01 -1.22573882e-01  3.85708772e-02  2.15864182e-01\n",
            "  -9.90127027e-03 -9.92398262e-01 -4.55155969e-02  2.91765094e-01\n",
            "   2.44213760e-01  1.45640612e-01 -2.73087144e-01  6.31465763e-02\n",
            "   1.55750543e-01 -2.34213471e-01  4.19794023e-01  3.25317495e-02\n",
            "  -3.78729373e-01  3.41494232e-01 -1.47079647e-01  1.51375577e-01\n",
            "  -7.64099360e-02 -2.19105333e-01  2.37603292e-01  1.90499395e-01\n",
            "   1.59173310e-01 -1.84336141e-01  2.40887761e-01  1.32378146e-01\n",
            "  -1.42533481e-01 -1.28339931e-01  2.63788462e-01  1.45465927e-02\n",
            "   1.49326429e-01 -5.39714955e-02 -1.85839906e-01  1.75955191e-01\n",
            "  -1.09276392e-01  5.68374880e-02  9.15588289e-02 -3.48903574e-02\n",
            "  -7.20226243e-02  1.15589708e-01  1.37984678e-02 -4.10417691e-02\n",
            "  -5.13222553e-02 -1.79155543e-01  2.12587163e-01  3.34836096e-01\n",
            "  -1.73828244e-01 -4.97922778e-01 -5.96046567e-01 -2.23100297e-02\n",
            "   2.64999628e-01 -9.85130891e-02 -3.34750563e-01 -2.32785776e-01\n",
            "  -2.47075990e-01  2.48454109e-01  1.75255761e-01  5.07515669e-01\n",
            "  -2.53239721e-02 -1.66665882e-01  4.62435111e-02 -5.80965430e-02\n",
            "   1.60965502e-01 -1.22720689e-01  6.06620742e-05 -1.86867788e-01\n",
            "   4.96526510e-02 -7.09033161e-02 -5.64967580e-02  1.31229103e-01\n",
            "   2.68754721e-01 -8.52794200e-02  2.98100132e-02  8.79516639e-03\n",
            "  -1.48716837e-01  2.39346161e-01 -1.19499817e-01 -7.27904662e-02\n",
            "  -1.21544443e-01  3.83911729e-02 -6.90869838e-02 -2.59052336e-01]\n",
            " [ 1.26488328e-01  8.11369047e-02 -3.79932851e-01  2.21670736e-02\n",
            "   1.83209404e-01  2.44030669e-01 -1.46668419e-01 -1.07976578e-01\n",
            "  -7.75294006e-01  3.03677380e-01 -4.38390225e-02  4.34320942e-02\n",
            "  -1.14246599e-01  2.48559743e-01  1.30061015e-01  4.69545089e-02\n",
            "  -3.64156663e-02  1.04175188e-01 -2.20473018e-02  9.54738185e-02\n",
            "   1.55960023e-01 -1.41807318e-01 -4.32639718e-01 -1.55060813e-01\n",
            "   2.11324394e-01 -3.30269754e-01 -1.77764878e-01 -1.11406438e-01\n",
            "   3.70584279e-01  1.56219127e-02 -1.21068001e-01  1.16215542e-01\n",
            "   1.14418030e-01  5.34212999e-02  1.71849117e-01 -3.41463268e-01\n",
            "   3.73201258e-02 -1.03648543e-01  4.36978377e-02  2.70722602e-02\n",
            "   3.21472436e-01 -1.16867864e+00 -1.55183464e-01 -4.64182124e-02\n",
            "   1.72426745e-01 -2.07525399e-02 -8.89179826e-01  5.26453443e-02\n",
            "   1.40345916e-01 -1.77529380e-02 -3.00168663e-01  3.06191333e-02\n",
            "   3.02474111e-01 -2.86945045e-01  2.70196497e-01 -1.04744114e-01\n",
            "   1.24252386e-01  2.20568776e-01  3.94418329e-01  5.30362606e-01\n",
            "   1.78420261e-01  6.63602874e-02  3.78310770e-01 -2.18972802e-01\n",
            "  -2.50603348e-01  1.20590061e-01  1.98748991e-01  3.27759609e-02\n",
            "   1.10771134e-01 -1.80504434e-02 -1.61136732e-01 -6.89660981e-02\n",
            "  -2.62761265e-01 -1.12204000e-01  2.70512905e-02 -3.65107745e-01\n",
            "   2.14379907e-01 -1.60328910e-01  1.21985413e-01  3.38210434e-01\n",
            "   2.74600238e-02  1.38495080e-02  1.27750173e-01 -1.77989513e-01\n",
            "  -1.69966385e-01 -3.68536487e-02 -1.56383649e-01  1.56260788e-01\n",
            "  -1.25488549e-01 -3.46577793e-01 -8.19480047e-03  1.62349388e-01]\n",
            " [ 4.54263985e-02 -2.62150347e-01  3.83606255e-01  1.76397681e-01\n",
            "   1.77462652e-01  2.35446841e-01  2.58877836e-02  1.81662664e-02\n",
            "   3.44982952e-01  4.45397705e-01  6.98809400e-02  8.28111544e-02\n",
            "  -2.04059258e-01  1.36725307e-01 -2.16659680e-01  2.25798756e-01\n",
            "   2.62333423e-01 -3.73395056e-01 -4.87396158e-02  9.42592844e-02\n",
            "   5.07749803e-02 -1.84372365e-01  3.85815263e-01  1.43859148e-01\n",
            "  -3.57250497e-02  2.68018007e-01 -7.24618733e-02  2.46291012e-01\n",
            "   9.80728865e-02 -1.26907215e-01  3.70531455e-02 -2.73389965e-01\n",
            "   7.96378776e-02  2.55357772e-01  2.34004870e-01  5.92240877e-02\n",
            "   8.08257610e-02  1.46259934e-01  1.33625537e-01  9.77934524e-03\n",
            "  -1.41705886e-01  2.98272461e-01  2.45057349e-03 -1.41008586e-01\n",
            "   9.69723761e-02  1.94480628e-01 -7.70714581e-01  8.86463076e-02\n",
            "   2.52568007e-01 -7.19244480e-02  4.61375356e-01  1.31002679e-01\n",
            "   4.51668173e-01 -1.62144870e-01  2.68176571e-02  2.45893359e-01\n",
            "  -1.43194005e-01  1.07501104e-01 -1.42826498e-01 -2.65632570e-01\n",
            "  -1.52854681e-01 -1.99443400e-02 -2.46671513e-01  1.86586156e-01\n",
            "   1.33446157e-01  7.82808661e-03  1.53143005e-02  1.72605161e-02\n",
            "  -5.37617207e-01 -1.93163827e-01  2.30407286e-02  2.08506852e-01\n",
            "  -1.22641698e-01 -1.41182646e-01  1.47329330e-01 -1.86342508e-01\n",
            "  -3.30841430e-02 -4.91984189e-02 -2.21118808e-01  2.37111166e-01\n",
            "  -7.14354813e-01 -1.09561637e-01 -7.07430065e-01  1.19707116e-03\n",
            "   1.35724410e-01 -1.06999941e-01 -6.04775287e-02 -2.76762724e-01\n",
            "   5.14279157e-02  1.40780732e-01  1.29067665e-03  2.50235759e-02]\n",
            " [-2.61768669e-01 -1.69110313e-01 -2.50082791e-01  7.58569241e-02\n",
            "   2.90335026e-02  1.90881908e-01  1.43877655e-01 -2.41041859e-03\n",
            "   9.43148807e-02  2.80624658e-01 -7.88216367e-02 -1.02335196e-02\n",
            "   9.04852301e-02 -1.13229126e-01  4.91611846e-02  1.55517180e-02\n",
            "   8.21292028e-02  1.76762909e-01 -1.68845281e-01  7.96755403e-02\n",
            "   2.24516138e-01 -1.30071476e-01 -1.94762364e-01 -1.15741074e-01\n",
            "   6.59883022e-02 -5.59886843e-02 -1.44042432e-01  6.44912347e-02\n",
            "   1.00301057e-01  2.03868911e-01  1.28430501e-01  1.03200033e-01\n",
            "  -9.92077470e-01 -2.35063225e-01  6.75163344e-02  1.59126237e-01\n",
            "  -1.74205363e-01  1.91929132e-01  3.41819882e-01 -1.19153559e-02\n",
            "   5.68545572e-02  1.26652479e-01 -1.24546252e-02 -5.10188714e-02\n",
            "  -2.45089456e-01  1.40445426e-01 -7.61562632e-03 -5.15892543e-02\n",
            "   2.02184021e-01 -1.06878385e-01 -3.90013307e-01 -2.85193156e-02\n",
            "   3.77806634e-01 -1.46574676e-01 -5.88423014e-02  5.23697324e-02\n",
            "   8.09632838e-02  7.95010384e-03  2.01408088e-01 -1.16479777e-01\n",
            "  -1.81363210e-01  6.00923896e-02  5.24282940e-02 -2.54457951e-01\n",
            "  -1.51078254e-01  7.87069127e-02 -9.20743495e-02 -7.63868466e-02\n",
            "   3.75227213e-01  1.78657204e-01  6.19432330e-02  9.63582993e-02\n",
            "   2.17328984e-02 -2.12950230e-01  3.67392041e-02 -8.06737971e-03\n",
            "   2.62490548e-02  1.01658076e-01 -1.20073102e-01  2.32447922e-01\n",
            "   3.37038994e-01 -1.11681841e-01  3.51829171e-01  1.84421808e-01\n",
            "  -5.01813293e-02  1.44394398e-01 -1.72534332e-01  3.44616145e-01\n",
            "  -2.27859259e-01 -1.52394637e-01 -1.17374472e-02  2.45032445e-01]\n",
            " [ 2.28059404e-02  6.90772310e-02  1.70193940e-01  1.94795638e-01\n",
            "   1.78004712e-01 -1.27361521e-01 -1.09518915e-02  2.49554571e-02\n",
            "   2.68582609e-02  3.49240363e-01  1.56947821e-02  6.15493394e-02\n",
            "   2.70694662e-02  1.36150032e-01 -2.19178153e-03 -1.30717039e-01\n",
            "  -1.05965540e-01  3.31853218e-02  1.82718504e-02  1.55794367e-01\n",
            "   2.04356499e-02  1.73148856e-01  4.14957404e-02  1.73338111e-02\n",
            "  -2.52580196e-02 -4.57151644e-02  2.04551443e-02 -1.97577551e-01\n",
            "   3.89175624e-01  4.60936762e-02  2.01461855e-02  4.26870622e-02\n",
            "   3.09145480e-01  1.08235627e-01  1.62666693e-01 -1.98669210e-01\n",
            "   1.02386072e-01 -7.53808022e-02  9.40472260e-03  1.54591665e-01\n",
            "   2.60308266e-01  4.19202372e-02  1.96194295e-02  2.06167251e-01\n",
            "   7.12712631e-02 -6.69911876e-02  2.14873552e-02  2.60613335e-04\n",
            "   6.95280805e-02 -1.15095481e-01  5.27146570e-02  2.98387259e-02\n",
            "   1.30788550e-01  1.21995145e-02  1.07963033e-01  1.14738800e-01\n",
            "  -1.25506997e-01 -1.66946992e-01 -2.20181700e-02  5.08143678e-02\n",
            "   8.61504227e-02  7.29319155e-02 -2.67637102e-03 -9.14995372e-02\n",
            "  -1.03557765e-01 -8.42496473e-03  2.63057798e-02  7.33200163e-02\n",
            "  -4.15910482e-02 -2.56833229e-02  2.90304422e-02 -2.44250879e-01\n",
            "  -2.75863349e-01  9.53373909e-02 -1.93392988e-02  8.79832078e-03\n",
            "   1.88495964e-01 -1.30241349e-01  1.59362897e-01  3.27987522e-02\n",
            "   2.77591258e-04  1.30137891e-01  4.63062711e-02  1.57858849e-01\n",
            "   1.12141952e-01 -2.18025390e-02  8.21176767e-02 -6.42178282e-02\n",
            "   1.75630987e-01  3.85236919e-01 -1.62106231e-02  8.85815546e-02]]\n",
            "Biases: [-4.85571846e-02 -4.13280874e-02 -8.81195962e-02 -5.28353173e-03\n",
            " -1.68856665e-01 -1.81473121e-01  2.18207184e-02 -2.02431157e-02\n",
            " -1.54717043e-01 -3.84380519e-01 -1.19613945e-01 -9.93743911e-02\n",
            "  6.68093801e-01  4.64396179e-02 -1.72322821e-02 -7.20558986e-02\n",
            " -6.04664870e-02 -1.26690269e-02 -5.35491109e-02 -7.91724548e-02\n",
            " -4.87398356e-02 -1.84594970e-02  1.28090475e-02  2.18701437e-02\n",
            "  8.48410185e-03  6.61945203e-04  0.00000000e+00  2.96967685e-01\n",
            "  1.01691023e-01  4.96232659e-02 -1.71610028e-01  7.50086037e-03\n",
            " -1.16664961e-01 -9.01596248e-02 -6.03142381e-03  1.03051832e-03\n",
            " -3.56524698e-02 -4.12732549e-02 -2.78221637e-01 -2.75819421e-01\n",
            " -1.54456213e-01 -3.02985962e-02  5.35777092e-01  2.42767200e-01\n",
            " -2.57997345e-02 -2.44673137e-02  1.15603600e-02 -1.93179592e-01\n",
            " -1.71280548e-01  0.00000000e+00  1.23824598e-02 -5.54395281e-03\n",
            "  1.11474665e-02 -2.73296004e-03 -1.31753236e-01 -4.81614694e-02\n",
            " -3.27435359e-02  1.29001327e-02 -2.07215056e-01  1.27776593e-01\n",
            " -6.89688548e-02 -1.42154440e-01  2.34451517e-02 -4.14725877e-02\n",
            " -4.28853817e-02  7.81617314e-02 -1.70951560e-01 -3.03118616e-01\n",
            " -7.41222082e-03 -2.78068930e-02 -3.01735494e-02  1.64941594e-01\n",
            " -4.39155102e-02  0.00000000e+00 -9.16210711e-02  1.70029681e-02\n",
            " -4.39307019e-02  0.00000000e+00 -4.61952612e-02 -4.12883043e-01\n",
            "  4.83427197e-02  0.00000000e+00 -1.46325603e-01 -3.85070853e-02\n",
            " -1.40177965e-01 -8.72551650e-03 -3.06513682e-02 -1.31334201e-01\n",
            "  1.27475649e-01  1.40030989e-02  0.00000000e+00 -9.60394591e-02]\n",
            "\n",
            "Layer: z_mean\n",
            "Weights: [[ 1.61132962e-01 -8.29777047e-02]\n",
            " [ 1.93717420e-01  6.07344359e-02]\n",
            " [-9.74158406e-01 -4.43740904e-01]\n",
            " [-2.24157906e+00 -3.16896558e+00]\n",
            " [ 7.67524317e-02 -1.59617513e-01]\n",
            " [ 1.08261906e-01 -2.13531569e-01]\n",
            " [-9.29038584e-01 -8.26385081e-01]\n",
            " [ 2.15548784e-01  1.10522427e-01]\n",
            " [-1.83933973e+00 -2.51371473e-01]\n",
            " [ 1.95012212e-01 -4.80804205e-01]\n",
            " [ 1.27369106e-01  1.17386200e-01]\n",
            " [-4.66065556e-01 -3.30945790e-01]\n",
            " [-1.67712271e-02  1.69345867e-02]\n",
            " [-2.29928708e+00 -1.96743703e+00]\n",
            " [ 1.54739708e-01  1.32094011e-01]\n",
            " [ 1.62763566e-01 -2.07898796e-01]\n",
            " [ 1.50464937e-01 -1.72722220e-01]\n",
            " [-6.80751204e-01 -1.36196002e-01]\n",
            " [ 8.71456340e-02 -1.16025336e-01]\n",
            " [-1.98164690e+00 -1.35233748e+00]\n",
            " [-1.21807516e+00 -2.59803200e+00]\n",
            " [ 1.31200507e-01  9.25870240e-02]\n",
            " [-1.20381105e+00 -5.14527559e-01]\n",
            " [-8.38720798e-01 -9.15703475e-02]\n",
            " [-1.20158863e+00 -5.79245239e-02]\n",
            " [-7.36582518e-01 -2.17986360e-01]\n",
            " [ 7.78682828e-02  2.08554089e-01]\n",
            " [ 4.26863208e-02  1.07707895e-01]\n",
            " [-3.88417915e-02 -4.53828238e-02]\n",
            " [-1.44365832e-01  3.32337201e-01]\n",
            " [ 1.62807971e-01 -2.52419114e-01]\n",
            " [-1.21772635e+00 -4.23869252e-01]\n",
            " [-3.07526255e+00 -2.04065490e+00]\n",
            " [-9.29180607e-02 -7.79287145e-02]\n",
            " [ 2.03782365e-01 -1.19320251e-01]\n",
            " [-2.32550368e-01 -4.77812320e-01]\n",
            " [ 1.55198216e-01  9.53739285e-02]\n",
            " [ 1.84120730e-01 -1.70632973e-01]\n",
            " [ 1.24944448e-01 -2.72108555e-01]\n",
            " [ 1.79992303e-01 -3.78471047e-01]\n",
            " [ 1.59416258e-01 -2.80880421e-01]\n",
            " [-2.17826748e+00 -2.37036467e+00]\n",
            " [-8.39802250e-02  2.42677018e-01]\n",
            " [-5.10924645e-02  7.99088925e-02]\n",
            " [ 8.08843598e-02  2.49693871e-01]\n",
            " [-1.82504749e+00 -2.44810176e+00]\n",
            " [-1.40328252e+00 -2.56313753e+00]\n",
            " [ 7.83390403e-02 -1.64018929e-01]\n",
            " [ 8.78585055e-02 -2.12744534e-01]\n",
            " [-1.28115267e-01  1.84645295e-01]\n",
            " [-5.61741471e-01  5.01550362e-02]\n",
            " [-1.51971221e+00 -1.18261588e+00]\n",
            " [ 1.42441905e+00  9.54199076e-01]\n",
            " [ 7.96213925e-01  1.28737211e+00]\n",
            " [ 1.12691775e-01 -2.07998753e-01]\n",
            " [-4.51255202e-01 -1.02633440e+00]\n",
            " [ 2.11367354e-01  9.15256515e-02]\n",
            " [-9.86051321e-01 -3.08797598e-01]\n",
            " [-1.58441591e+00 -1.61082673e+00]\n",
            " [-2.14988098e-01  2.99792618e-01]\n",
            " [ 1.32932872e-01 -1.52654737e-01]\n",
            " [-4.67209332e-02 -4.10172194e-01]\n",
            " [-1.16024172e+00 -5.97991884e-01]\n",
            " [ 9.71719902e-03  1.31760105e-01]\n",
            " [ 1.01674013e-01  2.39297897e-01]\n",
            " [-1.10134661e+00 -5.27243257e-01]\n",
            " [ 2.27461681e-01 -3.19726229e-01]\n",
            " [ 2.33036101e-01 -4.08426404e-01]\n",
            " [-8.21828067e-01 -5.24370372e-01]\n",
            " [ 1.17502011e-01 -1.83780372e-01]\n",
            " [ 6.15443708e-03  1.22176670e-01]\n",
            " [ 2.28698701e-02  1.27770649e-02]\n",
            " [ 1.68648571e-01 -2.30672777e-01]\n",
            " [-1.85819045e-02 -1.03079572e-01]\n",
            " [-1.86189485e+00 -8.84342670e-01]\n",
            " [ 7.80658245e-01  4.20806020e-01]\n",
            " [-5.54086447e-01 -2.93952703e+00]\n",
            " [ 1.92243993e-01 -2.23419517e-01]\n",
            " [ 1.62357271e-01 -1.64847687e-01]\n",
            " [ 2.13955343e-01 -6.00098372e-01]\n",
            " [-1.18372679e+00 -1.29693663e+00]\n",
            " [-5.40511161e-02  8.97736251e-02]\n",
            " [-1.84571743e+00 -9.95598555e-01]\n",
            " [ 3.71109173e-02 -3.12651694e-02]\n",
            " [-5.46479411e-03 -7.25808740e-02]\n",
            " [-7.48027563e-01  2.41046567e-02]\n",
            " [ 3.93265560e-02  2.41981447e-02]\n",
            " [-1.04663348e+00 -8.44808877e-01]\n",
            " [-3.51934344e-01 -3.02634507e-01]\n",
            " [ 2.45897457e-01 -4.15052861e-01]\n",
            " [ 2.68375408e-03 -2.23667517e-01]\n",
            " [ 9.44488123e-02 -2.26951674e-01]]\n",
            "Biases: [-0.0380682   0.27145383]\n",
            "\n",
            "Layer: z_var\n",
            "Weights: [[-1.5292011e-01 -1.9789495e-01]\n",
            " [ 6.7526554e-03  8.5068136e-02]\n",
            " [-2.1993471e-02  6.2290411e-02]\n",
            " [ 7.7501401e-02 -2.2069485e-01]\n",
            " [-1.5596361e+00 -2.0941679e+00]\n",
            " [-1.8999618e+00 -2.3402438e+00]\n",
            " [-5.2478564e-01 -3.4983262e-01]\n",
            " [-6.8687260e-02 -7.3081963e-02]\n",
            " [-7.6114335e-03 -2.6168260e-01]\n",
            " [-4.2141464e-01 -4.9620333e-01]\n",
            " [-2.2708923e-03  7.0105962e-02]\n",
            " [-8.1641179e-01 -5.4030752e-01]\n",
            " [-2.3026049e+00 -2.4877734e+00]\n",
            " [-4.0538368e-01 -6.0718244e-01]\n",
            " [ 4.6773318e-02  2.3294699e-01]\n",
            " [-2.0322518e+00 -2.5240500e+00]\n",
            " [-1.9165934e+00 -2.4919372e+00]\n",
            " [-8.5445708e-01 -1.0931590e+00]\n",
            " [ 1.9171944e-01 -2.1047756e-01]\n",
            " [-2.7648187e-01  1.9788110e-01]\n",
            " [-5.5922270e-01 -1.2458541e-01]\n",
            " [ 1.7795628e-01  1.3772303e-01]\n",
            " [-1.2539047e+00 -9.1703737e-01]\n",
            " [-1.5919087e+00 -1.4354917e+00]\n",
            " [-5.1677531e-01 -6.4708841e-01]\n",
            " [-8.5515094e-01 -2.6916137e-01]\n",
            " [-8.4332570e-02  5.0085887e-02]\n",
            " [-2.2542295e+00 -2.2836218e+00]\n",
            " [-2.3297338e+00 -2.6239996e+00]\n",
            " [-1.3319277e+00 -1.7096317e+00]\n",
            " [-1.4400851e+00 -1.8167397e+00]\n",
            " [-1.3161736e+00 -1.0051780e+00]\n",
            " [-2.0394480e-01 -4.3700267e-02]\n",
            " [-5.9816939e-01 -7.1986771e-01]\n",
            " [-2.0697331e+00 -2.5459821e+00]\n",
            " [-7.5283557e-01 -2.0482042e-01]\n",
            " [-2.3461305e-01  2.5900632e-01]\n",
            " [ 8.2257405e-02 -1.5442230e-01]\n",
            " [-1.0744790e+00 -1.7386419e+00]\n",
            " [-1.0461928e+00 -1.7648538e+00]\n",
            " [-1.0957317e+00 -1.7343770e+00]\n",
            " [-5.8372265e-01 -3.9586607e-01]\n",
            " [-2.4893985e+00 -2.3651414e+00]\n",
            " [-2.2806504e+00 -2.6476443e+00]\n",
            " [-7.6299280e-02 -1.4046678e-01]\n",
            " [-5.2307874e-01 -6.8145388e-01]\n",
            " [-1.3579847e-01 -7.3534334e-01]\n",
            " [-1.7918549e+00 -1.9442762e+00]\n",
            " [-2.1252229e+00 -2.2039058e+00]\n",
            " [ 1.7321205e-01  1.7404512e-01]\n",
            " [-9.3187606e-01 -8.5973907e-01]\n",
            " [-4.9620011e-01 -1.2788862e-01]\n",
            " [-1.2327629e+00 -2.2654755e+00]\n",
            " [-2.3575708e-01 -6.6359919e-01]\n",
            " [-1.4115700e+00 -2.0036504e+00]\n",
            " [-2.3502207e-01 -9.9461950e-02]\n",
            " [ 3.4343071e-02 -7.0745721e-03]\n",
            " [-9.8653990e-01 -7.0553559e-01]\n",
            " [-4.6108416e-01 -2.0678920e-01]\n",
            " [-2.1914289e+00 -1.8013728e+00]\n",
            " [-1.9311792e+00 -2.4977460e+00]\n",
            " [-5.6815559e-01 -6.8614459e-01]\n",
            " [-7.6108915e-01 -1.0895232e+00]\n",
            " [-4.0133685e-02  1.9222073e-01]\n",
            " [-2.1574962e-01  2.6742238e-01]\n",
            " [-5.5876410e-01 -6.0326862e-01]\n",
            " [-1.7580187e+00 -2.3630340e+00]\n",
            " [ 2.4384592e-02 -2.5100479e-01]\n",
            " [-8.6641514e-01 -1.0588528e+00]\n",
            " [ 2.5801281e-03  2.2095537e-01]\n",
            " [-2.3030852e-01  1.6485199e-01]\n",
            " [-2.0969129e+00 -2.2009783e+00]\n",
            " [ 1.6889194e-01  1.2599683e-01]\n",
            " [-1.9346267e-01 -2.2377986e-01]\n",
            " [-3.9093742e-01 -5.9803951e-01]\n",
            " [-9.5306206e-01 -1.3678192e+00]\n",
            " [-5.3672984e-02  1.9222544e-01]\n",
            " [-1.0848726e-01  9.5846027e-02]\n",
            " [-4.2308871e-02  3.3422478e-02]\n",
            " [-2.1005946e-01 -5.1773779e-02]\n",
            " [-7.1026272e-01 -9.5970833e-01]\n",
            " [ 1.8725619e-01 -2.4472237e-01]\n",
            " [-7.1755821e-01  3.6120281e-02]\n",
            " [-1.6847752e+00 -2.3070498e+00]\n",
            " [-4.8206952e-01 -9.4605494e-01]\n",
            " [-1.0280722e+00 -5.0881165e-01]\n",
            " [-1.4051360e-01 -1.8475232e-01]\n",
            " [-5.0630683e-01 -4.0657967e-01]\n",
            " [-1.4253372e+00 -1.2295732e+00]\n",
            " [-1.1036377e-01 -1.8339914e-01]\n",
            " [ 1.4409494e-01 -8.9948788e-02]\n",
            " [-1.1969782e+00 -1.5900891e+00]]\n",
            "Biases: [-2.01509   -2.3642473]\n",
            "\n",
            "Layer: sampling_layer has no weights or biases.\n",
            "\n",
            "Layer: hidden_classifier\n",
            "Weights: [[ 1.12976819e-01 -2.72769276e-02  4.76266295e-01 -2.15795100e-01\n",
            "  -1.02864945e+00 -6.65046334e-01  7.66823217e-02  4.99179870e-01\n",
            "  -8.85258794e-01 -1.73795462e-01 -1.37712359e-01  3.74216996e-02\n",
            "  -2.39878654e-01  3.03585589e-01 -2.53334064e-02 -1.14441052e-01\n",
            "   1.06616274e-01  3.30307066e-01  3.26871648e-02  5.64781904e-01\n",
            "  -7.62323365e-02 -1.90058738e-01  6.01385891e-01  5.57668023e-02\n",
            "   4.36278880e-01 -1.93135083e-01  2.92306524e-02  1.40563175e-02\n",
            "  -2.45263234e-01  3.60608436e-02 -1.53289840e-01 -5.30058086e-01\n",
            "   3.77494007e-01 -7.12230355e-02  1.79182693e-01  5.27302921e-01\n",
            "  -4.68144789e-02  5.00319481e-01  1.84454009e-01  2.75726944e-01\n",
            "   6.24272883e-01  1.42124712e-01  1.54823527e-01  4.24039960e-01\n",
            "   3.27564418e-01 -2.05580994e-01 -2.73723394e-01 -7.19357848e-01\n",
            "  -5.80115281e-02 -6.41091585e-01 -1.07539868e+00  7.09245741e-01\n",
            "  -2.28063539e-02 -3.77628654e-01 -4.86976534e-01 -6.44716918e-01\n",
            "  -3.34126838e-02 -3.87137830e-01  6.07316434e-01 -4.73075926e-01\n",
            "   1.32665902e-01 -2.39144191e-01  4.14860010e-01  5.34266412e-01\n",
            "  -3.92097533e-01 -9.46314275e-01  4.06646341e-01 -5.56990385e-01\n",
            "   3.84672433e-02  5.55966675e-01  3.37026656e-01 -3.43984991e-01\n",
            "  -2.01650053e-01 -1.78015232e-01  3.10301870e-01 -1.03719211e+00\n",
            "  -3.27822626e-01 -1.08195126e+00 -1.89019933e-01  2.92882532e-01\n",
            "  -5.99390827e-04 -1.09586751e+00  2.85606459e-03  9.12781239e-01\n",
            "  -1.90672189e-01 -3.69253308e-01  5.90869963e-01  5.39852560e-01\n",
            "   4.30109322e-01  6.10527456e-01 -1.19150132e-01 -2.72945076e-01]\n",
            " [ 8.93456787e-02 -3.39551508e-01  4.75606211e-02 -4.40131426e-01\n",
            "   9.55267847e-01  4.67370301e-02 -2.12618515e-01  2.49896601e-01\n",
            "   4.19701226e-02 -3.29301953e-01  3.45778078e-01  3.85336846e-01\n",
            "   3.28086130e-02  1.59113705e-01  1.48181971e-02  4.23532486e-01\n",
            "  -3.26767117e-01 -2.95070410e-01  3.88588101e-01  2.82548994e-01\n",
            "   1.88588873e-02 -4.14336860e-01  2.72877187e-01  7.26666749e-02\n",
            "   8.72670952e-03 -5.24268597e-02  3.76012951e-01 -3.44627053e-01\n",
            "  -4.59686607e-01  8.23833495e-02 -4.41486508e-01  2.05801994e-01\n",
            "   1.90459460e-01 -3.49877715e-01  1.07765786e-01  2.13700369e-01\n",
            "   7.68268779e-02  1.99427798e-01  1.31247133e-01  1.86571777e-01\n",
            "   2.41839498e-01  1.38298064e-01 -8.38893503e-02 -3.87429334e-02\n",
            "   1.31553262e-01 -3.84824485e-01 -2.11364716e-01  2.85735577e-01\n",
            "   9.91187524e-03  2.86620200e-01  1.18034661e+00  2.93985605e-01\n",
            "  -3.54895532e-01  4.23522323e-01  5.05949795e-01  3.93127412e-01\n",
            "   1.56564657e-02  4.02486086e-01  2.85863072e-01  4.87086415e-01\n",
            "   8.69007036e-02 -1.21085584e-01  2.09314868e-01  4.84769009e-02\n",
            "  -1.96606308e-01  8.70654583e-01  1.96683407e-01 -4.59024310e-01\n",
            "   3.93108189e-01  2.23845139e-01  2.10821920e-04  3.83010000e-01\n",
            "  -3.23449492e-01 -3.28367382e-01  1.87093124e-01  1.09452760e+00\n",
            "   3.73566151e-01  1.06998169e+00 -3.47437173e-01  1.99139357e-01\n",
            "  -1.25235668e-03  1.29812217e+00 -6.37744414e-03  1.87151444e+00\n",
            "  -3.16981345e-01  4.18247461e-01  1.55501440e-01  5.57729304e-02\n",
            "   2.13521153e-01  1.97460800e-01  6.31722584e-02 -1.36920050e-01]]\n",
            "Biases: [-0.0016093  -0.7767872  -0.44645566 -0.7882285  -0.27220792 -0.04808864\n",
            " -0.31706837 -0.03859826  0.4679273   0.03123884  0.24128596  0.45285502\n",
            "  0.13563767  0.13432112 -0.02255406  0.8503723  -0.67780536 -0.86044645\n",
            "  0.45881844 -0.04382386 -0.12177888  0.03472095 -0.03989803  0.04493822\n",
            "  0.0290955  -0.1418666   0.44601256 -0.02110949  0.04361119  0.20280434\n",
            " -0.8786163   0.26236787  0.16611804  0.00763928 -0.00796448 -0.11094084\n",
            " -0.11208177 -0.11352435  0.13384387  0.1944002  -0.15630905  0.22703175\n",
            " -0.10221474  0.02812518 -0.02059462  0.03585983 -0.14158006  0.3764346\n",
            " -0.09912697  0.35973004 -0.26955834 -0.03953153 -0.01118871  0.36793166\n",
            "  0.4451965   0.40638253 -0.04437378  0.35238656 -0.04378688  0.42946646\n",
            "  0.07206091  0.05391768 -0.0317053  -0.22686987  0.08987039 -0.25026292\n",
            "  0.1821505  -0.3310702   0.46271193 -0.11895221  0.02319916  0.33378267\n",
            "  0.03261031  0.0308355   0.17752667 -0.2712179   0.32085332 -0.28316185\n",
            "  0.03206333  0.21175496 -0.00411492 -0.2531798  -0.03064264  0.44933787\n",
            "  0.03306908  0.36445332 -0.00835807 -0.22300906 -0.03328568 -0.02124286\n",
            " -0.14435014  0.06387854]\n",
            "\n",
            "Layer: classifier_output\n",
            "Weights: [[ 1.56178579e-01  1.24591552e-01]\n",
            " [-2.13802791e+00  2.39274526e+00]\n",
            " [ 1.89398849e+00 -1.89981759e+00]\n",
            " [-2.11261821e+00  2.31462860e+00]\n",
            " [ 1.51687610e+00 -1.56946790e+00]\n",
            " [ 4.93940979e-01 -5.75955868e-01]\n",
            " [-3.88813704e-01  6.30495131e-01]\n",
            " [ 9.99012291e-01 -9.48575079e-01]\n",
            " [ 7.56506860e-01 -9.95959103e-01]\n",
            " [-2.39488930e-01  2.19531268e-01]\n",
            " [-2.72369504e-01  1.76690534e-01]\n",
            " [-4.95534837e-01  6.93309188e-01]\n",
            " [ 2.88724869e-01  1.30566284e-01]\n",
            " [ 4.54901129e-01 -2.01640308e-01]\n",
            " [-8.23556334e-02 -8.61784071e-02]\n",
            " [ 1.41392434e+00 -1.69606864e+00]\n",
            " [ 2.19751811e+00 -2.13515282e+00]\n",
            " [ 3.10213184e+00 -3.24294853e+00]\n",
            " [-6.18277192e-01  7.66544044e-01]\n",
            " [ 6.70766711e-01 -1.09865797e+00]\n",
            " [ 1.99284792e-01 -1.64223984e-01]\n",
            " [-1.43802747e-01  3.55003387e-01]\n",
            " [ 5.95614493e-01 -6.32915318e-01]\n",
            " [ 5.09353504e-02  5.47277853e-02]\n",
            " [ 1.65446535e-01 -2.24406898e-01]\n",
            " [ 1.01146832e-01 -1.61776841e-02]\n",
            " [-7.43538976e-01  3.72317463e-01]\n",
            " [-1.03476368e-01  2.86033928e-01]\n",
            " [-4.24086750e-01  4.53773350e-01]\n",
            " [ 2.19798803e-01  4.25047837e-02]\n",
            " [-2.56158066e+00  2.74609733e+00]\n",
            " [-3.67642581e-01  4.60794359e-01]\n",
            " [ 3.94941449e-01 -6.52430773e-01]\n",
            " [-8.53944644e-02  3.08546901e-01]\n",
            " [ 2.22340420e-01  1.11859545e-01]\n",
            " [ 9.85810876e-01 -9.79142606e-01]\n",
            " [ 1.96790054e-01 -1.82924390e-01]\n",
            " [ 8.31434906e-01 -9.92720723e-01]\n",
            " [-2.75532044e-02 -1.92658097e-01]\n",
            " [ 2.12389305e-01 -2.34238058e-01]\n",
            " [ 8.63133192e-01 -6.36833072e-01]\n",
            " [ 2.73214400e-01  3.06679439e-02]\n",
            " [ 1.16196414e-03  7.73737356e-02]\n",
            " [ 1.96245477e-01 -2.90032536e-01]\n",
            " [ 1.94899827e-01 -1.79453164e-01]\n",
            " [-3.92844856e-01  2.77916789e-01]\n",
            " [-3.13861877e-01  5.20606279e-01]\n",
            " [-6.24080718e-01  7.76830375e-01]\n",
            " [ 7.59035442e-03 -1.75610647e-01]\n",
            " [-6.90807700e-01  7.67317653e-01]\n",
            " [ 1.33489227e+00 -1.29678500e+00]\n",
            " [ 4.28821951e-01 -7.46889234e-01]\n",
            " [-2.27028191e-01  2.34054044e-01]\n",
            " [-7.37503886e-01  7.33826518e-01]\n",
            " [-6.50334418e-01  7.34547138e-01]\n",
            " [-5.99307001e-01  8.19051802e-01]\n",
            " [ 7.72440210e-02 -1.94710210e-01]\n",
            " [-5.72839558e-01  4.88543332e-01]\n",
            " [ 7.97160625e-01 -5.00309825e-01]\n",
            " [-7.44643867e-01  7.22439945e-01]\n",
            " [ 1.19124033e-01  9.11931470e-02]\n",
            " [-4.85127233e-02  8.94968435e-02]\n",
            " [ 7.08714366e-01 -8.41018379e-01]\n",
            " [ 9.10255969e-01 -8.43119562e-01]\n",
            " [-2.35714078e-01  3.00617188e-01]\n",
            " [ 1.68515146e+00 -1.64295137e+00]\n",
            " [ 3.75353843e-01 -5.96128583e-01]\n",
            " [-8.33635151e-01  1.09724104e+00]\n",
            " [-5.24694681e-01  6.26358330e-01]\n",
            " [ 9.46221888e-01 -9.38354254e-01]\n",
            " [ 3.58728647e-01 -2.22831488e-01]\n",
            " [-5.46609461e-01  5.75991094e-01]\n",
            " [-4.18908864e-01  9.56732333e-02]\n",
            " [-3.63900542e-01  1.20794490e-01]\n",
            " [ 3.60757709e-01 -1.27658144e-01]\n",
            " [ 1.16890669e+00 -1.46311939e+00]\n",
            " [-4.39780861e-01  3.82199883e-01]\n",
            " [ 1.38739896e+00 -1.38257289e+00]\n",
            " [-1.55177489e-01  1.84403881e-01]\n",
            " [ 3.62744153e-01 -4.61885601e-01]\n",
            " [-1.16622699e-02 -1.43630570e-02]\n",
            " [ 1.32858670e+00 -1.22265828e+00]\n",
            " [ 4.43356037e-02  3.22622806e-02]\n",
            " [ 1.30920947e+00 -1.42048013e+00]\n",
            " [-3.12931508e-01  2.48609051e-01]\n",
            " [-6.76287591e-01  7.14545429e-01]\n",
            " [ 7.38343477e-01 -4.33667570e-01]\n",
            " [ 9.55018640e-01 -7.22025454e-01]\n",
            " [ 9.11846101e-01 -7.28534460e-01]\n",
            " [ 5.49134731e-01 -6.62125885e-01]\n",
            " [ 1.50523096e-01 -5.65239117e-02]\n",
            " [-9.13921744e-02  3.12814295e-01]]\n",
            "Biases: [ 0.08438789 -0.08438782]\n",
            "\n"
          ]
        }
      ],
      "source": [
        "def print_weights_and_biases(model):\n",
        "    for layer in model.layers:\n",
        "        weights = layer.get_weights()\n",
        "        if len(weights) == 2:\n",
        "            weights, biases = weights\n",
        "            print(f\"Layer: {layer.name}\")\n",
        "            print(f\"Weights: {weights}\")\n",
        "            print(f\"Biases: {biases}\\n\")\n",
        "        elif len(weights) == 1:\n",
        "            # Some layers might only have weights but no biases\n",
        "            weights = weights[0]\n",
        "            print(f\"Layer: {layer.name}\")\n",
        "            print(f\"Weights: {weights}\\n\")\n",
        "        else:\n",
        "            # Layers without weights or biases\n",
        "            print(f\"Layer: {layer.name} has no weights or biases.\\n\")\n",
        "\n",
        "# Example usage\n",
        "print_weights_and_biases(classifier)\n"
      ]
    },
    {
      "cell_type": "code",
      "execution_count": null,
      "metadata": {
        "colab": {
          "base_uri": "https://localhost:8080/"
        },
        "id": "8Y40lH5nfS_U",
        "outputId": "f578b8bb-f78e-4f97-8737-896f62d071fa"
      },
      "outputs": [
        {
          "output_type": "stream",
          "name": "stdout",
          "text": [
            "13357\n"
          ]
        }
      ],
      "source": [
        "print(len(Y_test))"
      ]
    },
    {
      "cell_type": "code",
      "execution_count": null,
      "metadata": {
        "id": "S6u147rrnHV0"
      },
      "outputs": [],
      "source": [
        "# import numpy as np\n",
        "# import matplotlib.pyplot as plt\n",
        "# from tensorflow.keras.models import Model\n",
        "\n",
        "# # Define the number of samples to test\n",
        "# num_samples = 300  # You can adjust this based on dataset size\n",
        "\n",
        "# # Select random sample indices\n",
        "# sample_indices = np.random.choice(len(X_test), num_samples, replace=False)\n",
        "\n",
        "# # Store results for plotting\n",
        "# latent_values = []\n",
        "# predictions = []\n",
        "# true_labels = []\n",
        "\n",
        "# # Get model layers\n",
        "# layer_outputs = [layer.output for layer in classifier.layers]  # Get outputs of all layers\n",
        "# layer_names = [layer.name for layer in classifier.layers]      # Get layer names\n",
        "\n",
        "# # Iterate over selected test samples\n",
        "# for sample_index in sample_indices:\n",
        "#     single_input = X_test[sample_index]\n",
        "#     true_label = Y_test[sample_index]\n",
        "\n",
        "#     # Extract latent space and classifier output\n",
        "#     intermediate_layer_model = Model(inputs=classifier.input, outputs=layer_outputs)\n",
        "#     intermediate_output = intermediate_layer_model.predict(np.array([single_input]))\n",
        "\n",
        "#     # Assuming the latent space is from the second-to-last layer\n",
        "#     latent_space_output = intermediate_output[-2].flatten()  # Modify index based on actual layer structure\n",
        "\n",
        "#     # Get classifier output (last layer)\n",
        "#     y1, y2 = intermediate_output[-1].flatten()\n",
        "#     prediction = y1 > y2  # True if y1 > y2, otherwise False\n",
        "\n",
        "#     # Store results\n",
        "#     latent_values.append(latent_space_output)\n",
        "#     predictions.append(prediction)\n",
        "#     true_labels.append(np.argmax(true_label))  # Assuming one-hot encoding\n",
        "\n",
        "# # Convert to numpy arrays for easier processing\n",
        "# latent_values = np.array(latent_values).flatten()  # Assuming 1D latent space\n",
        "# predictions = np.array(predictions)\n",
        "# true_labels = np.array(true_labels)\n",
        "\n",
        "# # Scatter plot of latent values, colored by true label\n",
        "# plt.figure(figsize=(10, 4))\n",
        "# plt.scatter(latent_values, np.zeros_like(latent_values), c=true_labels, cmap=\"viridis\", alpha=0.7)\n",
        "# plt.xlabel(\"Latent Space Value\")\n",
        "# plt.title(\"Latent Space Visualization\")\n",
        "# plt.colorbar(label=\"True Class Label\")\n",
        "# plt.show()\n",
        "\n",
        "# # Histogram of latent space distribution\n",
        "# plt.figure(figsize=(8, 4))\n",
        "# plt.hist(latent_values, bins=30, alpha=0.7, color=\"blue\", edgecolor=\"black\")\n",
        "# plt.xlabel(\"Latent Space Value\")\n",
        "# plt.ylabel(\"Frequency\")\n",
        "# plt.title(\"Latent Space Distribution\")\n",
        "# plt.show()\n"
      ]
    },
    {
      "cell_type": "code",
      "execution_count": null,
      "metadata": {
        "colab": {
          "base_uri": "https://localhost:8080/"
        },
        "id": "chyLdcHce8oY",
        "outputId": "70a04373-07fc-4bca-926d-54985671db92"
      },
      "outputs": [
        {
          "output_type": "stream",
          "name": "stdout",
          "text": [
            "input: [0.55555556 0.46296296 0.41077441 0.42760943 0.33501684 0.57575758\n",
            " 0.33164983 0.52356902 0.44949495 0.42760943] Label: False\n",
            "\u001b[1m1/1\u001b[0m \u001b[32m━━━━━━━━━━━━━━━━━━━━\u001b[0m\u001b[37m\u001b[0m \u001b[1m0s\u001b[0m 46ms/step\n",
            "Output dari layer input_encoder: [[0.5555556  0.46296296 0.4107744  0.4276094  0.33501685 0.57575756\n",
            "  0.33164984 0.52356905 0.44949496 0.4276094 ]]\n",
            "\u001b[1m1/1\u001b[0m \u001b[32m━━━━━━━━━━━━━━━━━━━━\u001b[0m\u001b[37m\u001b[0m \u001b[1m0s\u001b[0m 58ms/step\n",
            "Output dari layer intermediate_layer: [[0.22744355 0.01169859 0.         0.1726548  2.2225344  0.\n",
            "  0.         0.         0.         0.         0.         2.066872  ]]\n",
            "\u001b[1m1/1\u001b[0m \u001b[32m━━━━━━━━━━━━━━━━━━━━\u001b[0m\u001b[37m\u001b[0m \u001b[1m0s\u001b[0m 63ms/step\n",
            "Output dari layer z_mean: [[-0.03850436  1.8201119   0.49569058  0.6160989 ]]\n"
          ]
        },
        {
          "output_type": "stream",
          "name": "stderr",
          "text": [
            "WARNING:tensorflow:5 out of the last 4603 calls to <function TensorFlowTrainer.make_predict_function.<locals>.one_step_on_data_distributed at 0x7e0abbf59940> triggered tf.function retracing. Tracing is expensive and the excessive number of tracings could be due to (1) creating @tf.function repeatedly in a loop, (2) passing tensors with different shapes, (3) passing Python objects instead of tensors. For (1), please define your @tf.function outside of the loop. For (2), @tf.function has reduce_retracing=True option that can avoid unnecessary retracing. For (3), please refer to https://www.tensorflow.org/guide/function#controlling_retracing and https://www.tensorflow.org/api_docs/python/tf/function for  more details.\n"
          ]
        },
        {
          "output_type": "stream",
          "name": "stdout",
          "text": [
            "\u001b[1m1/1\u001b[0m \u001b[32m━━━━━━━━━━━━━━━━━━━━\u001b[0m\u001b[37m\u001b[0m \u001b[1m0s\u001b[0m 63ms/step\n",
            "Output dari layer z_var: [[3.88106230e-07 8.29827854e-07 9.15207243e-10 1.07875934e-07]]\n"
          ]
        },
        {
          "output_type": "stream",
          "name": "stderr",
          "text": [
            "WARNING:tensorflow:6 out of the last 4604 calls to <function TensorFlowTrainer.make_predict_function.<locals>.one_step_on_data_distributed at 0x7e0abbf5b2e0> triggered tf.function retracing. Tracing is expensive and the excessive number of tracings could be due to (1) creating @tf.function repeatedly in a loop, (2) passing tensors with different shapes, (3) passing Python objects instead of tensors. For (1), please define your @tf.function outside of the loop. For (2), @tf.function has reduce_retracing=True option that can avoid unnecessary retracing. For (3), please refer to https://www.tensorflow.org/guide/function#controlling_retracing and https://www.tensorflow.org/api_docs/python/tf/function for  more details.\n"
          ]
        },
        {
          "output_type": "stream",
          "name": "stdout",
          "text": [
            "\u001b[1m1/1\u001b[0m \u001b[32m━━━━━━━━━━━━━━━━━━━━\u001b[0m\u001b[37m\u001b[0m \u001b[1m0s\u001b[0m 90ms/step\n",
            "Output dari layer sampling_layer: [[-0.03757938  1.819806    0.49570626  0.6165501 ]]\n",
            "\u001b[1m1/1\u001b[0m \u001b[32m━━━━━━━━━━━━━━━━━━━━\u001b[0m\u001b[37m\u001b[0m \u001b[1m0s\u001b[0m 91ms/step\n",
            "Output dari layer hidden_classifier: [[0.793083   0.         1.0370274  0.         0.94056857 1.4219415\n",
            "  1.9260086  0.         0.09784377 0.06718099 0.         0.        ]]\n",
            "\u001b[1m1/1\u001b[0m \u001b[32m━━━━━━━━━━━━━━━━━━━━\u001b[0m\u001b[37m\u001b[0m \u001b[1m0s\u001b[0m 98ms/step\n",
            "Output dari layer classifier_output: [[0.2989692 0.6830809]]\n"
          ]
        }
      ],
      "source": [
        "# Output tiap layer\n",
        "\n",
        "from tensorflow.keras.models import Model\n",
        "import numpy as np\n",
        "\n",
        "sample_index = 1  # You can change this to any valid index in the test set\n",
        "\n",
        "# Get the single input and true label\n",
        "single_input = X_test[sample_index]\n",
        "true_label = Y_test[sample_index]\n",
        "print(\"input:\", single_input, \"Label:\", true_label)\n",
        "\n",
        "# Misalkan 'classifier' adalah model Anda\n",
        "layer_outputs = [layer.output for layer in classifier.layers]  # Dapatkan output dari setiap layer\n",
        "layer_names = [layer.name for layer in classifier.layers]      # Dapatkan nama dari setiap layer\n",
        "\n",
        "# Buat model untuk mendapatkan output dari setiap layer\n",
        "for layer_name, layer_output in zip(layer_names, layer_outputs):\n",
        "    intermediate_layer_model = Model(inputs=classifier.input, outputs=layer_output)\n",
        "    intermediate_output = intermediate_layer_model.predict(np.array([single_input]))\n",
        "    print(f\"Output dari layer {layer_name}: {intermediate_output}\")\n"
      ]
    },
    {
      "cell_type": "code",
      "execution_count": null,
      "metadata": {
        "colab": {
          "base_uri": "https://localhost:8080/",
          "height": 1000
        },
        "id": "Wo9346clPStF",
        "outputId": "b1ba9799-589f-43e4-8364-603610d9dd5e"
      },
      "outputs": [
        {
          "output_type": "stream",
          "name": "stdout",
          "text": [
            "\u001b[1m1/1\u001b[0m \u001b[32m━━━━━━━━━━━━━━━━━━━━\u001b[0m\u001b[37m\u001b[0m \u001b[1m0s\u001b[0m 45ms/step\n",
            "\u001b[1m1/1\u001b[0m \u001b[32m━━━━━━━━━━━━━━━━━━━━\u001b[0m\u001b[37m\u001b[0m \u001b[1m0s\u001b[0m 63ms/step\n",
            "\u001b[1m1/1\u001b[0m \u001b[32m━━━━━━━━━━━━━━━━━━━━\u001b[0m\u001b[37m\u001b[0m \u001b[1m0s\u001b[0m 63ms/step\n",
            "\u001b[1m1/1\u001b[0m \u001b[32m━━━━━━━━━━━━━━━━━━━━\u001b[0m\u001b[37m\u001b[0m \u001b[1m0s\u001b[0m 68ms/step\n",
            "\u001b[1m1/1\u001b[0m \u001b[32m━━━━━━━━━━━━━━━━━━━━\u001b[0m\u001b[37m\u001b[0m \u001b[1m0s\u001b[0m 80ms/step\n",
            "\u001b[1m1/1\u001b[0m \u001b[32m━━━━━━━━━━━━━━━━━━━━\u001b[0m\u001b[37m\u001b[0m \u001b[1m0s\u001b[0m 88ms/step\n",
            "\u001b[1m1/1\u001b[0m \u001b[32m━━━━━━━━━━━━━━━━━━━━\u001b[0m\u001b[37m\u001b[0m \u001b[1m0s\u001b[0m 110ms/step\n",
            "\u001b[1m1/1\u001b[0m \u001b[32m━━━━━━━━━━━━━━━━━━━━\u001b[0m\u001b[37m\u001b[0m \u001b[1m0s\u001b[0m 42ms/step\n",
            "\u001b[1m1/1\u001b[0m \u001b[32m━━━━━━━━━━━━━━━━━━━━\u001b[0m\u001b[37m\u001b[0m \u001b[1m0s\u001b[0m 55ms/step\n",
            "\u001b[1m1/1\u001b[0m \u001b[32m━━━━━━━━━━━━━━━━━━━━\u001b[0m\u001b[37m\u001b[0m \u001b[1m0s\u001b[0m 76ms/step\n",
            "\u001b[1m1/1\u001b[0m \u001b[32m━━━━━━━━━━━━━━━━━━━━\u001b[0m\u001b[37m\u001b[0m \u001b[1m0s\u001b[0m 63ms/step\n",
            "\u001b[1m1/1\u001b[0m \u001b[32m━━━━━━━━━━━━━━━━━━━━\u001b[0m\u001b[37m\u001b[0m \u001b[1m0s\u001b[0m 86ms/step\n",
            "\u001b[1m1/1\u001b[0m \u001b[32m━━━━━━━━━━━━━━━━━━━━\u001b[0m\u001b[37m\u001b[0m \u001b[1m0s\u001b[0m 88ms/step\n",
            "\u001b[1m1/1\u001b[0m \u001b[32m━━━━━━━━━━━━━━━━━━━━\u001b[0m\u001b[37m\u001b[0m \u001b[1m0s\u001b[0m 95ms/step\n",
            "\u001b[1m1/1\u001b[0m \u001b[32m━━━━━━━━━━━━━━━━━━━━\u001b[0m\u001b[37m\u001b[0m \u001b[1m0s\u001b[0m 218ms/step\n",
            "\u001b[1m1/1\u001b[0m \u001b[32m━━━━━━━━━━━━━━━━━━━━\u001b[0m\u001b[37m\u001b[0m \u001b[1m0s\u001b[0m 125ms/step\n",
            "\u001b[1m1/1\u001b[0m \u001b[32m━━━━━━━━━━━━━━━━━━━━\u001b[0m\u001b[37m\u001b[0m \u001b[1m0s\u001b[0m 60ms/step\n",
            "\u001b[1m1/1\u001b[0m \u001b[32m━━━━━━━━━━━━━━━━━━━━\u001b[0m\u001b[37m\u001b[0m \u001b[1m0s\u001b[0m 61ms/step\n",
            "\u001b[1m1/1\u001b[0m \u001b[32m━━━━━━━━━━━━━━━━━━━━\u001b[0m\u001b[37m\u001b[0m \u001b[1m0s\u001b[0m 82ms/step\n",
            "\u001b[1m1/1\u001b[0m \u001b[32m━━━━━━━━━━━━━━━━━━━━\u001b[0m\u001b[37m\u001b[0m \u001b[1m0s\u001b[0m 90ms/step\n",
            "\u001b[1m1/1\u001b[0m \u001b[32m━━━━━━━━━━━━━━━━━━━━\u001b[0m\u001b[37m\u001b[0m \u001b[1m0s\u001b[0m 96ms/step\n",
            "\u001b[1m1/1\u001b[0m \u001b[32m━━━━━━━━━━━━━━━━━━━━\u001b[0m\u001b[37m\u001b[0m \u001b[1m0s\u001b[0m 39ms/step\n",
            "\u001b[1m1/1\u001b[0m \u001b[32m━━━━━━━━━━━━━━━━━━━━\u001b[0m\u001b[37m\u001b[0m \u001b[1m0s\u001b[0m 59ms/step\n",
            "\u001b[1m1/1\u001b[0m \u001b[32m━━━━━━━━━━━━━━━━━━━━\u001b[0m\u001b[37m\u001b[0m \u001b[1m0s\u001b[0m 59ms/step\n",
            "\u001b[1m1/1\u001b[0m \u001b[32m━━━━━━━━━━━━━━━━━━━━\u001b[0m\u001b[37m\u001b[0m \u001b[1m0s\u001b[0m 64ms/step\n",
            "\u001b[1m1/1\u001b[0m \u001b[32m━━━━━━━━━━━━━━━━━━━━\u001b[0m\u001b[37m\u001b[0m \u001b[1m0s\u001b[0m 83ms/step\n",
            "\u001b[1m1/1\u001b[0m \u001b[32m━━━━━━━━━━━━━━━━━━━━\u001b[0m\u001b[37m\u001b[0m \u001b[1m0s\u001b[0m 89ms/step\n",
            "\u001b[1m1/1\u001b[0m \u001b[32m━━━━━━━━━━━━━━━━━━━━\u001b[0m\u001b[37m\u001b[0m \u001b[1m0s\u001b[0m 97ms/step\n",
            "\u001b[1m1/1\u001b[0m \u001b[32m━━━━━━━━━━━━━━━━━━━━\u001b[0m\u001b[37m\u001b[0m \u001b[1m0s\u001b[0m 42ms/step\n",
            "\u001b[1m1/1\u001b[0m \u001b[32m━━━━━━━━━━━━━━━━━━━━\u001b[0m\u001b[37m\u001b[0m \u001b[1m0s\u001b[0m 54ms/step\n",
            "\u001b[1m1/1\u001b[0m \u001b[32m━━━━━━━━━━━━━━━━━━━━\u001b[0m\u001b[37m\u001b[0m \u001b[1m0s\u001b[0m 62ms/step\n",
            "\u001b[1m1/1\u001b[0m \u001b[32m━━━━━━━━━━━━━━━━━━━━\u001b[0m\u001b[37m\u001b[0m \u001b[1m0s\u001b[0m 59ms/step\n",
            "\u001b[1m1/1\u001b[0m \u001b[32m━━━━━━━━━━━━━━━━━━━━\u001b[0m\u001b[37m\u001b[0m \u001b[1m0s\u001b[0m 83ms/step\n",
            "\u001b[1m1/1\u001b[0m \u001b[32m━━━━━━━━━━━━━━━━━━━━\u001b[0m\u001b[37m\u001b[0m \u001b[1m0s\u001b[0m 89ms/step\n",
            "\u001b[1m1/1\u001b[0m \u001b[32m━━━━━━━━━━━━━━━━━━━━\u001b[0m\u001b[37m\u001b[0m \u001b[1m0s\u001b[0m 97ms/step\n",
            "\u001b[1m1/1\u001b[0m \u001b[32m━━━━━━━━━━━━━━━━━━━━\u001b[0m\u001b[37m\u001b[0m \u001b[1m0s\u001b[0m 43ms/step\n",
            "\u001b[1m1/1\u001b[0m \u001b[32m━━━━━━━━━━━━━━━━━━━━\u001b[0m\u001b[37m\u001b[0m \u001b[1m0s\u001b[0m 67ms/step\n",
            "\u001b[1m1/1\u001b[0m \u001b[32m━━━━━━━━━━━━━━━━━━━━\u001b[0m\u001b[37m\u001b[0m \u001b[1m0s\u001b[0m 60ms/step\n",
            "\u001b[1m1/1\u001b[0m \u001b[32m━━━━━━━━━━━━━━━━━━━━\u001b[0m\u001b[37m\u001b[0m \u001b[1m0s\u001b[0m 59ms/step\n",
            "\u001b[1m1/1\u001b[0m \u001b[32m━━━━━━━━━━━━━━━━━━━━\u001b[0m\u001b[37m\u001b[0m \u001b[1m0s\u001b[0m 80ms/step\n",
            "\u001b[1m1/1\u001b[0m \u001b[32m━━━━━━━━━━━━━━━━━━━━\u001b[0m\u001b[37m\u001b[0m \u001b[1m0s\u001b[0m 86ms/step\n",
            "\u001b[1m1/1\u001b[0m \u001b[32m━━━━━━━━━━━━━━━━━━━━\u001b[0m\u001b[37m\u001b[0m \u001b[1m0s\u001b[0m 140ms/step\n",
            "\u001b[1m1/1\u001b[0m \u001b[32m━━━━━━━━━━━━━━━━━━━━\u001b[0m\u001b[37m\u001b[0m \u001b[1m0s\u001b[0m 48ms/step\n",
            "\u001b[1m1/1\u001b[0m \u001b[32m━━━━━━━━━━━━━━━━━━━━\u001b[0m\u001b[37m\u001b[0m \u001b[1m0s\u001b[0m 70ms/step\n",
            "\u001b[1m1/1\u001b[0m \u001b[32m━━━━━━━━━━━━━━━━━━━━\u001b[0m\u001b[37m\u001b[0m \u001b[1m0s\u001b[0m 72ms/step\n",
            "\u001b[1m1/1\u001b[0m \u001b[32m━━━━━━━━━━━━━━━━━━━━\u001b[0m\u001b[37m\u001b[0m \u001b[1m0s\u001b[0m 92ms/step\n",
            "\u001b[1m1/1\u001b[0m \u001b[32m━━━━━━━━━━━━━━━━━━━━\u001b[0m\u001b[37m\u001b[0m \u001b[1m0s\u001b[0m 121ms/step\n",
            "\u001b[1m1/1\u001b[0m \u001b[32m━━━━━━━━━━━━━━━━━━━━\u001b[0m\u001b[37m\u001b[0m \u001b[1m0s\u001b[0m 121ms/step\n",
            "\u001b[1m1/1\u001b[0m \u001b[32m━━━━━━━━━━━━━━━━━━━━\u001b[0m\u001b[37m\u001b[0m \u001b[1m0s\u001b[0m 161ms/step\n",
            "\u001b[1m1/1\u001b[0m \u001b[32m━━━━━━━━━━━━━━━━━━━━\u001b[0m\u001b[37m\u001b[0m \u001b[1m0s\u001b[0m 58ms/step\n",
            "\u001b[1m1/1\u001b[0m \u001b[32m━━━━━━━━━━━━━━━━━━━━\u001b[0m\u001b[37m\u001b[0m \u001b[1m0s\u001b[0m 82ms/step\n",
            "\u001b[1m1/1\u001b[0m \u001b[32m━━━━━━━━━━━━━━━━━━━━\u001b[0m\u001b[37m\u001b[0m \u001b[1m0s\u001b[0m 89ms/step\n",
            "\u001b[1m1/1\u001b[0m \u001b[32m━━━━━━━━━━━━━━━━━━━━\u001b[0m\u001b[37m\u001b[0m \u001b[1m0s\u001b[0m 83ms/step\n",
            "\u001b[1m1/1\u001b[0m \u001b[32m━━━━━━━━━━━━━━━━━━━━\u001b[0m\u001b[37m\u001b[0m \u001b[1m0s\u001b[0m 113ms/step\n",
            "\u001b[1m1/1\u001b[0m \u001b[32m━━━━━━━━━━━━━━━━━━━━\u001b[0m\u001b[37m\u001b[0m \u001b[1m0s\u001b[0m 157ms/step\n",
            "\u001b[1m1/1\u001b[0m \u001b[32m━━━━━━━━━━━━━━━━━━━━\u001b[0m\u001b[37m\u001b[0m \u001b[1m0s\u001b[0m 136ms/step\n",
            "\u001b[1m1/1\u001b[0m \u001b[32m━━━━━━━━━━━━━━━━━━━━\u001b[0m\u001b[37m\u001b[0m \u001b[1m0s\u001b[0m 57ms/step\n",
            "\u001b[1m1/1\u001b[0m \u001b[32m━━━━━━━━━━━━━━━━━━━━\u001b[0m\u001b[37m\u001b[0m \u001b[1m0s\u001b[0m 74ms/step\n",
            "\u001b[1m1/1\u001b[0m \u001b[32m━━━━━━━━━━━━━━━━━━━━\u001b[0m\u001b[37m\u001b[0m \u001b[1m0s\u001b[0m 88ms/step\n",
            "\u001b[1m1/1\u001b[0m \u001b[32m━━━━━━━━━━━━━━━━━━━━\u001b[0m\u001b[37m\u001b[0m \u001b[1m0s\u001b[0m 90ms/step\n",
            "\u001b[1m1/1\u001b[0m \u001b[32m━━━━━━━━━━━━━━━━━━━━\u001b[0m\u001b[37m\u001b[0m \u001b[1m0s\u001b[0m 121ms/step\n",
            "\u001b[1m1/1\u001b[0m \u001b[32m━━━━━━━━━━━━━━━━━━━━\u001b[0m\u001b[37m\u001b[0m \u001b[1m0s\u001b[0m 132ms/step\n",
            "\u001b[1m1/1\u001b[0m \u001b[32m━━━━━━━━━━━━━━━━━━━━\u001b[0m\u001b[37m\u001b[0m \u001b[1m0s\u001b[0m 98ms/step\n",
            "\u001b[1m1/1\u001b[0m \u001b[32m━━━━━━━━━━━━━━━━━━━━\u001b[0m\u001b[37m\u001b[0m \u001b[1m0s\u001b[0m 41ms/step\n",
            "\u001b[1m1/1\u001b[0m \u001b[32m━━━━━━━━━━━━━━━━━━━━\u001b[0m\u001b[37m\u001b[0m \u001b[1m0s\u001b[0m 54ms/step\n",
            "\u001b[1m1/1\u001b[0m \u001b[32m━━━━━━━━━━━━━━━━━━━━\u001b[0m\u001b[37m\u001b[0m \u001b[1m0s\u001b[0m 58ms/step\n",
            "\u001b[1m1/1\u001b[0m \u001b[32m━━━━━━━━━━━━━━━━━━━━\u001b[0m\u001b[37m\u001b[0m \u001b[1m0s\u001b[0m 60ms/step\n",
            "\u001b[1m1/1\u001b[0m \u001b[32m━━━━━━━━━━━━━━━━━━━━\u001b[0m\u001b[37m\u001b[0m \u001b[1m0s\u001b[0m 81ms/step\n",
            "\u001b[1m1/1\u001b[0m \u001b[32m━━━━━━━━━━━━━━━━━━━━\u001b[0m\u001b[37m\u001b[0m \u001b[1m0s\u001b[0m 101ms/step\n",
            "\u001b[1m1/1\u001b[0m \u001b[32m━━━━━━━━━━━━━━━━━━━━\u001b[0m\u001b[37m\u001b[0m \u001b[1m0s\u001b[0m 98ms/step\n",
            "\u001b[1m1/1\u001b[0m \u001b[32m━━━━━━━━━━━━━━━━━━━━\u001b[0m\u001b[37m\u001b[0m \u001b[1m0s\u001b[0m 41ms/step\n",
            "\u001b[1m1/1\u001b[0m \u001b[32m━━━━━━━━━━━━━━━━━━━━\u001b[0m\u001b[37m\u001b[0m \u001b[1m0s\u001b[0m 52ms/step\n",
            "\u001b[1m1/1\u001b[0m \u001b[32m━━━━━━━━━━━━━━━━━━━━\u001b[0m\u001b[37m\u001b[0m \u001b[1m0s\u001b[0m 58ms/step\n",
            "\u001b[1m1/1\u001b[0m \u001b[32m━━━━━━━━━━━━━━━━━━━━\u001b[0m\u001b[37m\u001b[0m \u001b[1m0s\u001b[0m 63ms/step\n",
            "\u001b[1m1/1\u001b[0m \u001b[32m━━━━━━━━━━━━━━━━━━━━\u001b[0m\u001b[37m\u001b[0m \u001b[1m0s\u001b[0m 88ms/step\n",
            "\u001b[1m1/1\u001b[0m \u001b[32m━━━━━━━━━━━━━━━━━━━━\u001b[0m\u001b[37m\u001b[0m \u001b[1m0s\u001b[0m 87ms/step\n",
            "\u001b[1m1/1\u001b[0m \u001b[32m━━━━━━━━━━━━━━━━━━━━\u001b[0m\u001b[37m\u001b[0m \u001b[1m0s\u001b[0m 102ms/step\n",
            "\u001b[1m1/1\u001b[0m \u001b[32m━━━━━━━━━━━━━━━━━━━━\u001b[0m\u001b[37m\u001b[0m \u001b[1m0s\u001b[0m 135ms/step\n",
            "\u001b[1m1/1\u001b[0m \u001b[32m━━━━━━━━━━━━━━━━━━━━\u001b[0m\u001b[37m\u001b[0m \u001b[1m0s\u001b[0m 131ms/step\n",
            "\u001b[1m1/1\u001b[0m \u001b[32m━━━━━━━━━━━━━━━━━━━━\u001b[0m\u001b[37m\u001b[0m \u001b[1m0s\u001b[0m 315ms/step\n",
            "\u001b[1m1/1\u001b[0m \u001b[32m━━━━━━━━━━━━━━━━━━━━\u001b[0m\u001b[37m\u001b[0m \u001b[1m0s\u001b[0m 218ms/step\n",
            "\u001b[1m1/1\u001b[0m \u001b[32m━━━━━━━━━━━━━━━━━━━━\u001b[0m\u001b[37m\u001b[0m \u001b[1m0s\u001b[0m 316ms/step\n",
            "\u001b[1m1/1\u001b[0m \u001b[32m━━━━━━━━━━━━━━━━━━━━\u001b[0m\u001b[37m\u001b[0m \u001b[1m0s\u001b[0m 158ms/step\n",
            "\u001b[1m1/1\u001b[0m \u001b[32m━━━━━━━━━━━━━━━━━━━━\u001b[0m\u001b[37m\u001b[0m \u001b[1m0s\u001b[0m 186ms/step\n",
            "\u001b[1m1/1\u001b[0m \u001b[32m━━━━━━━━━━━━━━━━━━━━\u001b[0m\u001b[37m\u001b[0m \u001b[1m0s\u001b[0m 143ms/step\n",
            "\u001b[1m1/1\u001b[0m \u001b[32m━━━━━━━━━━━━━━━━━━━━\u001b[0m\u001b[37m\u001b[0m \u001b[1m0s\u001b[0m 80ms/step\n",
            "\u001b[1m1/1\u001b[0m \u001b[32m━━━━━━━━━━━━━━━━━━━━\u001b[0m\u001b[37m\u001b[0m \u001b[1m0s\u001b[0m 97ms/step\n",
            "\u001b[1m1/1\u001b[0m \u001b[32m━━━━━━━━━━━━━━━━━━━━\u001b[0m\u001b[37m\u001b[0m \u001b[1m0s\u001b[0m 163ms/step\n",
            "\u001b[1m1/1\u001b[0m \u001b[32m━━━━━━━━━━━━━━━━━━━━\u001b[0m\u001b[37m\u001b[0m \u001b[1m0s\u001b[0m 166ms/step\n",
            "\u001b[1m1/1\u001b[0m \u001b[32m━━━━━━━━━━━━━━━━━━━━\u001b[0m\u001b[37m\u001b[0m \u001b[1m0s\u001b[0m 242ms/step\n",
            "\u001b[1m1/1\u001b[0m \u001b[32m━━━━━━━━━━━━━━━━━━━━\u001b[0m\u001b[37m\u001b[0m \u001b[1m0s\u001b[0m 262ms/step\n",
            "\u001b[1m1/1\u001b[0m \u001b[32m━━━━━━━━━━━━━━━━━━━━\u001b[0m\u001b[37m\u001b[0m \u001b[1m0s\u001b[0m 69ms/step\n",
            "\u001b[1m1/1\u001b[0m \u001b[32m━━━━━━━━━━━━━━━━━━━━\u001b[0m\u001b[37m\u001b[0m \u001b[1m0s\u001b[0m 53ms/step\n",
            "\u001b[1m1/1\u001b[0m \u001b[32m━━━━━━━━━━━━━━━━━━━━\u001b[0m\u001b[37m\u001b[0m \u001b[1m0s\u001b[0m 67ms/step\n",
            "\u001b[1m1/1\u001b[0m \u001b[32m━━━━━━━━━━━━━━━━━━━━\u001b[0m\u001b[37m\u001b[0m \u001b[1m0s\u001b[0m 60ms/step\n",
            "\u001b[1m1/1\u001b[0m \u001b[32m━━━━━━━━━━━━━━━━━━━━\u001b[0m\u001b[37m\u001b[0m \u001b[1m0s\u001b[0m 82ms/step\n",
            "\u001b[1m1/1\u001b[0m \u001b[32m━━━━━━━━━━━━━━━━━━━━\u001b[0m\u001b[37m\u001b[0m \u001b[1m0s\u001b[0m 86ms/step\n",
            "\u001b[1m1/1\u001b[0m \u001b[32m━━━━━━━━━━━━━━━━━━━━\u001b[0m\u001b[37m\u001b[0m \u001b[1m0s\u001b[0m 108ms/step\n",
            "\u001b[1m1/1\u001b[0m \u001b[32m━━━━━━━━━━━━━━━━━━━━\u001b[0m\u001b[37m\u001b[0m \u001b[1m0s\u001b[0m 43ms/step\n",
            "\u001b[1m1/1\u001b[0m \u001b[32m━━━━━━━━━━━━━━━━━━━━\u001b[0m\u001b[37m\u001b[0m \u001b[1m0s\u001b[0m 56ms/step\n",
            "\u001b[1m1/1\u001b[0m \u001b[32m━━━━━━━━━━━━━━━━━━━━\u001b[0m\u001b[37m\u001b[0m \u001b[1m0s\u001b[0m 62ms/step\n",
            "\u001b[1m1/1\u001b[0m \u001b[32m━━━━━━━━━━━━━━━━━━━━\u001b[0m\u001b[37m\u001b[0m \u001b[1m0s\u001b[0m 63ms/step\n",
            "\u001b[1m1/1\u001b[0m \u001b[32m━━━━━━━━━━━━━━━━━━━━\u001b[0m\u001b[37m\u001b[0m \u001b[1m0s\u001b[0m 83ms/step\n",
            "\u001b[1m1/1\u001b[0m \u001b[32m━━━━━━━━━━━━━━━━━━━━\u001b[0m\u001b[37m\u001b[0m \u001b[1m0s\u001b[0m 90ms/step\n",
            "\u001b[1m1/1\u001b[0m \u001b[32m━━━━━━━━━━━━━━━━━━━━\u001b[0m\u001b[37m\u001b[0m \u001b[1m0s\u001b[0m 116ms/step\n",
            "\u001b[1m1/1\u001b[0m \u001b[32m━━━━━━━━━━━━━━━━━━━━\u001b[0m\u001b[37m\u001b[0m \u001b[1m0s\u001b[0m 44ms/step\n",
            "\u001b[1m1/1\u001b[0m \u001b[32m━━━━━━━━━━━━━━━━━━━━\u001b[0m\u001b[37m\u001b[0m \u001b[1m0s\u001b[0m 54ms/step\n",
            "\u001b[1m1/1\u001b[0m \u001b[32m━━━━━━━━━━━━━━━━━━━━\u001b[0m\u001b[37m\u001b[0m \u001b[1m0s\u001b[0m 61ms/step\n",
            "\u001b[1m1/1\u001b[0m \u001b[32m━━━━━━━━━━━━━━━━━━━━\u001b[0m\u001b[37m\u001b[0m \u001b[1m0s\u001b[0m 63ms/step\n",
            "\u001b[1m1/1\u001b[0m \u001b[32m━━━━━━━━━━━━━━━━━━━━\u001b[0m\u001b[37m\u001b[0m \u001b[1m0s\u001b[0m 80ms/step\n",
            "\u001b[1m1/1\u001b[0m \u001b[32m━━━━━━━━━━━━━━━━━━━━\u001b[0m\u001b[37m\u001b[0m \u001b[1m0s\u001b[0m 89ms/step\n",
            "\u001b[1m1/1\u001b[0m \u001b[32m━━━━━━━━━━━━━━━━━━━━\u001b[0m\u001b[37m\u001b[0m \u001b[1m0s\u001b[0m 96ms/step\n",
            "\u001b[1m1/1\u001b[0m \u001b[32m━━━━━━━━━━━━━━━━━━━━\u001b[0m\u001b[37m\u001b[0m \u001b[1m0s\u001b[0m 73ms/step\n",
            "\u001b[1m1/1\u001b[0m \u001b[32m━━━━━━━━━━━━━━━━━━━━\u001b[0m\u001b[37m\u001b[0m \u001b[1m0s\u001b[0m 87ms/step\n",
            "\u001b[1m1/1\u001b[0m \u001b[32m━━━━━━━━━━━━━━━━━━━━\u001b[0m\u001b[37m\u001b[0m \u001b[1m0s\u001b[0m 98ms/step\n",
            "\u001b[1m1/1\u001b[0m \u001b[32m━━━━━━━━━━━━━━━━━━━━\u001b[0m\u001b[37m\u001b[0m \u001b[1m0s\u001b[0m 86ms/step\n",
            "\u001b[1m1/1\u001b[0m \u001b[32m━━━━━━━━━━━━━━━━━━━━\u001b[0m\u001b[37m\u001b[0m \u001b[1m0s\u001b[0m 114ms/step\n",
            "\u001b[1m1/1\u001b[0m \u001b[32m━━━━━━━━━━━━━━━━━━━━\u001b[0m\u001b[37m\u001b[0m \u001b[1m0s\u001b[0m 134ms/step\n",
            "\u001b[1m1/1\u001b[0m \u001b[32m━━━━━━━━━━━━━━━━━━━━\u001b[0m\u001b[37m\u001b[0m \u001b[1m0s\u001b[0m 159ms/step\n",
            "\u001b[1m1/1\u001b[0m \u001b[32m━━━━━━━━━━━━━━━━━━━━\u001b[0m\u001b[37m\u001b[0m \u001b[1m0s\u001b[0m 67ms/step\n",
            "\u001b[1m1/1\u001b[0m \u001b[32m━━━━━━━━━━━━━━━━━━━━\u001b[0m\u001b[37m\u001b[0m \u001b[1m0s\u001b[0m 79ms/step\n",
            "\u001b[1m1/1\u001b[0m \u001b[32m━━━━━━━━━━━━━━━━━━━━\u001b[0m\u001b[37m\u001b[0m \u001b[1m0s\u001b[0m 81ms/step\n",
            "\u001b[1m1/1\u001b[0m \u001b[32m━━━━━━━━━━━━━━━━━━━━\u001b[0m\u001b[37m\u001b[0m \u001b[1m0s\u001b[0m 338ms/step\n",
            "\u001b[1m1/1\u001b[0m \u001b[32m━━━━━━━━━━━━━━━━━━━━\u001b[0m\u001b[37m\u001b[0m \u001b[1m0s\u001b[0m 309ms/step\n",
            "\u001b[1m1/1\u001b[0m \u001b[32m━━━━━━━━━━━━━━━━━━━━\u001b[0m\u001b[37m\u001b[0m \u001b[1m1s\u001b[0m 523ms/step\n",
            "\u001b[1m1/1\u001b[0m \u001b[32m━━━━━━━━━━━━━━━━━━━━\u001b[0m\u001b[37m\u001b[0m \u001b[1m0s\u001b[0m 262ms/step\n",
            "\u001b[1m1/1\u001b[0m \u001b[32m━━━━━━━━━━━━━━━━━━━━\u001b[0m\u001b[37m\u001b[0m \u001b[1m0s\u001b[0m 91ms/step\n",
            "\u001b[1m1/1\u001b[0m \u001b[32m━━━━━━━━━━━━━━━━━━━━\u001b[0m\u001b[37m\u001b[0m \u001b[1m0s\u001b[0m 97ms/step\n",
            "\u001b[1m1/1\u001b[0m \u001b[32m━━━━━━━━━━━━━━━━━━━━\u001b[0m\u001b[37m\u001b[0m \u001b[1m0s\u001b[0m 93ms/step\n",
            "\u001b[1m1/1\u001b[0m \u001b[32m━━━━━━━━━━━━━━━━━━━━\u001b[0m\u001b[37m\u001b[0m \u001b[1m0s\u001b[0m 210ms/step\n",
            "\u001b[1m1/1\u001b[0m \u001b[32m━━━━━━━━━━━━━━━━━━━━\u001b[0m\u001b[37m\u001b[0m \u001b[1m0s\u001b[0m 188ms/step\n",
            "\u001b[1m1/1\u001b[0m \u001b[32m━━━━━━━━━━━━━━━━━━━━\u001b[0m\u001b[37m\u001b[0m \u001b[1m0s\u001b[0m 136ms/step\n",
            "\u001b[1m1/1\u001b[0m \u001b[32m━━━━━━━━━━━━━━━━━━━━\u001b[0m\u001b[37m\u001b[0m \u001b[1m0s\u001b[0m 187ms/step\n",
            "\u001b[1m1/1\u001b[0m \u001b[32m━━━━━━━━━━━━━━━━━━━━\u001b[0m\u001b[37m\u001b[0m \u001b[1m0s\u001b[0m 79ms/step\n",
            "\u001b[1m1/1\u001b[0m \u001b[32m━━━━━━━━━━━━━━━━━━━━\u001b[0m\u001b[37m\u001b[0m \u001b[1m0s\u001b[0m 73ms/step\n",
            "\u001b[1m1/1\u001b[0m \u001b[32m━━━━━━━━━━━━━━━━━━━━\u001b[0m\u001b[37m\u001b[0m \u001b[1m0s\u001b[0m 61ms/step\n",
            "\u001b[1m1/1\u001b[0m \u001b[32m━━━━━━━━━━━━━━━━━━━━\u001b[0m\u001b[37m\u001b[0m \u001b[1m0s\u001b[0m 62ms/step\n",
            "\u001b[1m1/1\u001b[0m \u001b[32m━━━━━━━━━━━━━━━━━━━━\u001b[0m\u001b[37m\u001b[0m \u001b[1m0s\u001b[0m 85ms/step\n",
            "\u001b[1m1/1\u001b[0m \u001b[32m━━━━━━━━━━━━━━━━━━━━\u001b[0m\u001b[37m\u001b[0m \u001b[1m0s\u001b[0m 102ms/step\n",
            "\u001b[1m1/1\u001b[0m \u001b[32m━━━━━━━━━━━━━━━━━━━━\u001b[0m\u001b[37m\u001b[0m \u001b[1m0s\u001b[0m 99ms/step\n",
            "\u001b[1m1/1\u001b[0m \u001b[32m━━━━━━━━━━━━━━━━━━━━\u001b[0m\u001b[37m\u001b[0m \u001b[1m0s\u001b[0m 41ms/step\n",
            "\u001b[1m1/1\u001b[0m \u001b[32m━━━━━━━━━━━━━━━━━━━━\u001b[0m\u001b[37m\u001b[0m \u001b[1m0s\u001b[0m 52ms/step\n",
            "\u001b[1m1/1\u001b[0m \u001b[32m━━━━━━━━━━━━━━━━━━━━\u001b[0m\u001b[37m\u001b[0m \u001b[1m0s\u001b[0m 70ms/step\n",
            "\u001b[1m1/1\u001b[0m \u001b[32m━━━━━━━━━━━━━━━━━━━━\u001b[0m\u001b[37m\u001b[0m \u001b[1m0s\u001b[0m 63ms/step\n",
            "\u001b[1m1/1\u001b[0m \u001b[32m━━━━━━━━━━━━━━━━━━━━\u001b[0m\u001b[37m\u001b[0m \u001b[1m0s\u001b[0m 83ms/step\n",
            "\u001b[1m1/1\u001b[0m \u001b[32m━━━━━━━━━━━━━━━━━━━━\u001b[0m\u001b[37m\u001b[0m \u001b[1m0s\u001b[0m 89ms/step\n",
            "\u001b[1m1/1\u001b[0m \u001b[32m━━━━━━━━━━━━━━━━━━━━\u001b[0m\u001b[37m\u001b[0m \u001b[1m0s\u001b[0m 111ms/step\n",
            "\u001b[1m1/1\u001b[0m \u001b[32m━━━━━━━━━━━━━━━━━━━━\u001b[0m\u001b[37m\u001b[0m \u001b[1m0s\u001b[0m 42ms/step\n",
            "\u001b[1m1/1\u001b[0m \u001b[32m━━━━━━━━━━━━━━━━━━━━\u001b[0m\u001b[37m\u001b[0m \u001b[1m0s\u001b[0m 53ms/step\n",
            "\u001b[1m1/1\u001b[0m \u001b[32m━━━━━━━━━━━━━━━━━━━━\u001b[0m\u001b[37m\u001b[0m \u001b[1m0s\u001b[0m 62ms/step\n",
            "\u001b[1m1/1\u001b[0m \u001b[32m━━━━━━━━━━━━━━━━━━━━\u001b[0m\u001b[37m\u001b[0m \u001b[1m0s\u001b[0m 64ms/step\n",
            "\u001b[1m1/1\u001b[0m \u001b[32m━━━━━━━━━━━━━━━━━━━━\u001b[0m\u001b[37m\u001b[0m \u001b[1m0s\u001b[0m 90ms/step\n",
            "\u001b[1m1/1\u001b[0m \u001b[32m━━━━━━━━━━━━━━━━━━━━\u001b[0m\u001b[37m\u001b[0m \u001b[1m0s\u001b[0m 97ms/step\n",
            "\u001b[1m1/1\u001b[0m \u001b[32m━━━━━━━━━━━━━━━━━━━━\u001b[0m\u001b[37m\u001b[0m \u001b[1m0s\u001b[0m 109ms/step\n",
            "\u001b[1m1/1\u001b[0m \u001b[32m━━━━━━━━━━━━━━━━━━━━\u001b[0m\u001b[37m\u001b[0m \u001b[1m0s\u001b[0m 47ms/step\n",
            "\u001b[1m1/1\u001b[0m \u001b[32m━━━━━━━━━━━━━━━━━━━━\u001b[0m\u001b[37m\u001b[0m \u001b[1m0s\u001b[0m 60ms/step\n",
            "\u001b[1m1/1\u001b[0m \u001b[32m━━━━━━━━━━━━━━━━━━━━\u001b[0m\u001b[37m\u001b[0m \u001b[1m0s\u001b[0m 62ms/step\n",
            "\u001b[1m1/1\u001b[0m \u001b[32m━━━━━━━━━━━━━━━━━━━━\u001b[0m\u001b[37m\u001b[0m \u001b[1m0s\u001b[0m 61ms/step\n",
            "\u001b[1m1/1\u001b[0m \u001b[32m━━━━━━━━━━━━━━━━━━━━\u001b[0m\u001b[37m\u001b[0m \u001b[1m0s\u001b[0m 82ms/step\n",
            "\u001b[1m1/1\u001b[0m \u001b[32m━━━━━━━━━━━━━━━━━━━━\u001b[0m\u001b[37m\u001b[0m \u001b[1m0s\u001b[0m 93ms/step\n",
            "\u001b[1m1/1\u001b[0m \u001b[32m━━━━━━━━━━━━━━━━━━━━\u001b[0m\u001b[37m\u001b[0m \u001b[1m0s\u001b[0m 103ms/step\n",
            "\u001b[1m1/1\u001b[0m \u001b[32m━━━━━━━━━━━━━━━━━━━━\u001b[0m\u001b[37m\u001b[0m \u001b[1m0s\u001b[0m 44ms/step\n",
            "\u001b[1m1/1\u001b[0m \u001b[32m━━━━━━━━━━━━━━━━━━━━\u001b[0m\u001b[37m\u001b[0m \u001b[1m0s\u001b[0m 56ms/step\n",
            "\u001b[1m1/1\u001b[0m \u001b[32m━━━━━━━━━━━━━━━━━━━━\u001b[0m\u001b[37m\u001b[0m \u001b[1m0s\u001b[0m 62ms/step\n",
            "\u001b[1m1/1\u001b[0m \u001b[32m━━━━━━━━━━━━━━━━━━━━\u001b[0m\u001b[37m\u001b[0m \u001b[1m0s\u001b[0m 62ms/step\n",
            "\u001b[1m1/1\u001b[0m \u001b[32m━━━━━━━━━━━━━━━━━━━━\u001b[0m\u001b[37m\u001b[0m \u001b[1m0s\u001b[0m 88ms/step\n",
            "\u001b[1m1/1\u001b[0m \u001b[32m━━━━━━━━━━━━━━━━━━━━\u001b[0m\u001b[37m\u001b[0m \u001b[1m0s\u001b[0m 91ms/step\n",
            "\u001b[1m1/1\u001b[0m \u001b[32m━━━━━━━━━━━━━━━━━━━━\u001b[0m\u001b[37m\u001b[0m \u001b[1m0s\u001b[0m 103ms/step\n",
            "\u001b[1m1/1\u001b[0m \u001b[32m━━━━━━━━━━━━━━━━━━━━\u001b[0m\u001b[37m\u001b[0m \u001b[1m0s\u001b[0m 45ms/step\n",
            "\u001b[1m1/1\u001b[0m \u001b[32m━━━━━━━━━━━━━━━━━━━━\u001b[0m\u001b[37m\u001b[0m \u001b[1m0s\u001b[0m 54ms/step\n",
            "\u001b[1m1/1\u001b[0m \u001b[32m━━━━━━━━━━━━━━━━━━━━\u001b[0m\u001b[37m\u001b[0m \u001b[1m0s\u001b[0m 61ms/step\n",
            "\u001b[1m1/1\u001b[0m \u001b[32m━━━━━━━━━━━━━━━━━━━━\u001b[0m\u001b[37m\u001b[0m \u001b[1m0s\u001b[0m 62ms/step\n",
            "\u001b[1m1/1\u001b[0m \u001b[32m━━━━━━━━━━━━━━━━━━━━\u001b[0m\u001b[37m\u001b[0m \u001b[1m0s\u001b[0m 84ms/step\n",
            "\u001b[1m1/1\u001b[0m \u001b[32m━━━━━━━━━━━━━━━━━━━━\u001b[0m\u001b[37m\u001b[0m \u001b[1m0s\u001b[0m 87ms/step\n",
            "\u001b[1m1/1\u001b[0m \u001b[32m━━━━━━━━━━━━━━━━━━━━\u001b[0m\u001b[37m\u001b[0m \u001b[1m0s\u001b[0m 95ms/step\n",
            "\u001b[1m1/1\u001b[0m \u001b[32m━━━━━━━━━━━━━━━━━━━━\u001b[0m\u001b[37m\u001b[0m \u001b[1m0s\u001b[0m 49ms/step\n",
            "\u001b[1m1/1\u001b[0m \u001b[32m━━━━━━━━━━━━━━━━━━━━\u001b[0m\u001b[37m\u001b[0m \u001b[1m0s\u001b[0m 55ms/step\n",
            "\u001b[1m1/1\u001b[0m \u001b[32m━━━━━━━━━━━━━━━━━━━━\u001b[0m\u001b[37m\u001b[0m \u001b[1m0s\u001b[0m 63ms/step\n",
            "\u001b[1m1/1\u001b[0m \u001b[32m━━━━━━━━━━━━━━━━━━━━\u001b[0m\u001b[37m\u001b[0m \u001b[1m0s\u001b[0m 64ms/step\n",
            "\u001b[1m1/1\u001b[0m \u001b[32m━━━━━━━━━━━━━━━━━━━━\u001b[0m\u001b[37m\u001b[0m \u001b[1m0s\u001b[0m 83ms/step\n",
            "\u001b[1m1/1\u001b[0m \u001b[32m━━━━━━━━━━━━━━━━━━━━\u001b[0m\u001b[37m\u001b[0m \u001b[1m0s\u001b[0m 97ms/step\n",
            "\u001b[1m1/1\u001b[0m \u001b[32m━━━━━━━━━━━━━━━━━━━━\u001b[0m\u001b[37m\u001b[0m \u001b[1m0s\u001b[0m 108ms/step\n",
            "\u001b[1m1/1\u001b[0m \u001b[32m━━━━━━━━━━━━━━━━━━━━\u001b[0m\u001b[37m\u001b[0m \u001b[1m0s\u001b[0m 46ms/step\n",
            "\u001b[1m1/1\u001b[0m \u001b[32m━━━━━━━━━━━━━━━━━━━━\u001b[0m\u001b[37m\u001b[0m \u001b[1m0s\u001b[0m 67ms/step\n",
            "\u001b[1m1/1\u001b[0m \u001b[32m━━━━━━━━━━━━━━━━━━━━\u001b[0m\u001b[37m\u001b[0m \u001b[1m0s\u001b[0m 101ms/step\n",
            "\u001b[1m1/1\u001b[0m \u001b[32m━━━━━━━━━━━━━━━━━━━━\u001b[0m\u001b[37m\u001b[0m \u001b[1m0s\u001b[0m 160ms/step\n",
            "\u001b[1m1/1\u001b[0m \u001b[32m━━━━━━━━━━━━━━━━━━━━\u001b[0m\u001b[37m\u001b[0m \u001b[1m0s\u001b[0m 371ms/step\n",
            "\u001b[1m1/1\u001b[0m \u001b[32m━━━━━━━━━━━━━━━━━━━━\u001b[0m\u001b[37m\u001b[0m \u001b[1m0s\u001b[0m 289ms/step\n",
            "\u001b[1m1/1\u001b[0m \u001b[32m━━━━━━━━━━━━━━━━━━━━\u001b[0m\u001b[37m\u001b[0m \u001b[1m0s\u001b[0m 289ms/step\n",
            "\u001b[1m1/1\u001b[0m \u001b[32m━━━━━━━━━━━━━━━━━━━━\u001b[0m\u001b[37m\u001b[0m \u001b[1m0s\u001b[0m 138ms/step\n",
            "\u001b[1m1/1\u001b[0m \u001b[32m━━━━━━━━━━━━━━━━━━━━\u001b[0m\u001b[37m\u001b[0m \u001b[1m0s\u001b[0m 158ms/step\n",
            "\u001b[1m1/1\u001b[0m \u001b[32m━━━━━━━━━━━━━━━━━━━━\u001b[0m\u001b[37m\u001b[0m \u001b[1m0s\u001b[0m 255ms/step\n",
            "\u001b[1m1/1\u001b[0m \u001b[32m━━━━━━━━━━━━━━━━━━━━\u001b[0m\u001b[37m\u001b[0m \u001b[1m0s\u001b[0m 244ms/step\n",
            "\u001b[1m1/1\u001b[0m \u001b[32m━━━━━━━━━━━━━━━━━━━━\u001b[0m\u001b[37m\u001b[0m \u001b[1m0s\u001b[0m 158ms/step\n",
            "\u001b[1m1/1\u001b[0m \u001b[32m━━━━━━━━━━━━━━━━━━━━\u001b[0m\u001b[37m\u001b[0m \u001b[1m0s\u001b[0m 205ms/step\n",
            "\u001b[1m1/1\u001b[0m \u001b[32m━━━━━━━━━━━━━━━━━━━━\u001b[0m\u001b[37m\u001b[0m \u001b[1m0s\u001b[0m 181ms/step\n",
            "\u001b[1m1/1\u001b[0m \u001b[32m━━━━━━━━━━━━━━━━━━━━\u001b[0m\u001b[37m\u001b[0m \u001b[1m0s\u001b[0m 45ms/step\n",
            "\u001b[1m1/1\u001b[0m \u001b[32m━━━━━━━━━━━━━━━━━━━━\u001b[0m\u001b[37m\u001b[0m \u001b[1m0s\u001b[0m 58ms/step\n",
            "\u001b[1m1/1\u001b[0m \u001b[32m━━━━━━━━━━━━━━━━━━━━\u001b[0m\u001b[37m\u001b[0m \u001b[1m0s\u001b[0m 59ms/step\n",
            "\u001b[1m1/1\u001b[0m \u001b[32m━━━━━━━━━━━━━━━━━━━━\u001b[0m\u001b[37m\u001b[0m \u001b[1m0s\u001b[0m 65ms/step\n",
            "\u001b[1m1/1\u001b[0m \u001b[32m━━━━━━━━━━━━━━━━━━━━\u001b[0m\u001b[37m\u001b[0m \u001b[1m0s\u001b[0m 85ms/step\n",
            "\u001b[1m1/1\u001b[0m \u001b[32m━━━━━━━━━━━━━━━━━━━━\u001b[0m\u001b[37m\u001b[0m \u001b[1m0s\u001b[0m 91ms/step\n",
            "\u001b[1m1/1\u001b[0m \u001b[32m━━━━━━━━━━━━━━━━━━━━\u001b[0m\u001b[37m\u001b[0m \u001b[1m0s\u001b[0m 96ms/step\n",
            "\u001b[1m1/1\u001b[0m \u001b[32m━━━━━━━━━━━━━━━━━━━━\u001b[0m\u001b[37m\u001b[0m \u001b[1m0s\u001b[0m 45ms/step\n",
            "\u001b[1m1/1\u001b[0m \u001b[32m━━━━━━━━━━━━━━━━━━━━\u001b[0m\u001b[37m\u001b[0m \u001b[1m0s\u001b[0m 55ms/step\n",
            "\u001b[1m1/1\u001b[0m \u001b[32m━━━━━━━━━━━━━━━━━━━━\u001b[0m\u001b[37m\u001b[0m \u001b[1m0s\u001b[0m 63ms/step\n",
            "\u001b[1m1/1\u001b[0m \u001b[32m━━━━━━━━━━━━━━━━━━━━\u001b[0m\u001b[37m\u001b[0m \u001b[1m0s\u001b[0m 62ms/step\n",
            "\u001b[1m1/1\u001b[0m \u001b[32m━━━━━━━━━━━━━━━━━━━━\u001b[0m\u001b[37m\u001b[0m \u001b[1m0s\u001b[0m 84ms/step\n",
            "\u001b[1m1/1\u001b[0m \u001b[32m━━━━━━━━━━━━━━━━━━━━\u001b[0m\u001b[37m\u001b[0m \u001b[1m0s\u001b[0m 94ms/step\n",
            "\u001b[1m1/1\u001b[0m \u001b[32m━━━━━━━━━━━━━━━━━━━━\u001b[0m\u001b[37m\u001b[0m \u001b[1m0s\u001b[0m 98ms/step\n",
            "\u001b[1m1/1\u001b[0m \u001b[32m━━━━━━━━━━━━━━━━━━━━\u001b[0m\u001b[37m\u001b[0m \u001b[1m0s\u001b[0m 45ms/step\n",
            "\u001b[1m1/1\u001b[0m \u001b[32m━━━━━━━━━━━━━━━━━━━━\u001b[0m\u001b[37m\u001b[0m \u001b[1m0s\u001b[0m 56ms/step\n",
            "\u001b[1m1/1\u001b[0m \u001b[32m━━━━━━━━━━━━━━━━━━━━\u001b[0m\u001b[37m\u001b[0m \u001b[1m0s\u001b[0m 64ms/step\n",
            "\u001b[1m1/1\u001b[0m \u001b[32m━━━━━━━━━━━━━━━━━━━━\u001b[0m\u001b[37m\u001b[0m \u001b[1m0s\u001b[0m 64ms/step\n",
            "\u001b[1m1/1\u001b[0m \u001b[32m━━━━━━━━━━━━━━━━━━━━\u001b[0m\u001b[37m\u001b[0m \u001b[1m0s\u001b[0m 85ms/step\n",
            "\u001b[1m1/1\u001b[0m \u001b[32m━━━━━━━━━━━━━━━━━━━━\u001b[0m\u001b[37m\u001b[0m \u001b[1m0s\u001b[0m 88ms/step\n",
            "\u001b[1m1/1\u001b[0m \u001b[32m━━━━━━━━━━━━━━━━━━━━\u001b[0m\u001b[37m\u001b[0m \u001b[1m0s\u001b[0m 97ms/step\n",
            "\u001b[1m1/1\u001b[0m \u001b[32m━━━━━━━━━━━━━━━━━━━━\u001b[0m\u001b[37m\u001b[0m \u001b[1m0s\u001b[0m 47ms/step\n",
            "\u001b[1m1/1\u001b[0m \u001b[32m━━━━━━━━━━━━━━━━━━━━\u001b[0m\u001b[37m\u001b[0m \u001b[1m0s\u001b[0m 57ms/step\n",
            "\u001b[1m1/1\u001b[0m \u001b[32m━━━━━━━━━━━━━━━━━━━━\u001b[0m\u001b[37m\u001b[0m \u001b[1m0s\u001b[0m 65ms/step\n",
            "\u001b[1m1/1\u001b[0m \u001b[32m━━━━━━━━━━━━━━━━━━━━\u001b[0m\u001b[37m\u001b[0m \u001b[1m0s\u001b[0m 63ms/step\n",
            "\u001b[1m1/1\u001b[0m \u001b[32m━━━━━━━━━━━━━━━━━━━━\u001b[0m\u001b[37m\u001b[0m \u001b[1m0s\u001b[0m 87ms/step\n",
            "\u001b[1m1/1\u001b[0m \u001b[32m━━━━━━━━━━━━━━━━━━━━\u001b[0m\u001b[37m\u001b[0m \u001b[1m0s\u001b[0m 94ms/step\n",
            "\u001b[1m1/1\u001b[0m \u001b[32m━━━━━━━━━━━━━━━━━━━━\u001b[0m\u001b[37m\u001b[0m \u001b[1m0s\u001b[0m 103ms/step\n",
            "\u001b[1m1/1\u001b[0m \u001b[32m━━━━━━━━━━━━━━━━━━━━\u001b[0m\u001b[37m\u001b[0m \u001b[1m0s\u001b[0m 46ms/step\n",
            "\u001b[1m1/1\u001b[0m \u001b[32m━━━━━━━━━━━━━━━━━━━━\u001b[0m\u001b[37m\u001b[0m \u001b[1m0s\u001b[0m 55ms/step\n",
            "\u001b[1m1/1\u001b[0m \u001b[32m━━━━━━━━━━━━━━━━━━━━\u001b[0m\u001b[37m\u001b[0m \u001b[1m0s\u001b[0m 62ms/step\n",
            "\u001b[1m1/1\u001b[0m \u001b[32m━━━━━━━━━━━━━━━━━━━━\u001b[0m\u001b[37m\u001b[0m \u001b[1m0s\u001b[0m 61ms/step\n",
            "\u001b[1m1/1\u001b[0m \u001b[32m━━━━━━━━━━━━━━━━━━━━\u001b[0m\u001b[37m\u001b[0m \u001b[1m0s\u001b[0m 86ms/step\n",
            "\u001b[1m1/1\u001b[0m \u001b[32m━━━━━━━━━━━━━━━━━━━━\u001b[0m\u001b[37m\u001b[0m \u001b[1m0s\u001b[0m 87ms/step\n",
            "\u001b[1m1/1\u001b[0m \u001b[32m━━━━━━━━━━━━━━━━━━━━\u001b[0m\u001b[37m\u001b[0m \u001b[1m0s\u001b[0m 95ms/step\n",
            "\u001b[1m1/1\u001b[0m \u001b[32m━━━━━━━━━━━━━━━━━━━━\u001b[0m\u001b[37m\u001b[0m \u001b[1m0s\u001b[0m 51ms/step\n",
            "\u001b[1m1/1\u001b[0m \u001b[32m━━━━━━━━━━━━━━━━━━━━\u001b[0m\u001b[37m\u001b[0m \u001b[1m0s\u001b[0m 58ms/step\n",
            "\u001b[1m1/1\u001b[0m \u001b[32m━━━━━━━━━━━━━━━━━━━━\u001b[0m\u001b[37m\u001b[0m \u001b[1m0s\u001b[0m 60ms/step\n",
            "\u001b[1m1/1\u001b[0m \u001b[32m━━━━━━━━━━━━━━━━━━━━\u001b[0m\u001b[37m\u001b[0m \u001b[1m0s\u001b[0m 60ms/step\n",
            "\u001b[1m1/1\u001b[0m \u001b[32m━━━━━━━━━━━━━━━━━━━━\u001b[0m\u001b[37m\u001b[0m \u001b[1m0s\u001b[0m 83ms/step\n",
            "\u001b[1m1/1\u001b[0m \u001b[32m━━━━━━━━━━━━━━━━━━━━\u001b[0m\u001b[37m\u001b[0m \u001b[1m0s\u001b[0m 95ms/step\n",
            "\u001b[1m1/1\u001b[0m \u001b[32m━━━━━━━━━━━━━━━━━━━━\u001b[0m\u001b[37m\u001b[0m \u001b[1m0s\u001b[0m 98ms/step\n",
            "\u001b[1m1/1\u001b[0m \u001b[32m━━━━━━━━━━━━━━━━━━━━\u001b[0m\u001b[37m\u001b[0m \u001b[1m0s\u001b[0m 53ms/step\n",
            "\u001b[1m1/1\u001b[0m \u001b[32m━━━━━━━━━━━━━━━━━━━━\u001b[0m\u001b[37m\u001b[0m \u001b[1m0s\u001b[0m 56ms/step\n",
            "\u001b[1m1/1\u001b[0m \u001b[32m━━━━━━━━━━━━━━━━━━━━\u001b[0m\u001b[37m\u001b[0m \u001b[1m0s\u001b[0m 61ms/step\n",
            "\u001b[1m1/1\u001b[0m \u001b[32m━━━━━━━━━━━━━━━━━━━━\u001b[0m\u001b[37m\u001b[0m \u001b[1m0s\u001b[0m 65ms/step\n",
            "\u001b[1m1/1\u001b[0m \u001b[32m━━━━━━━━━━━━━━━━━━━━\u001b[0m\u001b[37m\u001b[0m \u001b[1m0s\u001b[0m 85ms/step\n",
            "\u001b[1m1/1\u001b[0m \u001b[32m━━━━━━━━━━━━━━━━━━━━\u001b[0m\u001b[37m\u001b[0m \u001b[1m0s\u001b[0m 92ms/step\n",
            "\u001b[1m1/1\u001b[0m \u001b[32m━━━━━━━━━━━━━━━━━━━━\u001b[0m\u001b[37m\u001b[0m \u001b[1m0s\u001b[0m 96ms/step\n",
            "\u001b[1m1/1\u001b[0m \u001b[32m━━━━━━━━━━━━━━━━━━━━\u001b[0m\u001b[37m\u001b[0m \u001b[1m0s\u001b[0m 55ms/step\n",
            "\u001b[1m1/1\u001b[0m \u001b[32m━━━━━━━━━━━━━━━━━━━━\u001b[0m\u001b[37m\u001b[0m \u001b[1m0s\u001b[0m 54ms/step\n",
            "\u001b[1m1/1\u001b[0m \u001b[32m━━━━━━━━━━━━━━━━━━━━\u001b[0m\u001b[37m\u001b[0m \u001b[1m0s\u001b[0m 60ms/step\n",
            "\u001b[1m1/1\u001b[0m \u001b[32m━━━━━━━━━━━━━━━━━━━━\u001b[0m\u001b[37m\u001b[0m \u001b[1m0s\u001b[0m 62ms/step\n",
            "\u001b[1m1/1\u001b[0m \u001b[32m━━━━━━━━━━━━━━━━━━━━\u001b[0m\u001b[37m\u001b[0m \u001b[1m0s\u001b[0m 97ms/step\n",
            "\u001b[1m1/1\u001b[0m \u001b[32m━━━━━━━━━━━━━━━━━━━━\u001b[0m\u001b[37m\u001b[0m \u001b[1m0s\u001b[0m 92ms/step\n",
            "\u001b[1m1/1\u001b[0m \u001b[32m━━━━━━━━━━━━━━━━━━━━\u001b[0m\u001b[37m\u001b[0m \u001b[1m0s\u001b[0m 95ms/step\n",
            "\u001b[1m1/1\u001b[0m \u001b[32m━━━━━━━━━━━━━━━━━━━━\u001b[0m\u001b[37m\u001b[0m \u001b[1m0s\u001b[0m 42ms/step\n",
            "\u001b[1m1/1\u001b[0m \u001b[32m━━━━━━━━━━━━━━━━━━━━\u001b[0m\u001b[37m\u001b[0m \u001b[1m0s\u001b[0m 53ms/step\n",
            "\u001b[1m1/1\u001b[0m \u001b[32m━━━━━━━━━━━━━━━━━━━━\u001b[0m\u001b[37m\u001b[0m \u001b[1m0s\u001b[0m 59ms/step\n",
            "\u001b[1m1/1\u001b[0m \u001b[32m━━━━━━━━━━━━━━━━━━━━\u001b[0m\u001b[37m\u001b[0m \u001b[1m0s\u001b[0m 76ms/step\n",
            "\u001b[1m1/1\u001b[0m \u001b[32m━━━━━━━━━━━━━━━━━━━━\u001b[0m\u001b[37m\u001b[0m \u001b[1m0s\u001b[0m 84ms/step\n",
            "\u001b[1m1/1\u001b[0m \u001b[32m━━━━━━━━━━━━━━━━━━━━\u001b[0m\u001b[37m\u001b[0m \u001b[1m0s\u001b[0m 88ms/step\n",
            "\u001b[1m1/1\u001b[0m \u001b[32m━━━━━━━━━━━━━━━━━━━━\u001b[0m\u001b[37m\u001b[0m \u001b[1m0s\u001b[0m 107ms/step\n",
            "\u001b[1m1/1\u001b[0m \u001b[32m━━━━━━━━━━━━━━━━━━━━\u001b[0m\u001b[37m\u001b[0m \u001b[1m0s\u001b[0m 48ms/step\n",
            "\u001b[1m1/1\u001b[0m \u001b[32m━━━━━━━━━━━━━━━━━━━━\u001b[0m\u001b[37m\u001b[0m \u001b[1m0s\u001b[0m 55ms/step\n",
            "\u001b[1m1/1\u001b[0m \u001b[32m━━━━━━━━━━━━━━━━━━━━\u001b[0m\u001b[37m\u001b[0m \u001b[1m0s\u001b[0m 105ms/step\n",
            "\u001b[1m1/1\u001b[0m \u001b[32m━━━━━━━━━━━━━━━━━━━━\u001b[0m\u001b[37m\u001b[0m \u001b[1m0s\u001b[0m 91ms/step\n",
            "\u001b[1m1/1\u001b[0m \u001b[32m━━━━━━━━━━━━━━━━━━━━\u001b[0m\u001b[37m\u001b[0m \u001b[1m0s\u001b[0m 125ms/step\n",
            "\u001b[1m1/1\u001b[0m \u001b[32m━━━━━━━━━━━━━━━━━━━━\u001b[0m\u001b[37m\u001b[0m \u001b[1m0s\u001b[0m 141ms/step\n",
            "\u001b[1m1/1\u001b[0m \u001b[32m━━━━━━━━━━━━━━━━━━━━\u001b[0m\u001b[37m\u001b[0m \u001b[1m0s\u001b[0m 133ms/step\n",
            "\u001b[1m1/1\u001b[0m \u001b[32m━━━━━━━━━━━━━━━━━━━━\u001b[0m\u001b[37m\u001b[0m \u001b[1m0s\u001b[0m 67ms/step\n",
            "\u001b[1m1/1\u001b[0m \u001b[32m━━━━━━━━━━━━━━━━━━━━\u001b[0m\u001b[37m\u001b[0m \u001b[1m0s\u001b[0m 76ms/step\n",
            "\u001b[1m1/1\u001b[0m \u001b[32m━━━━━━━━━━━━━━━━━━━━\u001b[0m\u001b[37m\u001b[0m \u001b[1m0s\u001b[0m 95ms/step\n",
            "\u001b[1m1/1\u001b[0m \u001b[32m━━━━━━━━━━━━━━━━━━━━\u001b[0m\u001b[37m\u001b[0m \u001b[1m0s\u001b[0m 98ms/step\n",
            "\u001b[1m1/1\u001b[0m \u001b[32m━━━━━━━━━━━━━━━━━━━━\u001b[0m\u001b[37m\u001b[0m \u001b[1m0s\u001b[0m 120ms/step\n",
            "\u001b[1m1/1\u001b[0m \u001b[32m━━━━━━━━━━━━━━━━━━━━\u001b[0m\u001b[37m\u001b[0m \u001b[1m0s\u001b[0m 140ms/step\n",
            "\u001b[1m1/1\u001b[0m \u001b[32m━━━━━━━━━━━━━━━━━━━━\u001b[0m\u001b[37m\u001b[0m \u001b[1m0s\u001b[0m 136ms/step\n",
            "\u001b[1m1/1\u001b[0m \u001b[32m━━━━━━━━━━━━━━━━━━━━\u001b[0m\u001b[37m\u001b[0m \u001b[1m0s\u001b[0m 57ms/step\n",
            "\u001b[1m1/1\u001b[0m \u001b[32m━━━━━━━━━━━━━━━━━━━━\u001b[0m\u001b[37m\u001b[0m \u001b[1m0s\u001b[0m 96ms/step\n",
            "\u001b[1m1/1\u001b[0m \u001b[32m━━━━━━━━━━━━━━━━━━━━\u001b[0m\u001b[37m\u001b[0m \u001b[1m0s\u001b[0m 84ms/step\n",
            "\u001b[1m1/1\u001b[0m \u001b[32m━━━━━━━━━━━━━━━━━━━━\u001b[0m\u001b[37m\u001b[0m \u001b[1m0s\u001b[0m 91ms/step\n",
            "\u001b[1m1/1\u001b[0m \u001b[32m━━━━━━━━━━━━━━━━━━━━\u001b[0m\u001b[37m\u001b[0m \u001b[1m0s\u001b[0m 133ms/step\n",
            "\u001b[1m1/1\u001b[0m \u001b[32m━━━━━━━━━━━━━━━━━━━━\u001b[0m\u001b[37m\u001b[0m \u001b[1m0s\u001b[0m 87ms/step\n",
            "\u001b[1m1/1\u001b[0m \u001b[32m━━━━━━━━━━━━━━━━━━━━\u001b[0m\u001b[37m\u001b[0m \u001b[1m0s\u001b[0m 111ms/step\n",
            "\u001b[1m1/1\u001b[0m \u001b[32m━━━━━━━━━━━━━━━━━━━━\u001b[0m\u001b[37m\u001b[0m \u001b[1m0s\u001b[0m 43ms/step\n",
            "\u001b[1m1/1\u001b[0m \u001b[32m━━━━━━━━━━━━━━━━━━━━\u001b[0m\u001b[37m\u001b[0m \u001b[1m0s\u001b[0m 62ms/step\n",
            "\u001b[1m1/1\u001b[0m \u001b[32m━━━━━━━━━━━━━━━━━━━━\u001b[0m\u001b[37m\u001b[0m \u001b[1m0s\u001b[0m 63ms/step\n",
            "\u001b[1m1/1\u001b[0m \u001b[32m━━━━━━━━━━━━━━━━━━━━\u001b[0m\u001b[37m\u001b[0m \u001b[1m0s\u001b[0m 63ms/step\n",
            "\u001b[1m1/1\u001b[0m \u001b[32m━━━━━━━━━━━━━━━━━━━━\u001b[0m\u001b[37m\u001b[0m \u001b[1m0s\u001b[0m 84ms/step\n",
            "\u001b[1m1/1\u001b[0m \u001b[32m━━━━━━━━━━━━━━━━━━━━\u001b[0m\u001b[37m\u001b[0m \u001b[1m0s\u001b[0m 99ms/step\n",
            "\u001b[1m1/1\u001b[0m \u001b[32m━━━━━━━━━━━━━━━━━━━━\u001b[0m\u001b[37m\u001b[0m \u001b[1m0s\u001b[0m 95ms/step\n",
            "\u001b[1m1/1\u001b[0m \u001b[32m━━━━━━━━━━━━━━━━━━━━\u001b[0m\u001b[37m\u001b[0m \u001b[1m0s\u001b[0m 43ms/step\n",
            "\u001b[1m1/1\u001b[0m \u001b[32m━━━━━━━━━━━━━━━━━━━━\u001b[0m\u001b[37m\u001b[0m \u001b[1m0s\u001b[0m 55ms/step\n",
            "\u001b[1m1/1\u001b[0m \u001b[32m━━━━━━━━━━━━━━━━━━━━\u001b[0m\u001b[37m\u001b[0m \u001b[1m0s\u001b[0m 63ms/step\n",
            "\u001b[1m1/1\u001b[0m \u001b[32m━━━━━━━━━━━━━━━━━━━━\u001b[0m\u001b[37m\u001b[0m \u001b[1m0s\u001b[0m 62ms/step\n",
            "\u001b[1m1/1\u001b[0m \u001b[32m━━━━━━━━━━━━━━━━━━━━\u001b[0m\u001b[37m\u001b[0m \u001b[1m0s\u001b[0m 84ms/step\n",
            "\u001b[1m1/1\u001b[0m \u001b[32m━━━━━━━━━━━━━━━━━━━━\u001b[0m\u001b[37m\u001b[0m \u001b[1m0s\u001b[0m 91ms/step\n",
            "\u001b[1m1/1\u001b[0m \u001b[32m━━━━━━━━━━━━━━━━━━━━\u001b[0m\u001b[37m\u001b[0m \u001b[1m0s\u001b[0m 100ms/step\n",
            "\u001b[1m1/1\u001b[0m \u001b[32m━━━━━━━━━━━━━━━━━━━━\u001b[0m\u001b[37m\u001b[0m \u001b[1m0s\u001b[0m 45ms/step\n",
            "\u001b[1m1/1\u001b[0m \u001b[32m━━━━━━━━━━━━━━━━━━━━\u001b[0m\u001b[37m\u001b[0m \u001b[1m0s\u001b[0m 55ms/step\n",
            "\u001b[1m1/1\u001b[0m \u001b[32m━━━━━━━━━━━━━━━━━━━━\u001b[0m\u001b[37m\u001b[0m \u001b[1m0s\u001b[0m 61ms/step\n",
            "\u001b[1m1/1\u001b[0m \u001b[32m━━━━━━━━━━━━━━━━━━━━\u001b[0m\u001b[37m\u001b[0m \u001b[1m0s\u001b[0m 64ms/step\n",
            "\u001b[1m1/1\u001b[0m \u001b[32m━━━━━━━━━━━━━━━━━━━━\u001b[0m\u001b[37m\u001b[0m \u001b[1m0s\u001b[0m 83ms/step\n",
            "\u001b[1m1/1\u001b[0m \u001b[32m━━━━━━━━━━━━━━━━━━━━\u001b[0m\u001b[37m\u001b[0m \u001b[1m0s\u001b[0m 97ms/step\n",
            "\u001b[1m1/1\u001b[0m \u001b[32m━━━━━━━━━━━━━━━━━━━━\u001b[0m\u001b[37m\u001b[0m \u001b[1m0s\u001b[0m 100ms/step\n",
            "\u001b[1m1/1\u001b[0m \u001b[32m━━━━━━━━━━━━━━━━━━━━\u001b[0m\u001b[37m\u001b[0m \u001b[1m0s\u001b[0m 50ms/step\n",
            "\u001b[1m1/1\u001b[0m \u001b[32m━━━━━━━━━━━━━━━━━━━━\u001b[0m\u001b[37m\u001b[0m \u001b[1m0s\u001b[0m 54ms/step\n",
            "\u001b[1m1/1\u001b[0m \u001b[32m━━━━━━━━━━━━━━━━━━━━\u001b[0m\u001b[37m\u001b[0m \u001b[1m0s\u001b[0m 66ms/step\n",
            "\u001b[1m1/1\u001b[0m \u001b[32m━━━━━━━━━━━━━━━━━━━━\u001b[0m\u001b[37m\u001b[0m \u001b[1m0s\u001b[0m 61ms/step\n",
            "\u001b[1m1/1\u001b[0m \u001b[32m━━━━━━━━━━━━━━━━━━━━\u001b[0m\u001b[37m\u001b[0m \u001b[1m0s\u001b[0m 92ms/step\n",
            "\u001b[1m1/1\u001b[0m \u001b[32m━━━━━━━━━━━━━━━━━━━━\u001b[0m\u001b[37m\u001b[0m \u001b[1m0s\u001b[0m 98ms/step\n",
            "\u001b[1m1/1\u001b[0m \u001b[32m━━━━━━━━━━━━━━━━━━━━\u001b[0m\u001b[37m\u001b[0m \u001b[1m0s\u001b[0m 96ms/step\n",
            "\u001b[1m1/1\u001b[0m \u001b[32m━━━━━━━━━━━━━━━━━━━━\u001b[0m\u001b[37m\u001b[0m \u001b[1m0s\u001b[0m 57ms/step\n",
            "\u001b[1m1/1\u001b[0m \u001b[32m━━━━━━━━━━━━━━━━━━━━\u001b[0m\u001b[37m\u001b[0m \u001b[1m0s\u001b[0m 56ms/step\n",
            "\u001b[1m1/1\u001b[0m \u001b[32m━━━━━━━━━━━━━━━━━━━━\u001b[0m\u001b[37m\u001b[0m \u001b[1m0s\u001b[0m 61ms/step\n",
            "\u001b[1m1/1\u001b[0m \u001b[32m━━━━━━━━━━━━━━━━━━━━\u001b[0m\u001b[37m\u001b[0m \u001b[1m0s\u001b[0m 72ms/step\n",
            "\u001b[1m1/1\u001b[0m \u001b[32m━━━━━━━━━━━━━━━━━━━━\u001b[0m\u001b[37m\u001b[0m \u001b[1m0s\u001b[0m 84ms/step\n",
            "\u001b[1m1/1\u001b[0m \u001b[32m━━━━━━━━━━━━━━━━━━━━\u001b[0m\u001b[37m\u001b[0m \u001b[1m0s\u001b[0m 96ms/step\n",
            "\u001b[1m1/1\u001b[0m \u001b[32m━━━━━━━━━━━━━━━━━━━━\u001b[0m\u001b[37m\u001b[0m \u001b[1m0s\u001b[0m 97ms/step\n",
            "\u001b[1m1/1\u001b[0m \u001b[32m━━━━━━━━━━━━━━━━━━━━\u001b[0m\u001b[37m\u001b[0m \u001b[1m0s\u001b[0m 44ms/step\n",
            "\u001b[1m1/1\u001b[0m \u001b[32m━━━━━━━━━━━━━━━━━━━━\u001b[0m\u001b[37m\u001b[0m \u001b[1m0s\u001b[0m 68ms/step\n",
            "\u001b[1m1/1\u001b[0m \u001b[32m━━━━━━━━━━━━━━━━━━━━\u001b[0m\u001b[37m\u001b[0m \u001b[1m0s\u001b[0m 71ms/step\n",
            "\u001b[1m1/1\u001b[0m \u001b[32m━━━━━━━━━━━━━━━━━━━━\u001b[0m\u001b[37m\u001b[0m \u001b[1m0s\u001b[0m 63ms/step\n",
            "\u001b[1m1/1\u001b[0m \u001b[32m━━━━━━━━━━━━━━━━━━━━\u001b[0m\u001b[37m\u001b[0m \u001b[1m0s\u001b[0m 83ms/step\n",
            "\u001b[1m1/1\u001b[0m \u001b[32m━━━━━━━━━━━━━━━━━━━━\u001b[0m\u001b[37m\u001b[0m \u001b[1m0s\u001b[0m 91ms/step\n",
            "\u001b[1m1/1\u001b[0m \u001b[32m━━━━━━━━━━━━━━━━━━━━\u001b[0m\u001b[37m\u001b[0m \u001b[1m0s\u001b[0m 93ms/step\n",
            "\u001b[1m1/1\u001b[0m \u001b[32m━━━━━━━━━━━━━━━━━━━━\u001b[0m\u001b[37m\u001b[0m \u001b[1m0s\u001b[0m 45ms/step\n",
            "\u001b[1m1/1\u001b[0m \u001b[32m━━━━━━━━━━━━━━━━━━━━\u001b[0m\u001b[37m\u001b[0m \u001b[1m0s\u001b[0m 63ms/step\n",
            "\u001b[1m1/1\u001b[0m \u001b[32m━━━━━━━━━━━━━━━━━━━━\u001b[0m\u001b[37m\u001b[0m \u001b[1m0s\u001b[0m 65ms/step\n",
            "\u001b[1m1/1\u001b[0m \u001b[32m━━━━━━━━━━━━━━━━━━━━\u001b[0m\u001b[37m\u001b[0m \u001b[1m0s\u001b[0m 62ms/step\n",
            "\u001b[1m1/1\u001b[0m \u001b[32m━━━━━━━━━━━━━━━━━━━━\u001b[0m\u001b[37m\u001b[0m \u001b[1m0s\u001b[0m 83ms/step\n",
            "\u001b[1m1/1\u001b[0m \u001b[32m━━━━━━━━━━━━━━━━━━━━\u001b[0m\u001b[37m\u001b[0m \u001b[1m0s\u001b[0m 88ms/step\n",
            "\u001b[1m1/1\u001b[0m \u001b[32m━━━━━━━━━━━━━━━━━━━━\u001b[0m\u001b[37m\u001b[0m \u001b[1m0s\u001b[0m 100ms/step\n",
            "\u001b[1m1/1\u001b[0m \u001b[32m━━━━━━━━━━━━━━━━━━━━\u001b[0m\u001b[37m\u001b[0m \u001b[1m0s\u001b[0m 50ms/step\n",
            "\u001b[1m1/1\u001b[0m \u001b[32m━━━━━━━━━━━━━━━━━━━━\u001b[0m\u001b[37m\u001b[0m \u001b[1m0s\u001b[0m 57ms/step\n",
            "\u001b[1m1/1\u001b[0m \u001b[32m━━━━━━━━━━━━━━━━━━━━\u001b[0m\u001b[37m\u001b[0m \u001b[1m0s\u001b[0m 64ms/step\n",
            "\u001b[1m1/1\u001b[0m \u001b[32m━━━━━━━━━━━━━━━━━━━━\u001b[0m\u001b[37m\u001b[0m \u001b[1m0s\u001b[0m 63ms/step\n",
            "\u001b[1m1/1\u001b[0m \u001b[32m━━━━━━━━━━━━━━━━━━━━\u001b[0m\u001b[37m\u001b[0m \u001b[1m0s\u001b[0m 83ms/step\n",
            "\u001b[1m1/1\u001b[0m \u001b[32m━━━━━━━━━━━━━━━━━━━━\u001b[0m\u001b[37m\u001b[0m \u001b[1m0s\u001b[0m 91ms/step\n",
            "\u001b[1m1/1\u001b[0m \u001b[32m━━━━━━━━━━━━━━━━━━━━\u001b[0m\u001b[37m\u001b[0m \u001b[1m0s\u001b[0m 107ms/step\n",
            "\u001b[1m1/1\u001b[0m \u001b[32m━━━━━━━━━━━━━━━━━━━━\u001b[0m\u001b[37m\u001b[0m \u001b[1m0s\u001b[0m 44ms/step\n",
            "\u001b[1m1/1\u001b[0m \u001b[32m━━━━━━━━━━━━━━━━━━━━\u001b[0m\u001b[37m\u001b[0m \u001b[1m0s\u001b[0m 57ms/step\n",
            "\u001b[1m1/1\u001b[0m \u001b[32m━━━━━━━━━━━━━━━━━━━━\u001b[0m\u001b[37m\u001b[0m \u001b[1m0s\u001b[0m 68ms/step\n",
            "\u001b[1m1/1\u001b[0m \u001b[32m━━━━━━━━━━━━━━━━━━━━\u001b[0m\u001b[37m\u001b[0m \u001b[1m0s\u001b[0m 64ms/step\n",
            "\u001b[1m1/1\u001b[0m \u001b[32m━━━━━━━━━━━━━━━━━━━━\u001b[0m\u001b[37m\u001b[0m \u001b[1m0s\u001b[0m 79ms/step\n",
            "\u001b[1m1/1\u001b[0m \u001b[32m━━━━━━━━━━━━━━━━━━━━\u001b[0m\u001b[37m\u001b[0m \u001b[1m0s\u001b[0m 88ms/step\n",
            "\u001b[1m1/1\u001b[0m \u001b[32m━━━━━━━━━━━━━━━━━━━━\u001b[0m\u001b[37m\u001b[0m \u001b[1m0s\u001b[0m 99ms/step\n",
            "\u001b[1m1/1\u001b[0m \u001b[32m━━━━━━━━━━━━━━━━━━━━\u001b[0m\u001b[37m\u001b[0m \u001b[1m0s\u001b[0m 44ms/step\n",
            "\u001b[1m1/1\u001b[0m \u001b[32m━━━━━━━━━━━━━━━━━━━━\u001b[0m\u001b[37m\u001b[0m \u001b[1m0s\u001b[0m 57ms/step\n",
            "\u001b[1m1/1\u001b[0m \u001b[32m━━━━━━━━━━━━━━━━━━━━\u001b[0m\u001b[37m\u001b[0m \u001b[1m0s\u001b[0m 72ms/step\n",
            "\u001b[1m1/1\u001b[0m \u001b[32m━━━━━━━━━━━━━━━━━━━━\u001b[0m\u001b[37m\u001b[0m \u001b[1m0s\u001b[0m 60ms/step\n",
            "\u001b[1m1/1\u001b[0m \u001b[32m━━━━━━━━━━━━━━━━━━━━\u001b[0m\u001b[37m\u001b[0m \u001b[1m0s\u001b[0m 84ms/step\n",
            "\u001b[1m1/1\u001b[0m \u001b[32m━━━━━━━━━━━━━━━━━━━━\u001b[0m\u001b[37m\u001b[0m \u001b[1m0s\u001b[0m 142ms/step\n",
            "\u001b[1m1/1\u001b[0m \u001b[32m━━━━━━━━━━━━━━━━━━━━\u001b[0m\u001b[37m\u001b[0m \u001b[1m0s\u001b[0m 159ms/step\n",
            "\u001b[1m1/1\u001b[0m \u001b[32m━━━━━━━━━━━━━━━━━━━━\u001b[0m\u001b[37m\u001b[0m \u001b[1m0s\u001b[0m 61ms/step\n",
            "\u001b[1m1/1\u001b[0m \u001b[32m━━━━━━━━━━━━━━━━━━━━\u001b[0m\u001b[37m\u001b[0m \u001b[1m0s\u001b[0m 88ms/step\n",
            "\u001b[1m1/1\u001b[0m \u001b[32m━━━━━━━━━━━━━━━━━━━━\u001b[0m\u001b[37m\u001b[0m \u001b[1m0s\u001b[0m 79ms/step\n",
            "\u001b[1m1/1\u001b[0m \u001b[32m━━━━━━━━━━━━━━━━━━━━\u001b[0m\u001b[37m\u001b[0m \u001b[1m0s\u001b[0m 82ms/step\n",
            "\u001b[1m1/1\u001b[0m \u001b[32m━━━━━━━━━━━━━━━━━━━━\u001b[0m\u001b[37m\u001b[0m \u001b[1m0s\u001b[0m 142ms/step\n",
            "\u001b[1m1/1\u001b[0m \u001b[32m━━━━━━━━━━━━━━━━━━━━\u001b[0m\u001b[37m\u001b[0m \u001b[1m0s\u001b[0m 132ms/step\n",
            "\u001b[1m1/1\u001b[0m \u001b[32m━━━━━━━━━━━━━━━━━━━━\u001b[0m\u001b[37m\u001b[0m \u001b[1m0s\u001b[0m 154ms/step\n",
            "Output telah disimpan di layer_outputs.txt\n"
          ]
        },
        {
          "output_type": "display_data",
          "data": {
            "text/plain": [
              "<IPython.core.display.Javascript object>"
            ],
            "application/javascript": [
              "\n",
              "    async function download(id, filename, size) {\n",
              "      if (!google.colab.kernel.accessAllowed) {\n",
              "        return;\n",
              "      }\n",
              "      const div = document.createElement('div');\n",
              "      const label = document.createElement('label');\n",
              "      label.textContent = `Downloading \"${filename}\": `;\n",
              "      div.appendChild(label);\n",
              "      const progress = document.createElement('progress');\n",
              "      progress.max = size;\n",
              "      div.appendChild(progress);\n",
              "      document.body.appendChild(div);\n",
              "\n",
              "      const buffers = [];\n",
              "      let downloaded = 0;\n",
              "\n",
              "      const channel = await google.colab.kernel.comms.open(id);\n",
              "      // Send a message to notify the kernel that we're ready.\n",
              "      channel.send({})\n",
              "\n",
              "      for await (const message of channel.messages) {\n",
              "        // Send a message to notify the kernel that we're ready.\n",
              "        channel.send({})\n",
              "        if (message.buffers) {\n",
              "          for (const buffer of message.buffers) {\n",
              "            buffers.push(buffer);\n",
              "            downloaded += buffer.byteLength;\n",
              "            progress.value = downloaded;\n",
              "          }\n",
              "        }\n",
              "      }\n",
              "      const blob = new Blob(buffers, {type: 'application/binary'});\n",
              "      const a = document.createElement('a');\n",
              "      a.href = window.URL.createObjectURL(blob);\n",
              "      a.download = filename;\n",
              "      div.appendChild(a);\n",
              "      a.click();\n",
              "      div.remove();\n",
              "    }\n",
              "  "
            ]
          },
          "metadata": {}
        },
        {
          "output_type": "display_data",
          "data": {
            "text/plain": [
              "<IPython.core.display.Javascript object>"
            ],
            "application/javascript": [
              "download(\"download_17962cd1-af51-4c2e-9e05-bc94776beed4\", \"layer_outputs.txt\", 49013)"
            ]
          },
          "metadata": {}
        }
      ],
      "source": [
        "from tensorflow.keras.models import Model\n",
        "import numpy as np\n",
        "from google.colab import files\n",
        "\n",
        "# Path file output\n",
        "output_file = \"layer_outputs.txt\"\n",
        "\n",
        "# Buka file untuk menulis output\n",
        "with open(output_file, \"w\") as f:\n",
        "    for sample_index in range(0, 51):\n",
        "        # Get the single input and true label\n",
        "        single_input = X_test[sample_index]\n",
        "        true_label = Y_test[sample_index]\n",
        "        f.write(f\"Sample {sample_index} - Label: {true_label}\\n\")\n",
        "        f.write(f\"Input: {single_input}\\n\\n\")\n",
        "\n",
        "        # Misalkan 'classifier' adalah model Anda\n",
        "        layer_outputs = [layer.output for layer in classifier.layers]  # Dapatkan output dari setiap layer\n",
        "        layer_names = [layer.name for layer in classifier.layers]      # Dapatkan nama dari setiap layer\n",
        "\n",
        "        # Buat model untuk mendapatkan output dari setiap layer\n",
        "        for layer_name, layer_output in zip(layer_names, layer_outputs):\n",
        "            intermediate_layer_model = Model(inputs=classifier.input, outputs=layer_output)\n",
        "            intermediate_output = intermediate_layer_model.predict(np.array([single_input]))\n",
        "            f.write(f\"Output dari layer {layer_name}: {intermediate_output}\\n\\n\")\n",
        "\n",
        "print(f\"Output telah disimpan di {output_file}\")\n",
        "\n",
        "files.download(\"layer_outputs.txt\")\n"
      ]
    },
    {
      "cell_type": "code",
      "execution_count": null,
      "metadata": {
        "id": "ULRl32yDhnj7",
        "colab": {
          "base_uri": "https://localhost:8080/"
        },
        "outputId": "4496f701-cfb0-4be3-8f2b-d8768904264b"
      },
      "outputs": [
        {
          "output_type": "stream",
          "name": "stdout",
          "text": [
            "\u001b[1m1/1\u001b[0m \u001b[32m━━━━━━━━━━━━━━━━━━━━\u001b[0m\u001b[37m\u001b[0m \u001b[1m0s\u001b[0m 61ms/step\n",
            "\u001b[1m1/1\u001b[0m \u001b[32m━━━━━━━━━━━━━━━━━━━━\u001b[0m\u001b[37m\u001b[0m \u001b[1m0s\u001b[0m 79ms/step\n",
            "\u001b[1m1/1\u001b[0m \u001b[32m━━━━━━━━━━━━━━━━━━━━\u001b[0m\u001b[37m\u001b[0m \u001b[1m0s\u001b[0m 84ms/step\n",
            "\u001b[1m1/1\u001b[0m \u001b[32m━━━━━━━━━━━━━━━━━━━━\u001b[0m\u001b[37m\u001b[0m \u001b[1m0s\u001b[0m 100ms/step\n",
            "\u001b[1m1/1\u001b[0m \u001b[32m━━━━━━━━━━━━━━━━━━━━\u001b[0m\u001b[37m\u001b[0m \u001b[1m0s\u001b[0m 127ms/step\n",
            "\u001b[1m1/1\u001b[0m \u001b[32m━━━━━━━━━━━━━━━━━━━━\u001b[0m\u001b[37m\u001b[0m \u001b[1m0s\u001b[0m 136ms/step\n",
            "\u001b[1m1/1\u001b[0m \u001b[32m━━━━━━━━━━━━━━━━━━━━\u001b[0m\u001b[37m\u001b[0m \u001b[1m0s\u001b[0m 156ms/step\n",
            "\u001b[1m1/1\u001b[0m \u001b[32m━━━━━━━━━━━━━━━━━━━━\u001b[0m\u001b[37m\u001b[0m \u001b[1m0s\u001b[0m 65ms/step\n",
            "\u001b[1m1/1\u001b[0m \u001b[32m━━━━━━━━━━━━━━━━━━━━\u001b[0m\u001b[37m\u001b[0m \u001b[1m0s\u001b[0m 64ms/step\n",
            "\u001b[1m1/1\u001b[0m \u001b[32m━━━━━━━━━━━━━━━━━━━━\u001b[0m\u001b[37m\u001b[0m \u001b[1m0s\u001b[0m 61ms/step\n",
            "\u001b[1m1/1\u001b[0m \u001b[32m━━━━━━━━━━━━━━━━━━━━\u001b[0m\u001b[37m\u001b[0m \u001b[1m0s\u001b[0m 62ms/step\n",
            "\u001b[1m1/1\u001b[0m \u001b[32m━━━━━━━━━━━━━━━━━━━━\u001b[0m\u001b[37m\u001b[0m \u001b[1m0s\u001b[0m 82ms/step\n",
            "\u001b[1m1/1\u001b[0m \u001b[32m━━━━━━━━━━━━━━━━━━━━\u001b[0m\u001b[37m\u001b[0m \u001b[1m0s\u001b[0m 87ms/step\n",
            "\u001b[1m1/1\u001b[0m \u001b[32m━━━━━━━━━━━━━━━━━━━━\u001b[0m\u001b[37m\u001b[0m \u001b[1m0s\u001b[0m 101ms/step\n",
            "\u001b[1m1/1\u001b[0m \u001b[32m━━━━━━━━━━━━━━━━━━━━\u001b[0m\u001b[37m\u001b[0m \u001b[1m0s\u001b[0m 42ms/step\n",
            "\u001b[1m1/1\u001b[0m \u001b[32m━━━━━━━━━━━━━━━━━━━━\u001b[0m\u001b[37m\u001b[0m \u001b[1m0s\u001b[0m 66ms/step\n",
            "\u001b[1m1/1\u001b[0m \u001b[32m━━━━━━━━━━━━━━━━━━━━\u001b[0m\u001b[37m\u001b[0m \u001b[1m0s\u001b[0m 73ms/step\n",
            "\u001b[1m1/1\u001b[0m \u001b[32m━━━━━━━━━━━━━━━━━━━━\u001b[0m\u001b[37m\u001b[0m \u001b[1m0s\u001b[0m 63ms/step\n",
            "\u001b[1m1/1\u001b[0m \u001b[32m━━━━━━━━━━━━━━━━━━━━\u001b[0m\u001b[37m\u001b[0m \u001b[1m0s\u001b[0m 97ms/step\n",
            "\u001b[1m1/1\u001b[0m \u001b[32m━━━━━━━━━━━━━━━━━━━━\u001b[0m\u001b[37m\u001b[0m \u001b[1m0s\u001b[0m 92ms/step\n",
            "\u001b[1m1/1\u001b[0m \u001b[32m━━━━━━━━━━━━━━━━━━━━\u001b[0m\u001b[37m\u001b[0m \u001b[1m0s\u001b[0m 94ms/step\n",
            "\u001b[1m1/1\u001b[0m \u001b[32m━━━━━━━━━━━━━━━━━━━━\u001b[0m\u001b[37m\u001b[0m \u001b[1m0s\u001b[0m 44ms/step\n",
            "\u001b[1m1/1\u001b[0m \u001b[32m━━━━━━━━━━━━━━━━━━━━\u001b[0m\u001b[37m\u001b[0m \u001b[1m0s\u001b[0m 53ms/step\n",
            "\u001b[1m1/1\u001b[0m \u001b[32m━━━━━━━━━━━━━━━━━━━━\u001b[0m\u001b[37m\u001b[0m \u001b[1m0s\u001b[0m 67ms/step\n",
            "\u001b[1m1/1\u001b[0m \u001b[32m━━━━━━━━━━━━━━━━━━━━\u001b[0m\u001b[37m\u001b[0m \u001b[1m0s\u001b[0m 64ms/step\n",
            "\u001b[1m1/1\u001b[0m \u001b[32m━━━━━━━━━━━━━━━━━━━━\u001b[0m\u001b[37m\u001b[0m \u001b[1m0s\u001b[0m 84ms/step\n",
            "\u001b[1m1/1\u001b[0m \u001b[32m━━━━━━━━━━━━━━━━━━━━\u001b[0m\u001b[37m\u001b[0m \u001b[1m0s\u001b[0m 89ms/step\n",
            "\u001b[1m1/1\u001b[0m \u001b[32m━━━━━━━━━━━━━━━━━━━━\u001b[0m\u001b[37m\u001b[0m \u001b[1m0s\u001b[0m 104ms/step\n",
            "\u001b[1m1/1\u001b[0m \u001b[32m━━━━━━━━━━━━━━━━━━━━\u001b[0m\u001b[37m\u001b[0m \u001b[1m0s\u001b[0m 42ms/step\n",
            "\u001b[1m1/1\u001b[0m \u001b[32m━━━━━━━━━━━━━━━━━━━━\u001b[0m\u001b[37m\u001b[0m \u001b[1m0s\u001b[0m 60ms/step\n",
            "\u001b[1m1/1\u001b[0m \u001b[32m━━━━━━━━━━━━━━━━━━━━\u001b[0m\u001b[37m\u001b[0m \u001b[1m0s\u001b[0m 61ms/step\n",
            "\u001b[1m1/1\u001b[0m \u001b[32m━━━━━━━━━━━━━━━━━━━━\u001b[0m\u001b[37m\u001b[0m \u001b[1m0s\u001b[0m 63ms/step\n",
            "\u001b[1m1/1\u001b[0m \u001b[32m━━━━━━━━━━━━━━━━━━━━\u001b[0m\u001b[37m\u001b[0m \u001b[1m0s\u001b[0m 85ms/step\n",
            "\u001b[1m1/1\u001b[0m \u001b[32m━━━━━━━━━━━━━━━━━━━━\u001b[0m\u001b[37m\u001b[0m \u001b[1m0s\u001b[0m 88ms/step\n",
            "\u001b[1m1/1\u001b[0m \u001b[32m━━━━━━━━━━━━━━━━━━━━\u001b[0m\u001b[37m\u001b[0m \u001b[1m0s\u001b[0m 97ms/step\n",
            "\u001b[1m1/1\u001b[0m \u001b[32m━━━━━━━━━━━━━━━━━━━━\u001b[0m\u001b[37m\u001b[0m \u001b[1m0s\u001b[0m 43ms/step\n",
            "\u001b[1m1/1\u001b[0m \u001b[32m━━━━━━━━━━━━━━━━━━━━\u001b[0m\u001b[37m\u001b[0m \u001b[1m0s\u001b[0m 56ms/step\n",
            "\u001b[1m1/1\u001b[0m \u001b[32m━━━━━━━━━━━━━━━━━━━━\u001b[0m\u001b[37m\u001b[0m \u001b[1m0s\u001b[0m 60ms/step\n",
            "\u001b[1m1/1\u001b[0m \u001b[32m━━━━━━━━━━━━━━━━━━━━\u001b[0m\u001b[37m\u001b[0m \u001b[1m0s\u001b[0m 80ms/step\n",
            "\u001b[1m1/1\u001b[0m \u001b[32m━━━━━━━━━━━━━━━━━━━━\u001b[0m\u001b[37m\u001b[0m \u001b[1m0s\u001b[0m 152ms/step\n",
            "\u001b[1m1/1\u001b[0m \u001b[32m━━━━━━━━━━━━━━━━━━━━\u001b[0m\u001b[37m\u001b[0m \u001b[1m0s\u001b[0m 150ms/step\n",
            "\u001b[1m1/1\u001b[0m \u001b[32m━━━━━━━━━━━━━━━━━━━━\u001b[0m\u001b[37m\u001b[0m \u001b[1m0s\u001b[0m 177ms/step\n",
            "\u001b[1m1/1\u001b[0m \u001b[32m━━━━━━━━━━━━━━━━━━━━\u001b[0m\u001b[37m\u001b[0m \u001b[1m0s\u001b[0m 65ms/step\n",
            "\u001b[1m1/1\u001b[0m \u001b[32m━━━━━━━━━━━━━━━━━━━━\u001b[0m\u001b[37m\u001b[0m \u001b[1m0s\u001b[0m 99ms/step\n",
            "\u001b[1m1/1\u001b[0m \u001b[32m━━━━━━━━━━━━━━━━━━━━\u001b[0m\u001b[37m\u001b[0m \u001b[1m0s\u001b[0m 97ms/step\n",
            "\u001b[1m1/1\u001b[0m \u001b[32m━━━━━━━━━━━━━━━━━━━━\u001b[0m\u001b[37m\u001b[0m \u001b[1m0s\u001b[0m 93ms/step\n",
            "\u001b[1m1/1\u001b[0m \u001b[32m━━━━━━━━━━━━━━━━━━━━\u001b[0m\u001b[37m\u001b[0m \u001b[1m0s\u001b[0m 121ms/step\n",
            "\u001b[1m1/1\u001b[0m \u001b[32m━━━━━━━━━━━━━━━━━━━━\u001b[0m\u001b[37m\u001b[0m \u001b[1m0s\u001b[0m 139ms/step\n",
            "\u001b[1m1/1\u001b[0m \u001b[32m━━━━━━━━━━━━━━━━━━━━\u001b[0m\u001b[37m\u001b[0m \u001b[1m0s\u001b[0m 163ms/step\n",
            "\u001b[1m1/1\u001b[0m \u001b[32m━━━━━━━━━━━━━━━━━━━━\u001b[0m\u001b[37m\u001b[0m \u001b[1m0s\u001b[0m 42ms/step\n",
            "\u001b[1m1/1\u001b[0m \u001b[32m━━━━━━━━━━━━━━━━━━━━\u001b[0m\u001b[37m\u001b[0m \u001b[1m0s\u001b[0m 57ms/step\n",
            "\u001b[1m1/1\u001b[0m \u001b[32m━━━━━━━━━━━━━━━━━━━━\u001b[0m\u001b[37m\u001b[0m \u001b[1m0s\u001b[0m 60ms/step\n",
            "\u001b[1m1/1\u001b[0m \u001b[32m━━━━━━━━━━━━━━━━━━━━\u001b[0m\u001b[37m\u001b[0m \u001b[1m0s\u001b[0m 61ms/step\n",
            "\u001b[1m1/1\u001b[0m \u001b[32m━━━━━━━━━━━━━━━━━━━━\u001b[0m\u001b[37m\u001b[0m \u001b[1m0s\u001b[0m 81ms/step\n",
            "\u001b[1m1/1\u001b[0m \u001b[32m━━━━━━━━━━━━━━━━━━━━\u001b[0m\u001b[37m\u001b[0m \u001b[1m0s\u001b[0m 105ms/step\n",
            "\u001b[1m1/1\u001b[0m \u001b[32m━━━━━━━━━━━━━━━━━━━━\u001b[0m\u001b[37m\u001b[0m \u001b[1m0s\u001b[0m 94ms/step\n",
            "\u001b[1m1/1\u001b[0m \u001b[32m━━━━━━━━━━━━━━━━━━━━\u001b[0m\u001b[37m\u001b[0m \u001b[1m0s\u001b[0m 41ms/step\n",
            "\u001b[1m1/1\u001b[0m \u001b[32m━━━━━━━━━━━━━━━━━━━━\u001b[0m\u001b[37m\u001b[0m \u001b[1m0s\u001b[0m 53ms/step\n",
            "\u001b[1m1/1\u001b[0m \u001b[32m━━━━━━━━━━━━━━━━━━━━\u001b[0m\u001b[37m\u001b[0m \u001b[1m0s\u001b[0m 58ms/step\n",
            "\u001b[1m1/1\u001b[0m \u001b[32m━━━━━━━━━━━━━━━━━━━━\u001b[0m\u001b[37m\u001b[0m \u001b[1m0s\u001b[0m 67ms/step\n",
            "\u001b[1m1/1\u001b[0m \u001b[32m━━━━━━━━━━━━━━━━━━━━\u001b[0m\u001b[37m\u001b[0m \u001b[1m0s\u001b[0m 78ms/step\n",
            "\u001b[1m1/1\u001b[0m \u001b[32m━━━━━━━━━━━━━━━━━━━━\u001b[0m\u001b[37m\u001b[0m \u001b[1m0s\u001b[0m 87ms/step\n",
            "\u001b[1m1/1\u001b[0m \u001b[32m━━━━━━━━━━━━━━━━━━━━\u001b[0m\u001b[37m\u001b[0m \u001b[1m0s\u001b[0m 94ms/step\n",
            "\u001b[1m1/1\u001b[0m \u001b[32m━━━━━━━━━━━━━━━━━━━━\u001b[0m\u001b[37m\u001b[0m \u001b[1m0s\u001b[0m 42ms/step\n",
            "\u001b[1m1/1\u001b[0m \u001b[32m━━━━━━━━━━━━━━━━━━━━\u001b[0m\u001b[37m\u001b[0m \u001b[1m0s\u001b[0m 57ms/step\n",
            "\u001b[1m1/1\u001b[0m \u001b[32m━━━━━━━━━━━━━━━━━━━━\u001b[0m\u001b[37m\u001b[0m \u001b[1m0s\u001b[0m 59ms/step\n",
            "\u001b[1m1/1\u001b[0m \u001b[32m━━━━━━━━━━━━━━━━━━━━\u001b[0m\u001b[37m\u001b[0m \u001b[1m0s\u001b[0m 65ms/step\n",
            "\u001b[1m1/1\u001b[0m \u001b[32m━━━━━━━━━━━━━━━━━━━━\u001b[0m\u001b[37m\u001b[0m \u001b[1m0s\u001b[0m 90ms/step\n",
            "\u001b[1m1/1\u001b[0m \u001b[32m━━━━━━━━━━━━━━━━━━━━\u001b[0m\u001b[37m\u001b[0m \u001b[1m0s\u001b[0m 92ms/step\n",
            "\u001b[1m1/1\u001b[0m \u001b[32m━━━━━━━━━━━━━━━━━━━━\u001b[0m\u001b[37m\u001b[0m \u001b[1m0s\u001b[0m 105ms/step\n",
            "\u001b[1m1/1\u001b[0m \u001b[32m━━━━━━━━━━━━━━━━━━━━\u001b[0m\u001b[37m\u001b[0m \u001b[1m0s\u001b[0m 45ms/step\n",
            "\u001b[1m1/1\u001b[0m \u001b[32m━━━━━━━━━━━━━━━━━━━━\u001b[0m\u001b[37m\u001b[0m \u001b[1m0s\u001b[0m 51ms/step\n",
            "\u001b[1m1/1\u001b[0m \u001b[32m━━━━━━━━━━━━━━━━━━━━\u001b[0m\u001b[37m\u001b[0m \u001b[1m0s\u001b[0m 90ms/step\n",
            "\u001b[1m1/1\u001b[0m \u001b[32m━━━━━━━━━━━━━━━━━━━━\u001b[0m\u001b[37m\u001b[0m \u001b[1m0s\u001b[0m 106ms/step\n",
            "\u001b[1m1/1\u001b[0m \u001b[32m━━━━━━━━━━━━━━━━━━━━\u001b[0m\u001b[37m\u001b[0m \u001b[1m0s\u001b[0m 122ms/step\n",
            "\u001b[1m1/1\u001b[0m \u001b[32m━━━━━━━━━━━━━━━━━━━━\u001b[0m\u001b[37m\u001b[0m \u001b[1m0s\u001b[0m 155ms/step\n",
            "\u001b[1m1/1\u001b[0m \u001b[32m━━━━━━━━━━━━━━━━━━━━\u001b[0m\u001b[37m\u001b[0m \u001b[1m0s\u001b[0m 144ms/step\n",
            "\u001b[1m1/1\u001b[0m \u001b[32m━━━━━━━━━━━━━━━━━━━━\u001b[0m\u001b[37m\u001b[0m \u001b[1m0s\u001b[0m 59ms/step\n",
            "\u001b[1m1/1\u001b[0m \u001b[32m━━━━━━━━━━━━━━━━━━━━\u001b[0m\u001b[37m\u001b[0m \u001b[1m0s\u001b[0m 244ms/step\n",
            "\u001b[1m1/1\u001b[0m \u001b[32m━━━━━━━━━━━━━━━━━━━━\u001b[0m\u001b[37m\u001b[0m \u001b[1m0s\u001b[0m 307ms/step\n",
            "\u001b[1m1/1\u001b[0m \u001b[32m━━━━━━━━━━━━━━━━━━━━\u001b[0m\u001b[37m\u001b[0m \u001b[1m0s\u001b[0m 89ms/step\n",
            "\u001b[1m1/1\u001b[0m \u001b[32m━━━━━━━━━━━━━━━━━━━━\u001b[0m\u001b[37m\u001b[0m \u001b[1m0s\u001b[0m 114ms/step\n",
            "\u001b[1m1/1\u001b[0m \u001b[32m━━━━━━━━━━━━━━━━━━━━\u001b[0m\u001b[37m\u001b[0m \u001b[1m0s\u001b[0m 142ms/step\n",
            "\u001b[1m1/1\u001b[0m \u001b[32m━━━━━━━━━━━━━━━━━━━━\u001b[0m\u001b[37m\u001b[0m \u001b[1m0s\u001b[0m 158ms/step\n",
            "\u001b[1m1/1\u001b[0m \u001b[32m━━━━━━━━━━━━━━━━━━━━\u001b[0m\u001b[37m\u001b[0m \u001b[1m0s\u001b[0m 63ms/step\n",
            "\u001b[1m1/1\u001b[0m \u001b[32m━━━━━━━━━━━━━━━━━━━━\u001b[0m\u001b[37m\u001b[0m \u001b[1m0s\u001b[0m 78ms/step\n",
            "\u001b[1m1/1\u001b[0m \u001b[32m━━━━━━━━━━━━━━━━━━━━\u001b[0m\u001b[37m\u001b[0m \u001b[1m0s\u001b[0m 105ms/step\n",
            "\u001b[1m1/1\u001b[0m \u001b[32m━━━━━━━━━━━━━━━━━━━━\u001b[0m\u001b[37m\u001b[0m \u001b[1m0s\u001b[0m 61ms/step\n",
            "\u001b[1m1/1\u001b[0m \u001b[32m━━━━━━━━━━━━━━━━━━━━\u001b[0m\u001b[37m\u001b[0m \u001b[1m0s\u001b[0m 96ms/step\n",
            "\u001b[1m1/1\u001b[0m \u001b[32m━━━━━━━━━━━━━━━━━━━━\u001b[0m\u001b[37m\u001b[0m \u001b[1m0s\u001b[0m 89ms/step\n",
            "\u001b[1m1/1\u001b[0m \u001b[32m━━━━━━━━━━━━━━━━━━━━\u001b[0m\u001b[37m\u001b[0m \u001b[1m0s\u001b[0m 98ms/step\n",
            "\u001b[1m1/1\u001b[0m \u001b[32m━━━━━━━━━━━━━━━━━━━━\u001b[0m\u001b[37m\u001b[0m \u001b[1m0s\u001b[0m 43ms/step\n",
            "\u001b[1m1/1\u001b[0m \u001b[32m━━━━━━━━━━━━━━━━━━━━\u001b[0m\u001b[37m\u001b[0m \u001b[1m0s\u001b[0m 54ms/step\n",
            "\u001b[1m1/1\u001b[0m \u001b[32m━━━━━━━━━━━━━━━━━━━━\u001b[0m\u001b[37m\u001b[0m \u001b[1m0s\u001b[0m 63ms/step\n",
            "\u001b[1m1/1\u001b[0m \u001b[32m━━━━━━━━━━━━━━━━━━━━\u001b[0m\u001b[37m\u001b[0m \u001b[1m0s\u001b[0m 61ms/step\n",
            "\u001b[1m1/1\u001b[0m \u001b[32m━━━━━━━━━━━━━━━━━━━━\u001b[0m\u001b[37m\u001b[0m \u001b[1m0s\u001b[0m 85ms/step\n",
            "\u001b[1m1/1\u001b[0m \u001b[32m━━━━━━━━━━━━━━━━━━━━\u001b[0m\u001b[37m\u001b[0m \u001b[1m0s\u001b[0m 87ms/step\n",
            "\u001b[1m1/1\u001b[0m \u001b[32m━━━━━━━━━━━━━━━━━━━━\u001b[0m\u001b[37m\u001b[0m \u001b[1m0s\u001b[0m 100ms/step\n",
            "\u001b[1m1/1\u001b[0m \u001b[32m━━━━━━━━━━━━━━━━━━━━\u001b[0m\u001b[37m\u001b[0m \u001b[1m0s\u001b[0m 40ms/step\n",
            "\u001b[1m1/1\u001b[0m \u001b[32m━━━━━━━━━━━━━━━━━━━━\u001b[0m\u001b[37m\u001b[0m \u001b[1m0s\u001b[0m 59ms/step\n",
            "\u001b[1m1/1\u001b[0m \u001b[32m━━━━━━━━━━━━━━━━━━━━\u001b[0m\u001b[37m\u001b[0m \u001b[1m0s\u001b[0m 61ms/step\n",
            "\u001b[1m1/1\u001b[0m \u001b[32m━━━━━━━━━━━━━━━━━━━━\u001b[0m\u001b[37m\u001b[0m \u001b[1m0s\u001b[0m 61ms/step\n",
            "\u001b[1m1/1\u001b[0m \u001b[32m━━━━━━━━━━━━━━━━━━━━\u001b[0m\u001b[37m\u001b[0m \u001b[1m0s\u001b[0m 96ms/step\n",
            "\u001b[1m1/1\u001b[0m \u001b[32m━━━━━━━━━━━━━━━━━━━━\u001b[0m\u001b[37m\u001b[0m \u001b[1m0s\u001b[0m 99ms/step\n",
            "\u001b[1m1/1\u001b[0m \u001b[32m━━━━━━━━━━━━━━━━━━━━\u001b[0m\u001b[37m\u001b[0m \u001b[1m0s\u001b[0m 98ms/step\n",
            "\u001b[1m1/1\u001b[0m \u001b[32m━━━━━━━━━━━━━━━━━━━━\u001b[0m\u001b[37m\u001b[0m \u001b[1m0s\u001b[0m 40ms/step\n",
            "\u001b[1m1/1\u001b[0m \u001b[32m━━━━━━━━━━━━━━━━━━━━\u001b[0m\u001b[37m\u001b[0m \u001b[1m0s\u001b[0m 57ms/step\n",
            "\u001b[1m1/1\u001b[0m \u001b[32m━━━━━━━━━━━━━━━━━━━━\u001b[0m\u001b[37m\u001b[0m \u001b[1m0s\u001b[0m 63ms/step\n",
            "\u001b[1m1/1\u001b[0m \u001b[32m━━━━━━━━━━━━━━━━━━━━\u001b[0m\u001b[37m\u001b[0m \u001b[1m0s\u001b[0m 59ms/step\n",
            "\u001b[1m1/1\u001b[0m \u001b[32m━━━━━━━━━━━━━━━━━━━━\u001b[0m\u001b[37m\u001b[0m \u001b[1m0s\u001b[0m 84ms/step\n",
            "\u001b[1m1/1\u001b[0m \u001b[32m━━━━━━━━━━━━━━━━━━━━\u001b[0m\u001b[37m\u001b[0m \u001b[1m0s\u001b[0m 89ms/step\n",
            "\u001b[1m1/1\u001b[0m \u001b[32m━━━━━━━━━━━━━━━━━━━━\u001b[0m\u001b[37m\u001b[0m \u001b[1m0s\u001b[0m 99ms/step\n",
            "\u001b[1m1/1\u001b[0m \u001b[32m━━━━━━━━━━━━━━━━━━━━\u001b[0m\u001b[37m\u001b[0m \u001b[1m0s\u001b[0m 49ms/step\n",
            "\u001b[1m1/1\u001b[0m \u001b[32m━━━━━━━━━━━━━━━━━━━━\u001b[0m\u001b[37m\u001b[0m \u001b[1m0s\u001b[0m 57ms/step\n",
            "\u001b[1m1/1\u001b[0m \u001b[32m━━━━━━━━━━━━━━━━━━━━\u001b[0m\u001b[37m\u001b[0m \u001b[1m0s\u001b[0m 66ms/step\n",
            "\u001b[1m1/1\u001b[0m \u001b[32m━━━━━━━━━━━━━━━━━━━━\u001b[0m\u001b[37m\u001b[0m \u001b[1m0s\u001b[0m 61ms/step\n",
            "\u001b[1m1/1\u001b[0m \u001b[32m━━━━━━━━━━━━━━━━━━━━\u001b[0m\u001b[37m\u001b[0m \u001b[1m0s\u001b[0m 80ms/step\n",
            "\u001b[1m1/1\u001b[0m \u001b[32m━━━━━━━━━━━━━━━━━━━━\u001b[0m\u001b[37m\u001b[0m \u001b[1m0s\u001b[0m 90ms/step\n",
            "\u001b[1m1/1\u001b[0m \u001b[32m━━━━━━━━━━━━━━━━━━━━\u001b[0m\u001b[37m\u001b[0m \u001b[1m0s\u001b[0m 118ms/step\n",
            "\u001b[1m1/1\u001b[0m \u001b[32m━━━━━━━━━━━━━━━━━━━━\u001b[0m\u001b[37m\u001b[0m \u001b[1m0s\u001b[0m 46ms/step\n",
            "\u001b[1m1/1\u001b[0m \u001b[32m━━━━━━━━━━━━━━━━━━━━\u001b[0m\u001b[37m\u001b[0m \u001b[1m0s\u001b[0m 53ms/step\n",
            "\u001b[1m1/1\u001b[0m \u001b[32m━━━━━━━━━━━━━━━━━━━━\u001b[0m\u001b[37m\u001b[0m \u001b[1m0s\u001b[0m 62ms/step\n",
            "\u001b[1m1/1\u001b[0m \u001b[32m━━━━━━━━━━━━━━━━━━━━\u001b[0m\u001b[37m\u001b[0m \u001b[1m0s\u001b[0m 60ms/step\n",
            "\u001b[1m1/1\u001b[0m \u001b[32m━━━━━━━━━━━━━━━━━━━━\u001b[0m\u001b[37m\u001b[0m \u001b[1m0s\u001b[0m 78ms/step\n",
            "\u001b[1m1/1\u001b[0m \u001b[32m━━━━━━━━━━━━━━━━━━━━\u001b[0m\u001b[37m\u001b[0m \u001b[1m0s\u001b[0m 88ms/step\n",
            "\u001b[1m1/1\u001b[0m \u001b[32m━━━━━━━━━━━━━━━━━━━━\u001b[0m\u001b[37m\u001b[0m \u001b[1m0s\u001b[0m 98ms/step\n",
            "\u001b[1m1/1\u001b[0m \u001b[32m━━━━━━━━━━━━━━━━━━━━\u001b[0m\u001b[37m\u001b[0m \u001b[1m0s\u001b[0m 46ms/step\n",
            "\u001b[1m1/1\u001b[0m \u001b[32m━━━━━━━━━━━━━━━━━━━━\u001b[0m\u001b[37m\u001b[0m \u001b[1m0s\u001b[0m 53ms/step\n",
            "\u001b[1m1/1\u001b[0m \u001b[32m━━━━━━━━━━━━━━━━━━━━\u001b[0m\u001b[37m\u001b[0m \u001b[1m0s\u001b[0m 61ms/step\n",
            "\u001b[1m1/1\u001b[0m \u001b[32m━━━━━━━━━━━━━━━━━━━━\u001b[0m\u001b[37m\u001b[0m \u001b[1m0s\u001b[0m 62ms/step\n",
            "\u001b[1m1/1\u001b[0m \u001b[32m━━━━━━━━━━━━━━━━━━━━\u001b[0m\u001b[37m\u001b[0m \u001b[1m0s\u001b[0m 82ms/step\n",
            "\u001b[1m1/1\u001b[0m \u001b[32m━━━━━━━━━━━━━━━━━━━━\u001b[0m\u001b[37m\u001b[0m \u001b[1m0s\u001b[0m 94ms/step\n",
            "\u001b[1m1/1\u001b[0m \u001b[32m━━━━━━━━━━━━━━━━━━━━\u001b[0m\u001b[37m\u001b[0m \u001b[1m0s\u001b[0m 106ms/step\n",
            "\u001b[1m1/1\u001b[0m \u001b[32m━━━━━━━━━━━━━━━━━━━━\u001b[0m\u001b[37m\u001b[0m \u001b[1m0s\u001b[0m 45ms/step\n",
            "\u001b[1m1/1\u001b[0m \u001b[32m━━━━━━━━━━━━━━━━━━━━\u001b[0m\u001b[37m\u001b[0m \u001b[1m0s\u001b[0m 53ms/step\n",
            "\u001b[1m1/1\u001b[0m \u001b[32m━━━━━━━━━━━━━━━━━━━━\u001b[0m\u001b[37m\u001b[0m \u001b[1m0s\u001b[0m 59ms/step\n",
            "\u001b[1m1/1\u001b[0m \u001b[32m━━━━━━━━━━━━━━━━━━━━\u001b[0m\u001b[37m\u001b[0m \u001b[1m0s\u001b[0m 61ms/step\n",
            "\u001b[1m1/1\u001b[0m \u001b[32m━━━━━━━━━━━━━━━━━━━━\u001b[0m\u001b[37m\u001b[0m \u001b[1m0s\u001b[0m 80ms/step\n",
            "\u001b[1m1/1\u001b[0m \u001b[32m━━━━━━━━━━━━━━━━━━━━\u001b[0m\u001b[37m\u001b[0m \u001b[1m0s\u001b[0m 90ms/step\n",
            "\u001b[1m1/1\u001b[0m \u001b[32m━━━━━━━━━━━━━━━━━━━━\u001b[0m\u001b[37m\u001b[0m \u001b[1m0s\u001b[0m 107ms/step\n",
            "Layer input_encoder:\n",
            "Nilai terbesar global: 1.0\n",
            "Nilai terkecil global: 0.10126582533121109\n",
            "\n",
            "Layer intermediate_layer:\n",
            "Nilai terbesar global: 3.88690447807312\n",
            "Nilai terkecil global: 0.0\n",
            "\n",
            "Layer z_mean:\n",
            "Nilai terbesar global: 2.561795234680176\n",
            "Nilai terkecil global: -1.678579568862915\n",
            "\n",
            "Layer z_var:\n",
            "Nilai terbesar global: 0.00020106539886910468\n",
            "Nilai terkecil global: 1.5534257297926228e-14\n",
            "\n",
            "Layer sampling_layer:\n",
            "Nilai terbesar global: 2.5616719722747803\n",
            "Nilai terkecil global: -1.6785964965820312\n",
            "\n",
            "Layer hidden_classifier:\n",
            "Nilai terbesar global: 3.265845537185669\n",
            "Nilai terkecil global: 0.0\n",
            "\n",
            "Layer classifier_output:\n",
            "Nilai terbesar global: 0.9842532277107239\n",
            "Nilai terkecil global: 0.014492481015622616\n",
            "\n"
          ]
        }
      ],
      "source": [
        "# Range output tiap layer\n",
        "from tensorflow.keras.models import Model\n",
        "import numpy as np\n",
        "\n",
        "# Misalkan 'classifier' adalah model Anda\n",
        "layer_outputs = [layer.output for layer in classifier.layers]  # Dapatkan output dari setiap layer\n",
        "layer_names = [layer.name for layer in classifier.layers]      # Dapatkan nama dari setiap layer\n",
        "\n",
        "# Inisialisasi variabel untuk menyimpan nilai max dan min global\n",
        "global_max_values = {name: -np.inf for name in layer_names}\n",
        "global_min_values = {name: np.inf for name in layer_names}\n",
        "\n",
        "# Loop melalui semua sample index\n",
        "for sample_index in range(20):\n",
        "    single_input = X_test[sample_index]\n",
        "\n",
        "    for layer_name, layer_output in zip(layer_names, layer_outputs):\n",
        "        intermediate_layer_model = Model(inputs=classifier.input, outputs=layer_output)\n",
        "        intermediate_output = intermediate_layer_model.predict(np.array([single_input]))\n",
        "\n",
        "        # Cari nilai terbesar dan terkecil untuk sample ini\n",
        "        max_value = np.max(intermediate_output)\n",
        "        min_value = np.min(intermediate_output)\n",
        "\n",
        "        # Update nilai max dan min global\n",
        "        if max_value > global_max_values[layer_name]:\n",
        "            global_max_values[layer_name] = max_value\n",
        "        if min_value < global_min_values[layer_name]:\n",
        "            global_min_values[layer_name] = min_value\n",
        "\n",
        "# Cetak nilai max dan min global untuk setiap layer\n",
        "for layer_name in layer_names:\n",
        "    print(f\"Layer {layer_name}:\")\n",
        "    print(f\"Nilai terbesar global: {global_max_values[layer_name]}\")\n",
        "    print(f\"Nilai terkecil global: {global_min_values[layer_name]}\\n\")\n"
      ]
    },
    {
      "cell_type": "code",
      "execution_count": null,
      "metadata": {
        "colab": {
          "base_uri": "https://localhost:8080/"
        },
        "id": "Gy0-gqrly-Mk",
        "outputId": "ceca261c-02c3-4eda-82ef-1eb8da3bd7ee"
      },
      "outputs": [
        {
          "output_type": "stream",
          "name": "stdout",
          "text": [
            "Single input for the selected sample: [0.75776398 0.73913043 0.72049689 0.77329193 0.76397516 0.7484472\n",
            " 0.72981366 0.7484472  0.73602484 0.75776398]\n",
            "True label for the selected sample: False\n",
            "\u001b[1m1/1\u001b[0m \u001b[32m━━━━━━━━━━━━━━━━━━━━\u001b[0m\u001b[37m\u001b[0m \u001b[1m0s\u001b[0m 36ms/step\n",
            "Input: [0.75776398 0.73913043 0.72049689 0.77329193 0.76397516 0.7484472\n",
            " 0.72981366 0.7484472  0.73602484 0.75776398]\n",
            "Predicted Output: False\n"
          ]
        }
      ],
      "source": [
        "# Testing input\n",
        "import numpy as np\n",
        "\n",
        "sample_index = 9 # You can change this to any valid index in the test set\n",
        "\n",
        "# Get the single input and true label\n",
        "single_input = X_test[sample_index]\n",
        "true_label = Y_test[sample_index]\n",
        "\n",
        "# Print the true label\n",
        "print(f'Single input for the selected sample: {single_input}')\n",
        "print(f'True label for the selected sample: {true_label}')\n",
        "\n",
        "# Assuming X_test is your test data\n",
        "def test_single_input(model, input_data):\n",
        "    # Reshape input_data if needed, e.g., input_data = input_data.reshape(1, -1)\n",
        "    prediction = model.predict(np.array([input_data]))\n",
        "    print(f\"Input: {input_data}\")\n",
        "    print(f\"Predicted Output: {prediction[0][0] < prediction[0][1]}\")\n",
        "\n",
        "# Example usage\n",
        "test_single_input(classifier, X_test[sample_index])\n"
      ]
    },
    {
      "cell_type": "code",
      "execution_count": null,
      "metadata": {
        "colab": {
          "base_uri": "https://localhost:8080/"
        },
        "id": "OG_4tAthlwWS",
        "outputId": "384af77a-19ff-49e6-f102-7650e5415c76"
      },
      "outputs": [
        {
          "output_type": "stream",
          "name": "stdout",
          "text": [
            "\u001b[1m1/1\u001b[0m \u001b[32m━━━━━━━━━━━━━━━━━━━━\u001b[0m\u001b[37m\u001b[0m \u001b[1m0s\u001b[0m 37ms/step\n",
            "\u001b[1m1/1\u001b[0m \u001b[32m━━━━━━━━━━━━━━━━━━━━\u001b[0m\u001b[37m\u001b[0m \u001b[1m0s\u001b[0m 36ms/step\n",
            "\u001b[1m1/1\u001b[0m \u001b[32m━━━━━━━━━━━━━━━━━━━━\u001b[0m\u001b[37m\u001b[0m \u001b[1m0s\u001b[0m 42ms/step\n",
            "\u001b[1m1/1\u001b[0m \u001b[32m━━━━━━━━━━━━━━━━━━━━\u001b[0m\u001b[37m\u001b[0m \u001b[1m0s\u001b[0m 36ms/step\n",
            "\u001b[1m1/1\u001b[0m \u001b[32m━━━━━━━━━━━━━━━━━━━━\u001b[0m\u001b[37m\u001b[0m \u001b[1m0s\u001b[0m 36ms/step\n",
            "\u001b[1m1/1\u001b[0m \u001b[32m━━━━━━━━━━━━━━━━━━━━\u001b[0m\u001b[37m\u001b[0m \u001b[1m0s\u001b[0m 40ms/step\n",
            "\u001b[1m1/1\u001b[0m \u001b[32m━━━━━━━━━━━━━━━━━━━━\u001b[0m\u001b[37m\u001b[0m \u001b[1m0s\u001b[0m 45ms/step\n",
            "\u001b[1m1/1\u001b[0m \u001b[32m━━━━━━━━━━━━━━━━━━━━\u001b[0m\u001b[37m\u001b[0m \u001b[1m0s\u001b[0m 39ms/step\n",
            "\u001b[1m1/1\u001b[0m \u001b[32m━━━━━━━━━━━━━━━━━━━━\u001b[0m\u001b[37m\u001b[0m \u001b[1m0s\u001b[0m 39ms/step\n",
            "\u001b[1m1/1\u001b[0m \u001b[32m━━━━━━━━━━━━━━━━━━━━\u001b[0m\u001b[37m\u001b[0m \u001b[1m0s\u001b[0m 50ms/step\n",
            "\u001b[1m1/1\u001b[0m \u001b[32m━━━━━━━━━━━━━━━━━━━━\u001b[0m\u001b[37m\u001b[0m \u001b[1m0s\u001b[0m 39ms/step\n",
            "false_count 1\n",
            "true_count 10\n"
          ]
        }
      ],
      "source": [
        "false_count = 0\n",
        "true_count = 0\n",
        "for i in range(10,21):\n",
        "  single_input = X_test[i]\n",
        "  true_label = Y_test[i]\n",
        "  prediction = classifier.predict(np.array([single_input]))\n",
        "  prediction_label = prediction[0][0] < prediction[0][1]\n",
        "\n",
        "  if true_label != prediction_label:\n",
        "    false_count +=1\n",
        "    # print(i)\n",
        "  else:\n",
        "    true_count +=1\n",
        "\n",
        "\n",
        "print(\"false_count\",false_count)\n",
        "print(\"true_count\",true_count)"
      ]
    },
    {
      "cell_type": "code",
      "execution_count": null,
      "metadata": {
        "id": "0N8v3-jIB7Zj"
      },
      "outputs": [],
      "source": [
        "# # Kode jadul\n",
        "# import tensorflow as tf\n",
        "# from tensorflow.keras.layers import Input, Dense, Lambda, Layer\n",
        "# from tensorflow.keras.models import Model\n",
        "# from tensorflow.keras.losses import mse\n",
        "# from tensorflow.keras import backend as K\n",
        "\n",
        "# # Parameters\n",
        "# input_dim = window_size  # Set this to your input dimension\n",
        "# latent_dim = 2  # Dimension of the latent space\n",
        "# intermediate_dim_1 = 16\n",
        "# intermediate_dim_2 = 8\n",
        "\n",
        "# # Encoder\n",
        "# inputs = Input(shape=(input_dim,))\n",
        "# h1 = Dense(intermediate_dim_1, activation='relu')(inputs)\n",
        "# h2 = Dense(intermediate_dim_2, activation='relu')(h1)\n",
        "# z_mean = Dense(latent_dim)(h2)\n",
        "# z_log_var = Dense(latent_dim)(h2)\n",
        "\n",
        "# # Reparameterization trick\n",
        "# def sampling(args):\n",
        "#     z_mean, z_log_var = args\n",
        "#     epsilon = K.random_normal(shape=(K.shape(z_mean)[0], latent_dim))\n",
        "#     return z_mean + K.exp(0.5 * z_log_var) * epsilon\n",
        "\n",
        "# z = Lambda(sampling, output_shape=(latent_dim,))([z_mean, z_log_var])\n",
        "\n",
        "# # Decoder\n",
        "# decoder_h1 = Dense(intermediate_dim_2, activation='relu')\n",
        "# decoder_h2 = Dense(intermediate_dim_1, activation='relu')\n",
        "# decoder_mean = Dense(input_dim, activation='sigmoid')  # Use 'sigmoid' if input is normalized [0, 1]\n",
        "\n",
        "# h_decoded1 = decoder_h1(z)\n",
        "# h_decoded2 = decoder_h2(h_decoded1)\n",
        "# x_decoded_mean = decoder_mean(h_decoded2)\n",
        "\n",
        "# # VAE model\n",
        "# vae = Model(inputs, x_decoded_mean)\n",
        "\n",
        "# # Custom loss layer\n",
        "# class VAELossLayer(Layer):\n",
        "#     def __init__(self, **kwargs):\n",
        "#         super(VAELossLayer, self).__init__(**kwargs)\n",
        "\n",
        "#     def call(self, inputs):\n",
        "#         x, x_decoded_mean, z_mean, z_log_var = inputs\n",
        "#         reconstruction_loss = mse(x, x_decoded_mean) * input_dim\n",
        "#         kl_loss = -0.5 * K.sum(1 + z_log_var - K.square(z_mean) - K.exp(z_log_var), axis=-1)\n",
        "#         self.add_loss(K.mean(reconstruction_loss + kl_loss))\n",
        "#         return x\n",
        "\n",
        "# # Apply custom loss layer\n",
        "# outputs = VAELossLayer()([inputs, x_decoded_mean, z_mean, z_log_var])\n",
        "\n",
        "# # Final VAE model with custom loss\n",
        "# vae = Model(inputs, outputs)\n",
        "# vae.compile(optimizer='adam')\n",
        "\n",
        "# # To train the model, use:\n",
        "# # vae.fit(x_train, x_train, epochs=50, batch_size=128)\n"
      ]
    },
    {
      "cell_type": "code",
      "execution_count": null,
      "metadata": {
        "id": "srEm8f6-CdFt"
      },
      "outputs": [],
      "source": [
        "# Compile the model\n",
        "# model.compile(optimizer=Adam(learning_rate=0.001), loss='binary_crossentropy', metrics=['accuracy'])"
      ]
    },
    {
      "cell_type": "code",
      "execution_count": null,
      "metadata": {
        "id": "A2U06hCSCoOW"
      },
      "outputs": [],
      "source": [
        "# # Train the model\n",
        "# # history = model.fit(\n",
        "# #     X_train_smote,\n",
        "# #     Y_train_smote,\n",
        "# #     epochs=5,\n",
        "# #     batch_size=32,\n",
        "# #     validation_split=0.2,\n",
        "# #     verbose=1\n",
        "# # )\n",
        "# # history = vae.fit(X_train_smote,\n",
        "# #     Y_train_smote,\n",
        "# #     epochs=50,\n",
        "# #     batch_size=128,\n",
        "# #     validation_split=0.2,\n",
        "# #     verbose=1)\n",
        "\n",
        "# history = vae.fit(X_train, X_train,  # For VAE, input and output are the same\n",
        "#                   epochs=50,\n",
        "#                   batch_size=128,\n",
        "#                   validation_data=(X_test, X_test))\n"
      ]
    },
    {
      "cell_type": "code",
      "execution_count": null,
      "metadata": {
        "id": "yLPKBOXnC7_j"
      },
      "outputs": [],
      "source": [
        "# # plt.plot(history.history['accuracy'], label='Training accuracy')\n",
        "# # plt.plot(history.history['val_accuracy'], label='Validation accuracy')\n",
        "# # plt.title('Training and Validation Accuracy')\n",
        "# # plt.xlabel('Epochs')\n",
        "# # plt.ylabel('Accuracy')\n",
        "# # plt.legend()\n",
        "# # plt.show()\n",
        "\n",
        "# plt.plot(history.history['loss'], label='Training loss')\n",
        "# plt.plot(history.history['val_loss'], label='Validation loss')\n",
        "# plt.title('Training and Validation Loss')\n",
        "# plt.xlabel('Epochs')\n",
        "# plt.ylabel('Loss')\n",
        "# plt.legend()\n",
        "# plt.show()"
      ]
    },
    {
      "cell_type": "code",
      "execution_count": null,
      "metadata": {
        "id": "Xr1lmfToefAp"
      },
      "outputs": [],
      "source": [
        "# plt.plot(history.history['loss'], label='Training loss')\n",
        "# plt.plot(history.history['val_loss'], label='Validation loss')\n",
        "# plt.title('Training and Validation Loss')\n",
        "# plt.xlabel('Epochs')\n",
        "# plt.ylabel('Loss')\n",
        "# plt.legend()\n",
        "# plt.show()"
      ]
    },
    {
      "cell_type": "code",
      "execution_count": null,
      "metadata": {
        "id": "NfkW0H45gS4R"
      },
      "outputs": [],
      "source": [
        "# Evaluate the model and print the accuracy\n",
        "# loss, accuracy = model.evaluate(X_test, Y_test, verbose=0)\n",
        "# print(f'Test accuracy: {accuracy}')\n",
        "# print(f'Loss: {loss}')"
      ]
    },
    {
      "cell_type": "markdown",
      "metadata": {
        "id": "cDQsoPMC4XAT"
      },
      "source": [
        "## Exporting the Model"
      ]
    },
    {
      "cell_type": "code",
      "execution_count": null,
      "metadata": {
        "id": "cNgI4fKW4ZsE"
      },
      "outputs": [],
      "source": [
        "# # Convert the model to the TensorFlow Lite format without quantization\n",
        "# # converter = tf.lite.TFLiteConverter.from_keras_model(model)\n",
        "# converter = tf.lite.TFLiteConverter.from_keras_model(vae)\n",
        "# tflite_model = converter.convert()\n",
        "\n",
        "# # Save the module to a file\n",
        "# with open('model.tflite', 'wb') as f:\n",
        "#   f.write(tflite_model)"
      ]
    },
    {
      "cell_type": "code",
      "execution_count": null,
      "metadata": {
        "id": "lpthXXKf489j"
      },
      "outputs": [],
      "source": [
        "# !apt-get -qq install xxd\n",
        "# !xxd -i model.tflite > model.cpp\n",
        "# !cat model.cpp"
      ]
    },
    {
      "cell_type": "code",
      "execution_count": null,
      "metadata": {
        "id": "JUt7RctvWz0T"
      },
      "outputs": [],
      "source": [
        "# from tensorflow.keras.utils import plot_model\n",
        "# plot_model(vae, to_file='model.png', show_shapes=True, show_layer_names=True)"
      ]
    },
    {
      "cell_type": "code",
      "execution_count": null,
      "metadata": {
        "id": "4rSNiHt5cQyx"
      },
      "outputs": [],
      "source": [
        "# # Example: Print weights and biases for all layers\n",
        "# # for i, layer in enumerate(model.layers):\n",
        "# for i, layer in enumerate(vae.layers):\n",
        "#     print(f\"Layer {i + 1}: {layer.name}\")\n",
        "#     weights = layer.get_weights()  # Returns weights and biases as a list\n",
        "#     if weights:  # Some layers may not have weights (e.g., activation layers)\n",
        "#         print(f\"  Weights: {weights[0].shape}\\n{weights[0]}\")  # Weight matrix\n",
        "#         print(f\"  Biases: {weights[1].shape}\\n{weights[1]}\")  # Bias vector\n",
        "#     else:\n",
        "#         print(\"  No weights or biases for this layer.\")\n",
        "#     print()"
      ]
    },
    {
      "cell_type": "code",
      "execution_count": null,
      "metadata": {
        "id": "IaDF0ZuyliEC"
      },
      "outputs": [],
      "source": [
        "# # Test kode\n",
        "# import numpy as np\n",
        "\n",
        "# # Select a sample index from the test set\n",
        "# sample_index = 2  # You can change this to any valid index in the test set\n",
        "\n",
        "# # Get the single input and true label\n",
        "# single_input = X_test[sample_index]\n",
        "# true_label = Y_test[sample_index]\n",
        "\n",
        "# # Print the true label\n",
        "# print(f'Single input for the selected sample: {single_input}')\n",
        "# print(f'True label for the selected sample: {true_label}')\n",
        "\n",
        "# # Reshape the input to include the batch dimension\n",
        "# single_input = single_input.reshape(1, -1)  # Shape becomes (1, input_dim)\n",
        "\n",
        "# # Use the model to predict\n",
        "# prediction = vae.predict(single_input)\n",
        "\n",
        "# # Print the prediction\n",
        "# print(f'Prediction for the selected sample: {prediction}')\n",
        "\n",
        "# # Assuming binary classification\n",
        "# threshold = 0.5\n",
        "# predicted_label = (prediction > threshold).astype(int)\n",
        "\n",
        "# print(f'Predicted label for the selected sample: {predicted_label[0][0]}')\n"
      ]
    }
  ],
  "metadata": {
    "colab": {
      "provenance": []
    },
    "kernelspec": {
      "display_name": "Python 3",
      "name": "python3"
    },
    "language_info": {
      "name": "python"
    }
  },
  "nbformat": 4,
  "nbformat_minor": 0
}
